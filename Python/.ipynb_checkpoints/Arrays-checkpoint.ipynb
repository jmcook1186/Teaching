{
 "cells": [
  {
   "cell_type": "markdown",
   "metadata": {},
   "source": [
    "# Arrays in Python"
   ]
  },
  {
   "cell_type": "markdown",
   "metadata": {},
   "source": [
    "To be effective as data scientists we must understand how data is stored and abstracted, as this will enable us to make appropriate decisions about data ingestion, storage, manipulation and interpretation. In this session we will look specifically at arrays in Python - one of the most important data structures. Raw python and NumPy treat arrays differently - a distinction that underpins much of the data science that follows later in this course.\n",
    "\n",
    "## Python data structures: the double edged sword\n",
    "\n",
    "One of the major strengths of Python is that it is a <i><b> dynamically typed </b></i> language. This means a name can be linked to an object whose type changes at different times during the execution of some Python code. This gives great flexibility and makes Python easy and intuitive to use to write complex code.\n",
    "    \n",
    "The alternative to dynamically typed languages are <i><b> static typed </b></i> languages, such as C and Java. In statically-typed languages the type of each variable must be declared and held constant throughout the code execution.\n",
    "    \n",
    "With this distinction in mind, consider that Python is a high-level language built predominantly using C. That means that dynamically-typing requires manipulation of C variables \"under-the-hood\". In C, switching a variable from one type to another would lead to a compilation failure, yet Python, which is itself built using C, allows it."
   ]
  },
  {
   "cell_type": "markdown",
   "metadata": {},
   "source": [
    "Let's see that in action now - we will assign the value ten to variable \"x\" as an integer, then overwrite it as a string and a floating point value. "
   ]
  },
  {
   "cell_type": "code",
   "execution_count": 9,
   "metadata": {},
   "outputs": [],
   "source": [
    "# Demonstrating the dynamic-type nature of Python: integer, string, float\n",
    "x = 10\n",
    "x = \"ten\"\n",
    "x = 10.0"
   ]
  },
  {
   "cell_type": "code",
   "execution_count": 10,
   "metadata": {},
   "outputs": [
    {
     "name": "stdout",
     "output_type": "stream",
     "text": [
      "10.0\n"
     ]
    }
   ],
   "source": [
    "print(x)"
   ]
  },
  {
   "cell_type": "markdown",
   "metadata": {},
   "source": [
    "This enables a huge amount of flexibility for Python programmers - we don't need to explicitly assign data types to variables names and we can be effficient in juggling data-types for a single variable. However, this flexibility comes at a cost. Each Pythoin object requires additional information to be stored alongside the variable name and value to enable type-switching, which means there is a memory implication."
   ]
  },
  {
   "cell_type": "markdown",
   "metadata": {},
   "source": [
    "## What Python objects look like in memory"
   ]
  },
  {
   "cell_type": "markdown",
   "metadata": {},
   "source": [
    "Since Python is written in C, every Python object is ultimately a C structure. That structure contains the variable name and value, but also a collection of other crucial data. An integer in C is simply a name and a value (\"x\", 10). An integer in Python is a pointer to a C structure containing four items:\n",
    "\n",
    "    ob_refcnt, a reference count that helps Python silently handle memory allocation and deallocation\n",
    "    ob_type, which encodes the type of the variable\n",
    "    ob_size, which specifies the size of the following data members\n",
    "    ob_digit, which contains the actual integer value that we expect the Python variable to represent.\n",
    "    \n",
    "This is illustrated in Figure 1 below, where the C integer is simply a value, whereas the Python integer is a pointer to a structure with header information (the four items above) and the integer value.\n"
   ]
  },
  {
   "cell_type": "markdown",
   "metadata": {},
   "source": [
    "<img src=\"cint_vs_pyint.png\">\n",
    "\n",
    "<i> Figure 1: Integers in C and Python (Image from Jake van der Plas's Data Science Handbook) </i>"
   ]
  },
  {
   "cell_type": "markdown",
   "metadata": {},
   "source": [
    "## Python Lists and Arrays"
   ]
  },
  {
   "cell_type": "markdown",
   "metadata": {},
   "source": [
    "### Lists"
   ]
  },
  {
   "cell_type": "markdown",
   "metadata": {},
   "source": [
    "In Python collections of data can be stored together under a single variable name. A simple one-dimensional sequence of data can be stored as a list. A list is one of the simplest types of data container. Lists make use of the dynamic-type nature of Python, since they can contain different data types in a single container. Lists are mutable, meaning they can be altered even after their creation."
   ]
  },
  {
   "cell_type": "markdown",
   "metadata": {},
   "source": [
    "First, let's make a list containing integers..."
   ]
  },
  {
   "cell_type": "code",
   "execution_count": 50,
   "metadata": {},
   "outputs": [
    {
     "data": {
      "text/plain": [
       "[0, 1, 2, 3, 4, 5, 6, 7, 8, 9]"
      ]
     },
     "execution_count": 50,
     "metadata": {},
     "output_type": "execute_result"
    }
   ],
   "source": [
    "L = list(range(10))\n",
    "L"
   ]
  },
  {
   "cell_type": "markdown",
   "metadata": {},
   "source": [
    "Now, let's add some strings to the same container, L..."
   ]
  },
  {
   "cell_type": "code",
   "execution_count": 51,
   "metadata": {},
   "outputs": [
    {
     "data": {
      "text/plain": [
       "[0, 1, 2, 3, 4, 5, 6, 7, 8, 9, 'one', 'two', 'three']"
      ]
     },
     "execution_count": 51,
     "metadata": {},
     "output_type": "execute_result"
    }
   ],
   "source": [
    "L = L + [\"one\",\"two\",\"three\"]\n",
    "L"
   ]
  },
  {
   "cell_type": "markdown",
   "metadata": {},
   "source": [
    "Finally, let's also add some floating point numbers..."
   ]
  },
  {
   "cell_type": "code",
   "execution_count": 52,
   "metadata": {},
   "outputs": [
    {
     "data": {
      "text/plain": [
       "[0, 1, 2, 3, 4, 5, 6, 7, 8, 9, 'one', 'two', 'three', 1.0, 2.0, 3.0]"
      ]
     },
     "execution_count": 52,
     "metadata": {},
     "output_type": "execute_result"
    }
   ],
   "source": [
    "L = L + [1.0, 2.0, 3.0]\n",
    "L"
   ]
  },
  {
   "cell_type": "markdown",
   "metadata": {},
   "source": [
    "\n",
    "At this stage, we have created a list and populated it with integers. Then we made use of the mutable nature of Python lists and Python's dynamic type to add strings and floats to the list. The result is a list containing three different data types in a single list. Let's just confirm with a quick check...\n",
    "\n",
    "\n",
    " "
   ]
  },
  {
   "cell_type": "code",
   "execution_count": 54,
   "metadata": {},
   "outputs": [
    {
     "name": "stdout",
     "output_type": "stream",
     "text": [
      "container type =  <class 'list'> \n",
      "type of first element =  <class 'int'> \n",
      "type of tenth element <class 'str'> \n",
      "type of final element =  <class 'float'>\n"
     ]
    }
   ],
   "source": [
    "print(\"container type = \",type(L), \"\\ntype of first element = \", type(L[0]), \n",
    "      \"\\ntype of tenth element\", type(L[11]), \"\\ntype of final element = \", type(L[-1]))"
   ]
  },
  {
   "cell_type": "markdown",
   "metadata": {},
   "source": [
    "### Arrays"
   ]
  },
  {
   "cell_type": "markdown",
   "metadata": {},
   "source": [
    "While the capability to do this is very useful, it is also inefficient and comparatively memory-hungry. Therefore, Python offers several options for storing data in static-type containers. For example, a dynamic-type \"list\" can become a static-type \"array\". In this case, we must specify the data type for the array."
   ]
  },
  {
   "cell_type": "code",
   "execution_count": 55,
   "metadata": {},
   "outputs": [
    {
     "name": "stdout",
     "output_type": "stream",
     "text": [
      "integer array =  array('i', [0, 1, 2, 3, 4, 5, 6, 7, 8, 9])\n",
      "float array =  array('f', [0.0, 1.0, 2.0, 3.0, 4.0, 5.0, 6.0, 7.0, 8.0, 9.0])\n"
     ]
    }
   ],
   "source": [
    "import array\n",
    "L = list(range(10)) # make list containing ten integers\n",
    "integer_array = array.array('i',L) # convert list to static-type array of integers\n",
    "float_array = array.array('f',L) # convert list L to static-type array of floats\n",
    "\n",
    "print(\"integer array = \", integer_array)\n",
    "print(\"float array = \", float_array)"
   ]
  },
  {
   "cell_type": "markdown",
   "metadata": {},
   "source": [
    "### NumPy arrays"
   ]
  },
  {
   "cell_type": "markdown",
   "metadata": {},
   "source": [
    "The size of the array in memory is much less than the size of the list because the type is static and the header information required for each object is reduced. The Python package \"NumPy\" (numerical python) has its own array structure that is also static-type. However, there is also a rich collection of operations designed specifically to operate efficiently on numpy arrays."
   ]
  },
  {
   "cell_type": "markdown",
   "metadata": {},
   "source": [
    "First we will import numpy under the alias np, then convert our list, integer array and float array to numpy arrays."
   ]
  },
  {
   "cell_type": "code",
   "execution_count": 70,
   "metadata": {},
   "outputs": [
    {
     "name": "stdout",
     "output_type": "stream",
     "text": [
      "A type =  <class 'numpy.ndarray'> A content type =  <class 'numpy.int64'> A contents =  [0 1 2 3 4 5 6 7 8 9]\n",
      "B type =  <class 'numpy.ndarray'> B content type =  <class 'numpy.int32'> B contents =  [0 1 2 3 4 5 6 7 8 9]\n",
      "C type =  <class 'numpy.ndarray'> C content type =  <class 'numpy.float32'> C contents =  [0. 1. 2. 3. 4. 5. 6. 7. 8. 9.]\n"
     ]
    }
   ],
   "source": [
    "import numpy as np\n",
    "\n",
    "A = np.array(L)\n",
    "B = np.array(integer_array)\n",
    "C = np.array(float_array)\n",
    "\n",
    "print(\"A type = \", type(A), \"A content type = \", type(A[0]), \"A contents = \", A)\n",
    "print(\"B type = \", type(B), \"B content type = \", type(B[0]), \"B contents = \", B)\n",
    "print(\"C type = \", type(C), \"C content type = \", type(C[0]), \"C contents = \", C)"
   ]
  },
  {
   "cell_type": "markdown",
   "metadata": {},
   "source": [
    "Notice that the type of all three containers are numpy arrays, but the types of the contents differ in each array. The original list is converted into 64 bit integers. Where we have defined the data type as \"integer\" it has been as 32 bit integers. In array C the floating point numbers from \"float_array\" are still floating point numbers. We can change the data type by explicitly defining it in the array creation."
   ]
  },
  {
   "cell_type": "code",
   "execution_count": 71,
   "metadata": {},
   "outputs": [
    {
     "name": "stdout",
     "output_type": "stream",
     "text": [
      "Type of container =  <class 'numpy.ndarray'> type of content =  <class 'numpy.int64'>\n",
      "[0 1 2 3 4 5 6 7 8 9]\n"
     ]
    }
   ],
   "source": [
    "A = np.array(L,dtype=\"int64\")\n",
    "print(\"Type of container = \", type(A), \"type of content = \", type(A[0]))\n",
    "print(A)"
   ]
  },
  {
   "cell_type": "markdown",
   "metadata": {},
   "source": [
    "The very lightweight Python list and array containers are very thin wrappers around C structures so they can be faster and more memory-efficient to work with than the same data stored in a numpy array. However, as soon as we start doing mathematical operations over the data the implicit vectorization and efficient storage of the numpy array wins out. We can test this by applying a simple function to an arbitrary dataset stored in a python array and a numpy array and printing the time taken for the function to run over each container type."
   ]
  },
  {
   "cell_type": "code",
   "execution_count": 94,
   "metadata": {},
   "outputs": [
    {
     "name": "stdout",
     "output_type": "stream",
     "text": [
      "numpy:\n",
      "2.84 µs ± 43.3 ns per loop (mean ± std. dev. of 7 runs, 100000 loops each)\n",
      "python array:\n",
      "4.71 µs ± 57.4 ns per loop (mean ± std. dev. of 7 runs, 100000 loops each)\n",
      "list:\n",
      "4.6 µs ± 85.8 ns per loop (mean ± std. dev. of 7 runs, 100000 loops each)\n"
     ]
    }
   ],
   "source": [
    "numpy_array = np.array(range(10),dtype='int8')\n",
    "python_array = array.array('i',range(10))\n",
    "python_list = list(range(10))\n",
    "\n",
    "print(\"numpy:\")\n",
    "%timeit [numpy_array ** i for i in np.arange(0,1,10000)] # use the ipython \"magic\" feature timeit\n",
    "print(\"python array:\")\n",
    "%timeit [python_array ** i for i in np.arange(0,1,10000)]\n",
    "print(\"list:\")\n",
    "%timeit [python_list ** i for i in np.arange(0,1,10000)]"
   ]
  },
  {
   "cell_type": "markdown",
   "metadata": {},
   "source": []
  },
  {
   "cell_type": "code",
   "execution_count": null,
   "metadata": {},
   "outputs": [],
   "source": []
  }
 ],
 "metadata": {
  "kernelspec": {
   "display_name": "Python [conda env:JupyterEnv] *",
   "language": "python",
   "name": "conda-env-JupyterEnv-py"
  },
  "language_info": {
   "codemirror_mode": {
    "name": "ipython",
    "version": 3
   },
   "file_extension": ".py",
   "mimetype": "text/x-python",
   "name": "python",
   "nbconvert_exporter": "python",
   "pygments_lexer": "ipython3",
   "version": "3.7.4"
  }
 },
 "nbformat": 4,
 "nbformat_minor": 2
}
