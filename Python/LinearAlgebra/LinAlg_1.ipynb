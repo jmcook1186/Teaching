{
 "cells": [
  {
   "cell_type": "markdown",
   "metadata": {},
   "source": [
    "# Linear Algebra 1\n",
    "\n",
    "## Simple operations on vectors and matrices, systems of equations \n"
   ]
  },
  {
   "cell_type": "markdown",
   "metadata": {},
   "source": [
    "This notebook will examine some basic linear algebra concepts by coding them in Python. I will generally try to avoid using functions from packages such as NumPy and SciPy because they tend to abstract away the critical details that are reqired to understand the mechanics of the calculations we aim to understand. This is the first notebook in a short series and its scope includes simple mathematical operations on vectors and matrices and solving systems of equations using Gaussian and Gauss-Jordan elimination. Related concepts such as null space, row/column space, determinants, eigenvectors etc etc will be included in future notebooks.\n"
   ]
  },
  {
   "cell_type": "markdown",
   "metadata": {},
   "source": [
    "## 1 Vectors\n",
    "### 1.1 What are vectors?"
   ]
  },
  {
   "cell_type": "markdown",
   "metadata": {},
   "source": [
    "Vectors are..."
   ]
  },
  {
   "cell_type": "markdown",
   "metadata": {},
   "source": [
    "### 1.2 Operations on vectors"
   ]
  },
  {
   "cell_type": "code",
   "execution_count": 2,
   "metadata": {},
   "outputs": [],
   "source": [
    "import numpy as np\n",
    "import matplotlib.pyplot as plt"
   ]
  },
  {
   "cell_type": "markdown",
   "metadata": {},
   "source": [
    "## Dot Products"
   ]
  },
  {
   "cell_type": "markdown",
   "metadata": {},
   "source": [
    "### The concept\n",
    "\n",
    "The dot product is a flavour of multiplication that takes into account the similarities between two vectors. It is often described as \"directional multiplication\" or \"the push that one vector gives another\" or \"applying one vector to another\". It can be thought of as a measure of similarity because it operates on shared dimensions and ignores interactions between different dimensions, i.e. the sum of (x * x, y * y, z * z). It returns a scalar - i.e. a single digit, a point, a dot! \n",
    "\n",
    "The dot product returns a scalar from two vectors, or a vector from a matrix and a vector. \n",
    "\n",
    "#### 1. The rectangular interpretation\n",
    "\n",
    "The dot product multiplies the x component and the y component of two vectors:\n",
    "\n",
    "\\.\n",
    "\n",
    "<img src=\"dot_diagram.png\" width=\"500\"/>\n",
    "\n",
    "\n",
    "#### 2. The rotational interpretation\n",
    "\n",
    "The dot product can be thought of as multiplying two vectors after one has been projected onto the other (i.e. it has been rotated so that both vectors line up).\n",
    "\n",
    "\n",
    "My favourite is the Mario Karts analogy explained here: https://betterexplained.com/articles/vector-calculus-understanding-the-dot-product/. In this game there are speed boosters on the track that give a greater acceleration to karts travelling parallel to the booster, wth diminishing acceleration as the kart's direction of travel becomes more perpendicular to the booster. The boost (a scalar multiplier of the kart's pre-boost velocity) is calculated as the dot product of the velocity of the kart and the velocity of the booster. This means if the kart is travelling at 0 m/s the boost is 0 (scalar * 0 = 0) and if the kart is travelling perpendicular to the booster the boost is 0 (because the component of the karts velocity vector that aligns with the booster is 0, so scalar * 0 = 0).\n",
    "\n",
    "### The calculation\n",
    "\n",
    "There are two ways to calculate the dot product. The first uses the law of cosines, the second is the sum of products.\n",
    "\n",
    "\n",
    "$a⋅b = ∥a∥ ∥b∥ cosθ$\n",
    "\n",
    "i.e. length of vector a * length of vector b * cosine of angle between vectors a and b.\n",
    "\n",
    "This method is most closely associated with the rotational explanation of the dot product, since it explicitly takes into account the angle between the two vectors.\n",
    "\n",
    "The alternative is simply to calculate the sum of element-wise products between the two vectors. i.e.\n",
    "\n",
    "$ \\Sigma (a_1b_1 , a_2b_2, ... a_n b_n) $\n",
    "\n",
    "\n",
    "### Dot Product in Python\n",
    "\n",
    "Let's start by building custom functions so we understand how the dot product is calculated. We will start with a simpe function for the sum of products method for the dot product. We will then write a short function for calculating the angle between the two vectors using a simple rearrangement of the cosine dot product equation. We will then use that angle to calculate the dot product using the law of cosines method. Finally, we will quickly check that our answers from the two methods agree with one another."
   ]
  },
  {
   "cell_type": "code",
   "execution_count": 3,
   "metadata": {},
   "outputs": [
    {
     "name": "stdout",
     "output_type": "stream",
     "text": [
      "32.0\n",
      "32\n",
      "\n",
      "RESULTS AGREE\n"
     ]
    }
   ],
   "source": [
    "######################\n",
    "# 1. Define functions\n",
    "\n",
    "def dotprod(a,b):\n",
    "    \n",
    "    \"\"\"\n",
    "    sum of products method\n",
    "    params: vector a, vector b\n",
    "    returns: result (dot product of a and b)\n",
    "    \"\"\"\n",
    "    OutList = []\n",
    "    \n",
    "    for i in np.arange(0,len(a),1):\n",
    "        \n",
    "        OutList.append(a[i]*b[i])\n",
    "    \n",
    "    result = np.sum(np.array(OutList))\n",
    "        \n",
    "    # we could alternatively use numpy built-in funcs to do this in one line without iteration\n",
    "    # result = np.sum(np.multiply(a,b)) \n",
    "    \n",
    "    return result\n",
    "\n",
    "\n",
    "def find_angle(a,b):\n",
    "    \n",
    "    \"\"\"\n",
    "    find angle between vectors a and b\n",
    "    \n",
    "    params: vector a, vector b\n",
    "    returns: angle between vectors a and b\n",
    "    \"\"\"\n",
    "    \n",
    "    a = np.array(a)\n",
    "    b = np.array(b)\n",
    "    \n",
    "    angle = (a.dot(b))/np.linalg.norm(a)*np.linalg.norm(b)\n",
    "    \n",
    "    return angle\n",
    "\n",
    "\n",
    "\n",
    "def dotprod_cosine(a,b,angle):\n",
    "    \n",
    "    \"\"\"\n",
    "    find dot product between vectors a and b using cosine method\n",
    "    \n",
    "    params: vector a, vector b\n",
    "    returns: result (dot product of a and b)\n",
    "    \n",
    "    \"\"\"\n",
    "    \n",
    "    angle = angle * (np.pi/180)\n",
    "    \n",
    "    result = np.linalg.norm(a)*np.linalg.norm(b)*np.cos(angle)\n",
    "    \n",
    "    return result\n",
    "\n",
    "\n",
    "\n",
    "######################\n",
    "# 2. Define vectors\n",
    "\n",
    "v = [4,5,6]\n",
    "w = [1,2,3]\n",
    "\n",
    "\n",
    "#######################################\n",
    "# 3. Call functions and compare results\n",
    "\n",
    "angle = find_angle(v,w)\n",
    "\n",
    "result1 = dotprod_cosine(v,w,angle)\n",
    "print(np.round(result1,0))\n",
    "\n",
    "result2 = dotprod(v,w)\n",
    "print(np.round(result2,0))\n",
    "      \n",
    "# check results agree, including numpy's .dot() function\n",
    "\n",
    "if np.round(result1,0)==np.round(result2,0)==np.round(np.dot(v,w),2):\n",
    "\n",
    "    print(\"\\nRESULTS AGREE\")\n",
    "\n",
    "else:\n",
    "    \n",
    "    print(\"RESULTS DO NOT AGREE!\")"
   ]
  },
  {
   "cell_type": "markdown",
   "metadata": {},
   "source": [
    "## Cross Product"
   ]
  },
  {
   "attachments": {
    "image.png": {
     "image/png": "[encoded data removed]"
    }
   },
   "cell_type": "markdown",
   "metadata": {},
   "source": [
    "The cross product is a cross-dimensional product - rather than meausuring similarity (shared dimensions) as the dot product does , the cross product measures dissimilarity (non-shared dimensions). \n",
    "\n",
    "The cross product between two vectors produces a third vector that is *perpendicular to both the original vectors*, i.e. a vector in the x dimension crossed with a vector in the y dimension produces a vector in the z dimension. \n",
    "\n",
    "![image.png](attachment:image.png)\n",
    "\n",
    "The magnitude (length) of that z-vector is equal to the area of the parallelogram formed by the original vectors in the x,y plane.\n",
    "\n",
    "\n",
    "The maximum magnitude of the dot product occurs when the x and y vectors are perpendicular and diminishes to zero when the x and y vectors are parallel. The concept extends to vectors in more than 2 dimensions.\n",
    "\n",
    "It is sometimes called the \"vector product\" because it returns a vector rather than a scalar value.\n",
    "\n",
    "\n",
    "### Calculation\n",
    "\n",
    "Similarly to the dot product there are multiple ways to calculate the cross product. First is the \"trigonometric\" approach and the second is the numeric approach.\n",
    "\n",
    "#### 1. The trigonometric approach \n",
    "\n",
    "The trigonometric approach multiplies the product of the length of vectors a and b by the sine of the angle between them. The result is then multiplied by the unit vector in the new dimension, to ensure the vector points in the right direction. \n",
    "\n",
    "\n",
    "$a × b = |a| |b| sin(θ) n$\n",
    "\n",
    "\n",
    "\n",
    "#### 2. The numeric approach\n",
    "\n",
    "The numeric approach calculates the difference between the products of the vectors in non-matching dimensions (i.e. for vector a and vector b that exist in dimensions x,y,z, we are *not* interested in $ ax * bx, ay * by$ or $az * bz$). So the x, y and z coordinates of the vector $c$, which is the cross product for vectors $a$ and $b$ is equal to...\n",
    "\n",
    "$cx = aybz − azby$\n",
    "\n",
    "$cy = azbx − axbz$\n",
    "\n",
    "$cz = axby − aybx$\t\n",
    "\n",
    "a simple way to see vectors in x and y dimensions producing a vector in the z dimension is to take the cross product of the unit vectors $a$ and $b$.\n",
    "\n",
    "a = [1,0,0]\n",
    "b = [0,1,0]\n",
    "\n",
    "cx = aybz - azby = 0 * 0 - 0 * 1 = 0\n",
    "cy = azbx - axbz = 0 * 0 - 1 * 0 = 0\n",
    "cz = axby - aybx = 1 * 1 - 0 * 1 = 1\n",
    "\n",
    "c = [0,0,1]\n",
    "\n",
    "\n",
    "### Cross product in Python\n",
    "\n",
    "Again we will start by building custom functions so we understand how the cross product is calculated. Then we will check the results against the NumPy built-in function."
   ]
  },
  {
   "cell_type": "code",
   "execution_count": 4,
   "metadata": {},
   "outputs": [
    {
     "name": "stdout",
     "output_type": "stream",
     "text": [
      "cross product by custom function:\n",
      "\n",
      " [-3.  6. -3.]\n",
      "\n",
      "\n",
      "cross product by NumPy func:\n",
      "\n",
      " [-3  6 -3]\n"
     ]
    }
   ],
   "source": [
    "a = [1,2,3]\n",
    "b = [4,5,6]\n",
    "\n",
    "def cross_prod(a,b):\n",
    "    \n",
    "    c = np.zeros(len(a))\n",
    "    c[0] = int(a[1]*b[2])-(a[2]*b[1])\n",
    "    c[1] = int(a[2]*b[0])-(a[0]*b[2])\n",
    "    c[2] = int(a[0]*b[1])-(a[1]*b[0])\n",
    "    \n",
    "    return c\n",
    "\n",
    "c = cross_prod(a,b)\n",
    "print(\"cross product by custom function:\\n\\n\",c)\n",
    "\n",
    "result1 = np.cross(a,b)\n",
    "print(\"\\n\\ncross product by NumPy func:\\n\\n\",result1)\n",
    "\n",
    "\n"
   ]
  },
  {
   "cell_type": "markdown",
   "metadata": {},
   "source": [
    "## 2 Matrices\n",
    "\n",
    "### 2.1 What are matrices?\n",
    "\n",
    "Matrices are arrays of numbers. Vectors are one-dimensional special cases of matrices. The concept of the matrix is fundamental to solving equations where numbers in a matrix represent the scalars applied to each coefficient - we will come back to that later. For now, we can accept that matrices are arrays of integers of >1 dimension and we can progress to examining operations on matrices, including addition/subtraction and multiplication. "
   ]
  },
  {
   "cell_type": "markdown",
   "metadata": {},
   "source": [
    "The following is a 2x2 matrix, so called because it has 2 rows and 2 columns. The notation for a matrix is generally a bold-typed capital letter, typically <b> A </b> or <b> M </b>. The shape of the matrix is denoted by the number of rows followed by number of columns."
   ]
  },
  {
   "cell_type": "code",
   "execution_count": 5,
   "metadata": {},
   "outputs": [
    {
     "name": "stdout",
     "output_type": "stream",
     "text": [
      "[[1. 1.]\n",
      " [1. 1.]]\n"
     ]
    }
   ],
   "source": [
    "import numpy as np\n",
    "\n",
    "nrows = 2\n",
    "ncols = 2\n",
    "\n",
    "# 2 x 2 matrix\n",
    "A = np.ones(shape=(nrows,ncols))\n",
    "print(A)\n",
    "\n"
   ]
  },
  {
   "cell_type": "markdown",
   "metadata": {},
   "source": [
    "Various matrix shapes can be defined by altering the number of rows and columns, for example..."
   ]
  },
  {
   "cell_type": "code",
   "execution_count": 6,
   "metadata": {},
   "outputs": [
    {
     "name": "stdout",
     "output_type": "stream",
     "text": [
      "3 x 3 matrix\n",
      "\n",
      "[[1. 1. 1.]\n",
      " [1. 1. 1.]\n",
      " [1. 1. 1.]]\n"
     ]
    }
   ],
   "source": [
    "nrows = 3\n",
    "ncols = 3\n",
    "A = np.ones(shape = (nrows,ncols))\n",
    "\n",
    "print(\"{} x {} matrix\".format(nrows,ncols))\n",
    "print()\n",
    "print(A)"
   ]
  },
  {
   "cell_type": "code",
   "execution_count": 7,
   "metadata": {},
   "outputs": [
    {
     "name": "stdout",
     "output_type": "stream",
     "text": [
      "3 x 2 matrix\n",
      "\n",
      "[[1. 1.]\n",
      " [1. 1.]\n",
      " [1. 1.]]\n"
     ]
    }
   ],
   "source": [
    "nrows = 3\n",
    "ncols = 2\n",
    "A = np.ones(shape = (nrows,ncols))\n",
    "\n",
    "print(\"{} x {} matrix\".format(nrows,ncols))\n",
    "print()\n",
    "print(A)"
   ]
  },
  {
   "cell_type": "code",
   "execution_count": 8,
   "metadata": {},
   "outputs": [
    {
     "name": "stdout",
     "output_type": "stream",
     "text": [
      "5 x 3 matrix\n",
      "\n",
      "[[1. 1. 1.]\n",
      " [1. 1. 1.]\n",
      " [1. 1. 1.]\n",
      " [1. 1. 1.]\n",
      " [1. 1. 1.]]\n"
     ]
    }
   ],
   "source": [
    "nrows = 5\n",
    "ncols = 3\n",
    "A = np.ones(shape = (nrows,ncols))\n",
    "\n",
    "print(\"{} x {} matrix\".format(nrows,ncols))\n",
    "print()\n",
    "print(A)"
   ]
  },
  {
   "cell_type": "markdown",
   "metadata": {},
   "source": [
    "#### Matrix indexing\n",
    "\n",
    "The row and column numbers give coordinate positions for each value in a matrix. Remembering that Python counts from zero, the upper element in an array is in position [ 0, 0 ] which represents the first row, first column. The second row in the first column has the index position [ 0, 1 ].\n",
    "\n",
    "e.g.\n"
   ]
  },
  {
   "cell_type": "code",
   "execution_count": 9,
   "metadata": {},
   "outputs": [
    {
     "name": "stdout",
     "output_type": "stream",
     "text": [
      "4 x 3 matrix:\n",
      "\n",
      "[[2 5 5]\n",
      " [4 8 1]\n",
      " [1 3 2]\n",
      " [5 5 6]]\n",
      "\n",
      "element [0,0]: 2\n",
      "\n",
      "element [0,3]: 5\n",
      "\n",
      "elemnt [2,1]: 3\n"
     ]
    }
   ],
   "source": [
    "A = np.array([[2,5, 5],[4,8, 1],[1,3, 2],[5,5,6]])\n",
    "\n",
    "print(\"4 x 3 matrix:\\n\")\n",
    "print(A)\n",
    "print(\"\\nelement [0,0]: {}\".format(A[0,0]))\n",
    "print(\"\\nelement [0,3]: {}\".format(A[0,2]))\n",
    "print(\"\\nelemnt [2,1]: {}\".format(A[2,1]))"
   ]
  },
  {
   "cell_type": "markdown",
   "metadata": {},
   "source": [
    "### 2.2 Matrix operations \n",
    "\n",
    "We can perform mathematical operations on matrices. We will begin by exploring the mechanics of matrix addition, subtraction and multiplication as we did for vectors. On first acquaintance it feels counterintuitive that matrix multiplication is not achieved by simply taking the product of equivalent elements in multiple matrices, especially when we have encountered elementwise matrix addition and subtraction. For now, we will simply accept that matrix multiplication is an unusual operation then later on, after we have described matrices as a notation style for systems of linear equations, we will be better equipped to develop an intuition for why we have this unusual system for multiplying matrices. \n",
    "\n",
    "### 2.2.1 Matrix Addition\n",
    "\n",
    "We can add matrices by simply summing values in equivalent positions in each of the matrices. In the following example we define two matrices, <b> A </b> and <b> B </b>. The sum of the two matrices is a new matrix, <b> C </b>, where <b>C</b> [ i, j ] is equal to <b>A</b> [ i, j ] + <b>B</b>[ i, j ] where i is the row numbers and j is the column number, for all rows and columns. Subtraction is achieved in the same element-wise fashion.\n"
   ]
  },
  {
   "cell_type": "code",
   "execution_count": 10,
   "metadata": {},
   "outputs": [
    {
     "name": "stdout",
     "output_type": "stream",
     "text": [
      "\n",
      "Matrix A:\n",
      "\n",
      "[[2 5 5]\n",
      " [4 8 1]\n",
      " [1 3 2]\n",
      " [5 5 6]]\n",
      "\n",
      "Matrix B:\n",
      "\n",
      "[[1 0 5]\n",
      " [3 5 6]\n",
      " [4 4 3]\n",
      " [6 2 3]]\n",
      "\n",
      "Sum of Matrix A and Matrix B:\n",
      "\n",
      "[[ 3  5 10]\n",
      " [ 7 13  7]\n",
      " [ 5  7  5]\n",
      " [11  7  9]]\n"
     ]
    }
   ],
   "source": [
    "A = np.array([[2, 5, 5],[4, 8, 1],[1, 3, 2],[5, 5, 6]])\n",
    "B = np.array([[1, 0, 5],[3, 5, 6],[4, 4, 3],[6, 2, 3]])\n",
    "\n",
    "C = A+B\n",
    "\n",
    "print(\"\\nMatrix A:\\n\")\n",
    "print(A)\n",
    "print(\"\\nMatrix B:\\n\")\n",
    "print(B)\n",
    "print(\"\\nSum of Matrix A and Matrix B:\\n\")\n",
    "print(C)\n"
   ]
  },
  {
   "cell_type": "markdown",
   "metadata": {},
   "source": [
    "### 2.2.2 Matrix Multiplication\n",
    "\n",
    "Unlike matrix addition and subtraction, matrix multiplication is not achieved by multiplying values in equivalent positions in each matrix. The result of a matrix multiplied by a matrix is another matrix, e.g. <b>AB</b> = <b>C</b>.\n",
    "\n",
    "The matrix product, <b>C</b> is generated by summing the product of rows in A and columns in B. e.g. to multiply 2 x 2 matrices <b>A</b> and <b>B</b> we follow:\n",
    "\n",
    "C[0,0] = (A[0,0] * B[0,0]) + (A[0,1] + B[1,0]) \n",
    "\n",
    "C[0,1] = (A[0,0] * B[0,1]) + (A[0,1] + B[1,1])\n",
    "\n",
    "i.e to calculate the upper left element, we take the values in the first row of <b>A</b> and the first column of <b>B</b>. We multiply the first element in the first row of <b>A</b> by the first value in the first row of <b>B</b>. Then we multiply the second element in the first row of <b>A</b> by the second element in the first row of <b>B</b>. We repeat this for all elements in the first row of <b>A</b> and first column of <b>B</b>. We then sum all the products to return a scalar that becomes the first element of the matrix product <b>C</b>. The upper right element in <b>C</b> is generated in the same way, but by summing the products of elements in the first row of <b>A</b> with the second column of <b>B</b>.\n",
    "\n",
    "Let's look at an example explicitly programmed in Python:"
   ]
  },
  {
   "cell_type": "code",
   "execution_count": 11,
   "metadata": {},
   "outputs": [
    {
     "name": "stdout",
     "output_type": "stream",
     "text": [
      "Matrix A\n",
      "\n",
      "[[0 2]\n",
      " [1 3]]\n",
      "\n",
      "Matrix B\n",
      "\n",
      "[[0 2]\n",
      " [1 3]]\n",
      "\n",
      "Matrix product C (AB):\n",
      "\n",
      "[[ 2  6]\n",
      " [ 3 11]]\n"
     ]
    }
   ],
   "source": [
    "A = np.array([[0,2],[1,3]])\n",
    "print(\"Matrix A\\n\")\n",
    "print(A)\n",
    "print()\n",
    "print(\"Matrix B\\n\")\n",
    "B = np.array([[0,2],[1,3]])\n",
    "print(B)\n",
    "\n",
    "# to multiply the matrices together we sum to products of rows in A and columns in B\n",
    "\n",
    "C = np.zeros(shape=A.shape)\n",
    "\n",
    "C[0,0] = (A[0,0]*B[0,0]) + (A[0,1]*B[1,0]) # upper L value = sum(0th row of A * 0th col of B) \n",
    "C[0,1] = (A[0,0]*B[0,1]) + (A[0,1]*B[1,1]) # upper R value = sum(0th row of A * 1st col of B) \n",
    "C[1,0] = (A[1,0]*B[0,0]) + (A[1,1]*B[1,0]) # lower L value = sum(1st row of A * 0th col of B) \n",
    "C[1,1] = (A[1,0]*B[0,1]) + (A[1,1]*B[1,1]) # lower R value = sum(1st row of A * 1st col of B) \n",
    "\n",
    "print()\n",
    "print(\"Matrix product C (AB):\\n\")\n",
    "print(C.astype(int))\n",
    "\n"
   ]
  },
  {
   "cell_type": "markdown",
   "metadata": {},
   "source": [
    "This was just about tractable for a 2x2 matrix, but programming the solution in this explicit way is not viable for large matrices. Thankfully, there are built-in operators in Python that can do matrix multiplication for us, very quickly. The relevant operator is @, such that the syntax for matrix multiplication <b>C = AB</b> is <b>C = A@B</b>. This allows us to verify our calculation above and then move on to multiplying some larger matrices."
   ]
  },
  {
   "cell_type": "code",
   "execution_count": 12,
   "metadata": {},
   "outputs": [
    {
     "name": "stdout",
     "output_type": "stream",
     "text": [
      "\n",
      "[[ 2  6]\n",
      " [ 3 11]]\n",
      "\n",
      "\n",
      "CONFIRMED: the two methods return identical arrays\n",
      "\n"
     ]
    }
   ],
   "source": [
    "# use the @ operator to perform matrix multiplication on matrices A and B\n",
    "\n",
    "C2 = A@B\n",
    "print()\n",
    "print(C2)\n",
    "\n",
    "# check that C generated by our explicit programming and the @ operator return identical products\n",
    "problems = 0\n",
    "for i in np.arange(len(C[:,0])):\n",
    "    for j in np.arange(len(C[0,:])):\n",
    "        if C[i,j] != C2 [i,j]:\n",
    "            problems+=1\n",
    "\n",
    "if problems==0:\n",
    "    print(\"\\n\\nCONFIRMED: the two methods return identical arrays\\n\")\n",
    "else:\n",
    "    print(\"\\n\\nFAILED: the two methods return different arrays\\n\")"
   ]
  },
  {
   "cell_type": "markdown",
   "metadata": {},
   "source": [
    "Care must be taken to use the @ operator to perform matrix multiplication rather than the * operator that is used for scalar multiplication. If the * operator is used to multiply matrices, the multiplication will be performed element-wise where the value in each index position in <b>A</b> is multiplied by the equivalent value in <b>B</b> to give the result in <b>C</b>. NB. This assumes the matrices are NumPy arrays, using either operator on lists will cause an interpretor error. Let's quickly observe the difference between the two operators on a simple 2 x 2 matrix:"
   ]
  },
  {
   "cell_type": "code",
   "execution_count": 13,
   "metadata": {},
   "outputs": [
    {
     "name": "stdout",
     "output_type": "stream",
     "text": [
      "Using * operator for elementwise multiplication:\n",
      "\n",
      "[[0 4]\n",
      " [1 9]]\n",
      "\n",
      "Using @ operator for matrix multiplication:\n",
      "\n",
      "[[ 2  6]\n",
      " [ 3 11]]\n"
     ]
    }
   ],
   "source": [
    "A = np.array([[0,2],[1,3]])\n",
    "B = np.array([[0,2],[1,3]])\n",
    "\n",
    "\n",
    "print(\"Using * operator for elementwise multiplication:\\n\")\n",
    "print(A*B)\n",
    "print(\"\\nUsing @ operator for matrix multiplication:\\n\")\n",
    "print(A@B)"
   ]
  },
  {
   "cell_type": "markdown",
   "metadata": {},
   "source": [
    "Notice that the two matrices are not identical, because the operators represent different multiplication algorithms. The @ operator allows us to multiply very large matrices without having to explicitly program a calculation for each element, hence we can simply do the following:"
   ]
  },
  {
   "cell_type": "code",
   "execution_count": 14,
   "metadata": {},
   "outputs": [
    {
     "name": "stdout",
     "output_type": "stream",
     "text": [
      "3 x 3 matrix\n",
      "\n",
      "[[2. 2. 2.]\n",
      " [2. 2. 2.]\n",
      " [2. 2. 2.]]\n"
     ]
    }
   ],
   "source": [
    "nrows = 3\n",
    "ncols = 3\n",
    "\n",
    "A = np.ones(shape = (nrows,ncols))\n",
    "B = np.ones(shape = (nrows,ncols))\n",
    "\n",
    "C = A+B\n",
    "\n",
    "print(\"{} x {} matrix\".format(nrows,ncols))\n",
    "print()\n",
    "print(C)"
   ]
  },
  {
   "cell_type": "code",
   "execution_count": 15,
   "metadata": {},
   "outputs": [
    {
     "name": "stdout",
     "output_type": "stream",
     "text": [
      "Matrix A:\n",
      "\n",
      "[[7 0 3]\n",
      " [3 7 2]\n",
      " [8 7 7]\n",
      " [8 0 5]\n",
      " [3 6 5]]\n",
      "\n",
      "Matrix B:\n",
      "\n",
      "[[6 0 8 2 1]\n",
      " [7 8 9 2 3]\n",
      " [8 1 2 7 3]]\n",
      "\n",
      "Matrix Product C:\n",
      "\n",
      "[[ 66   3  62  35  16]\n",
      " [ 83  58  91  34  30]\n",
      " [153  63 141  79  50]\n",
      " [ 88   5  74  51  23]\n",
      " [100  53  88  53  36]]\n"
     ]
    }
   ],
   "source": [
    "A = np.random.randint(10,size=(5,3))\n",
    "\n",
    "B = np.random.randint(10,size=(3,5))\n",
    "\n",
    "C = A@B\n",
    "\n",
    "print(\"Matrix A:\\n\")\n",
    "print(A)\n",
    "print(\"\\nMatrix B:\\n\")\n",
    "print(B)\n",
    "print(\"\\nMatrix Product C:\\n\")\n",
    "print(C)"
   ]
  },
  {
   "cell_type": "markdown",
   "metadata": {},
   "source": [
    "We can use multiply very large matrices very quickly such as the 150000 element arrays in the cell below. The outputs will be trimmed for display."
   ]
  },
  {
   "cell_type": "code",
   "execution_count": 16,
   "metadata": {},
   "outputs": [
    {
     "name": "stdout",
     "output_type": "stream",
     "text": [
      "Matrix A:\n",
      "\n",
      "[[3 3 5 ... 7 9 1]\n",
      " [6 8 0 ... 0 1 9]\n",
      " [1 3 8 ... 6 4 0]\n",
      " ...\n",
      " [9 6 5 ... 5 8 8]\n",
      " [7 4 1 ... 6 9 5]\n",
      " [1 4 2 ... 2 9 1]]\n",
      "\n",
      "Matrix B:\n",
      "\n",
      "[[2 5 6 ... 6 1 4]\n",
      " [1 7 1 ... 1 8 2]\n",
      " [0 1 6 ... 7 8 7]\n",
      " ...\n",
      " [3 5 4 ... 6 6 2]\n",
      " [6 9 6 ... 9 0 0]\n",
      " [8 7 1 ... 0 8 7]]\n",
      "\n",
      "Matrix Product C:\n",
      "\n",
      "[[5729 5663 5453 ... 5723 6187 5752]\n",
      " [6130 5758 5831 ... 5891 6510 6452]\n",
      " [5962 5780 5777 ... 5971 6480 6204]\n",
      " ...\n",
      " [5886 6017 5876 ... 6019 6139 6259]\n",
      " [6170 6241 6187 ... 6031 6597 6392]\n",
      " [6272 5973 6360 ... 5800 6390 6404]]\n"
     ]
    }
   ],
   "source": [
    "A = np.random.randint(10,size=(500,300))\n",
    "\n",
    "B = np.random.randint(10,size=(300,500))\n",
    "\n",
    "C = A@B\n",
    "\n",
    "print(\"Matrix A:\\n\")\n",
    "print(A)\n",
    "print(\"\\nMatrix B:\\n\")\n",
    "print(B)\n",
    "print(\"\\nMatrix Product C:\\n\")\n",
    "print(C)"
   ]
  },
  {
   "cell_type": "markdown",
   "metadata": {},
   "source": [
    "### 2.3 Matrix shapes: which matrices multiply?\n",
    "\n",
    "You may have noticed something interesting about the shape of the product matrices in the matrix multiplication examples above. The shape of the product matrix <b>C</b> is not equal to the shape of either of the input matrices <b>A</b> or <b>B</b>. However, nor is the shape of <b>C</b> entirely disconnected from the shapes of <b>A</b> and <b>B</b>. \n",
    "    \n",
    "We have already seen that the shape of matrices are described by the number of rows and number of columns. We have also seen that matrix multiplication proceeds by multiplying rows in <b>A</b> and columns of <b>B</b>. This means that for two matrices to multiply the columns of <b>A</b> must equal the number of rows in <b>B</b>. If we define <b>A</b> as an $m x n$ matrix and <b>B</b> as an $i x j$ matrix, we can say that <b>AB</b> <i>is defined</i> if $n = i$.\n",
    "\n",
    "For example:"
   ]
  },
  {
   "cell_type": "code",
   "execution_count": 17,
   "metadata": {},
   "outputs": [
    {
     "name": "stdout",
     "output_type": "stream",
     "text": [
      "Matrix A:\n",
      "\n",
      "[[0 1 2 3 4]\n",
      " [4 3 2 1 0]\n",
      " [1 2 4 3 5]]\n",
      "\n",
      "m = 3   (no. rows in A)\n",
      "n = 5   (no. cols in A)\n",
      "\n",
      "Matrix B:\n",
      "\n",
      "[[0 1 1 1]\n",
      " [2 3 4 2]\n",
      " [1 1 6 7]\n",
      " [5 4 6 5]\n",
      " [8 6 5 7]]\n",
      "\n",
      "i = 5   (no. rows in B)\n",
      "j = 4   (no. cols in B)\n",
      "\n",
      "\n",
      "AB is defined, i.e we can multiply A and B because no. cols in A == no. rows in B\n",
      "\n",
      "\n"
     ]
    }
   ],
   "source": [
    "A = np.array([[0,1,2,3,4],[4,3,2,1,0],[1,2,4,3,5]])\n",
    "B = np.array([[0,1,1,1],[2,3,4,2],[1,1,6,7],[5,4,6,5],[8,6,5,7]])\n",
    "\n",
    "m = A.shape[0]\n",
    "n = A.shape[1]\n",
    "i = B.shape[0]\n",
    "j = B.shape[1]\n",
    "\n",
    "print(\"Matrix A:\\n\")\n",
    "print(A)\n",
    "print(\"\\nm = {}   (no. rows in A)\".format(m))\n",
    "print(\"n = {}   (no. cols in A)\".format(n))\n",
    "\n",
    "print(\"\\nMatrix B:\\n\")\n",
    "print(B)\n",
    "print(\"\\ni = {}   (no. rows in B)\".format(i))\n",
    "print(\"j = {}   (no. cols in B)\".format(j))\n",
    "\n",
    "\n",
    "if n == i:\n",
    "    print(\"\\n\\nAB is defined, i.e we can multiply A and B because no. cols in A == no. rows in B\\n\\n\")\n",
    "else:\n",
    "    print(\"\\n\\nAB is not defined, i.e. we cannot multiply A and B because no. cols in A does not equal no. rows in B\")"
   ]
  },
  {
   "cell_type": "markdown",
   "metadata": {},
   "source": [
    "To generalise, if we write out a matrix multiplication using the row and column indices, with $m x n$ representing the dimensions of <b>A</b> and $i x j$ representing the dimensions of <b>B</b>, then the product <b>AB</b> is defined if the inner numbers are equal.\n",
    "\n",
    "$ (m x n) . (i x j) $\n",
    "\n",
    "i.e. if  $i = j$,  <b>AB</b>\n",
    "\n",
    "we can also use this information to predict the shape of the product matrix <b>C</b> (<b>C = AB</b>). The shape of <b>C</b> is equal to the rows of <b>A</b> and the columns of <b>B</b>.\n",
    "\n",
    "$ (m x n) . (i x j) = (m x j)$\n",
    "\n",
    "e.g. for a 3 x 6 matrix multipled by a 6 x 4 matrix, the roduct wll have dimensions 3 x 4.\n",
    "\n",
    "let's just verify that in Python..."
   ]
  },
  {
   "cell_type": "code",
   "execution_count": 18,
   "metadata": {},
   "outputs": [
    {
     "name": "stdout",
     "output_type": "stream",
     "text": [
      "rows in A = 3\n",
      "cols in A = 6\n",
      "rows in B = 6\n",
      "cols in B = 4\n",
      "\n",
      "Shape of product AB:\n",
      "\n",
      "(3, 4)\n",
      "\n",
      "AB is defined because n == i\n"
     ]
    }
   ],
   "source": [
    "A = np.random.randint(10,size=(3,6))\n",
    "B = np.random.randint(10,size=(6,4))\n",
    "\n",
    "m = A.shape[0]\n",
    "n = A.shape[1]\n",
    "i = B.shape[0]\n",
    "j = B.shape[1]\n",
    "\n",
    "print(\"rows in A = {}\".format(m))\n",
    "print(\"cols in A = {}\".format(n))\n",
    "print(\"rows in B = {}\".format(i))\n",
    "print(\"cols in B = {}\".format(j))\n",
    "\n",
    "# multiply matrices\n",
    "C = A@B\n",
    "\n",
    "print(\"\\nShape of product AB:\\n\")\n",
    "print(C.shape)\n",
    "\n",
    "print(\"\\nAB is defined because n == i\")"
   ]
  },
  {
   "cell_type": "markdown",
   "metadata": {},
   "source": [
    "An important consequence of these dimensionality issues is that it cannot be assumed that because <b>AB</b> is defined, that <b>BA</b> will also be defined. Take for example the matrices above where <b>A</b> has dimensions [3,6] and <b>B</b> has dimensions [6,4]. Multiplying <b>A</b> by <b>B</b> is defined because the inner dimensions match, i.e.\n",
    "\n",
    "$(3,6) . (6,4) = (3,4)$\n",
    " \n",
    "$ n = 6, i = 6$; <b>AB</b> is defined.\n",
    "\n",
    "However, if we attempt to multiply <b>BA</b> we find:\n",
    "\n",
    "$(6,4) . (3,6)$\n",
    " \n",
    "$n = 4, i = 6$; <b>BA</b> is NOT defined because $n$ does not equal $i$.\n",
    "\n",
    "\n",
    "In some cases, the dimensions of <b>A</b> and <b>B</b> will be such that <b>AB</b> and <b>BA</b> are both defined. However it still does not follow that <b>AB</b> = <b>BA</b>. This is because matrix multiplication is not achieved elementwise, but instead takes rows in <b>A</b> and columns in <b>B</b>. To reverse the order of the matrices being multiplied changes the values that are multiplied and summed, maning the result of the calculation is dependent upon the order of the input matrices. In linear algebra terminology, we describe this property by saying that multiplication is <i>not commutative</i>. Note that matrix addition IS commutative (i.e. <b>A</b>+<b>B</b> = <b>B</b>+<b>A</b> but <b>AB</b>!=<b>BA</b>).\n",
    "\n",
    "However, matrix multiplication <i>is associative </i> which means that for any three matrices <b>A B C</b>, the product matrix is identical regardless of whether the multiplication progresses by <b>(AB)C</b> or <b>A(BC)</b>.\n",
    "\n",
    "e.g.\n"
   ]
  },
  {
   "cell_type": "code",
   "execution_count": 19,
   "metadata": {},
   "outputs": [
    {
     "name": "stdout",
     "output_type": "stream",
     "text": [
      "\n",
      "matrix product A(BC):\n",
      "\n",
      "[[  40  240  354]\n",
      " [ 110  502  670]\n",
      " [ 134  743 1067]]\n",
      "\n",
      "matrix product (AB)C:\n",
      "\n",
      "[[  40  240  354]\n",
      " [ 110  502  670]\n",
      " [ 134  743 1067]]\n",
      "\n",
      "These matrices are identical\n"
     ]
    }
   ],
   "source": [
    "A = np.random.randint(10,size=(3,3))\n",
    "B = np.random.randint(10,size=(3,3))\n",
    "C = np.random.randint(10,size=(3,3))\n",
    "\n",
    "D = A@(B@C)\n",
    "E = A@B@C\n",
    "\n",
    "print(\"\\nmatrix product A(BC):\\n\")\n",
    "print(D)\n",
    "print(\"\\nmatrix product (AB)C:\\n\")\n",
    "print(E)\n",
    "\n",
    "print(\"\\nThese matrices are identical\")"
   ]
  },
  {
   "cell_type": "markdown",
   "metadata": {},
   "source": [
    "## 3 Matrices as systems of equations"
   ]
  },
  {
   "cell_type": "markdown",
   "metadata": {},
   "source": [
    "### 3.\n",
    "\n",
    "Matrices are rectangular arrays of numbers that we manipulate in often unexpected ways. So far we have seen the unexpected procedure for matrix multiplication, and in the following notebooks we will see many more somewhat surprising operations we apply to matrices. But why do these operations work and why are they useful? One answer to this question arises from the idea that matrices are stores of coefficients that define linear equations. This is what makes matrices a fundamental part of linear algebra. A linear equation is one that only includes addition of variables, each of which might be multiplied by a scalar. No terms are raised to any powers, no variables are multiplied together or combined in any other way than addition.\n",
    "\n",
    "In this section we will explore the relationship between linear equations and matrices. We will see why this relationship is mathematically powerful and develop conceptual understanding of the rationale justifying operations such as matrix multiplication.\n",
    "\n",
    "In linear algebra, functions take vectors as inputs and return vectors as outputs. Earlier in this notebook we have seen that we can add and scalar-multiply vectors. A function can be thought of as a machine that transforms the input vector into an output vector. In calculus notation, we might refer to this machine as function $f$, e.g. $f(x) = 10x$. Here, we will refer to arbitrary linear functions using $L$. \n",
    "\n",
    "We can define two vectors, $u$ and $v$. Both $u$ and $v$ are valid inputs to $L$, such that $L(u)$ returns a new vector output $u'$ and $L(u)$ also returns a new vector output $v'$.\n",
    "\n",
    "$L(u) = u'$\n",
    "\n",
    "We already saw that $u + v = v + u$, i.e the order of vectors does not affect the result of vector addition. it is also true for $L(u)$ and $L(v)$. \n",
    "\n",
    "$L(u+v) = L(u) + L(v)$\n",
    "\n",
    "This means that applying a linear function to each vector $u$ and $v$ and adding the result is equal to applying a linear function to the sum of $u$ and $v$. The same is true for scalar mutliplication. For a scalar $c$, \n",
    "\n",
    "$L(cu) = cL(u)$\n",
    "\n",
    "meaning that the result is the same regardless of whether a linear function is applied to the product of the scalar and the vector or alternatively the result of $L(u)$ is multiplied by the scalar.\n",
    "\n",
    "These two conditions are known as <i>additivity</i> and <i>homogeneity</i> and they are diagnostic of linear functions and together they are known as \"linearity\". Most functions do not satisfy these two conditions. Linear algebra considers the subset of functions that do, that are referred to as <i>linear functions</i>, $L$.\n",
    "\n",
    "Note that because applying a linear function can be considered a multiplication between the linear operator $L$ and the vector $u$ we can drop the function notation here and simply refer to $Lu$ as opposed to $L(u)$ from here on.\n",
    "\n",
    "To summarise, we can define a general formula, where $L$ is a linear function, $a$ and $b$ are scalars and $u$ and $v$ are vectors:\n",
    "\n",
    "$L(au + bv) = aLu + bLv$\n",
    "\n",
    "\n"
   ]
  },
  {
   "cell_type": "markdown",
   "metadata": {},
   "source": [
    "### 3.2 Equations in Matrices\n",
    "\n",
    "So how does this information relate to what we have learned about matrices? We can think of a matrix as a storage container for the coefficients defining a linear equation. For example, we can define two linear functions with variables $x$ and $y$ in familiar function notation:\n",
    "\n",
    "$2x + 5y = 20$\n",
    " \n",
    "$4x + 6y = 28$\n",
    "\n",
    "This information can also be reorganised into a matrix, with the scalars multiplying $x$ in the first column and the scalars multiplying $y$ in the second column.\n",
    "\n",
    "$\\begin{bmatrix}2 & 5\\\\4 & 6\\end{bmatrix}$\n",
    "\n",
    "To make it explicit that these scalars multiply variables $x$ and $y$, we can add the vector $[x,y]$:\n",
    "\n",
    "$\\begin{bmatrix}2 & 5\\\\4 & 6\\end{bmatrix}\\begin{bmatrix}x\\\\y\\end{bmatrix}$\n",
    "\n",
    "This multiplication can be though of as \"tipping\" the vector $[x,y]$ into the matrix so that the x values cascade down the first column and the y values cascade down the second column. Notice that this is precisely the same as the notation in section 3.1, where we defined \n",
    "\n",
    "$Lu = v'$\n",
    "\n",
    "since $L$ is our matrix, $u$ is our input vector and $u'$ is the output vector.\n",
    "\n",
    "Alternatively, we can reconfigure as a scalar multiplication of the x-vector and the y-vector:\n",
    "\n",
    "$x$$\\begin{bmatrix}2\\\\4\\end{bmatrix}$  $y$$\\begin{bmatrix}5\\\\6\\end{bmatrix}$\n",
    "\n",
    "\n",
    "The same concept extends to functions with $N$ variables. For a function with $N$ variables, the matrix $L$ has $N$ columns, e.g.\n",
    "\n",
    "$3x + 5y + 2z + 4p + 6q + r = 30$\n",
    " \n",
    "$4x + 6y + z + 2p + 5q + 2r = 40$\n",
    " \n",
    "$ = $\n",
    " \n",
    "$\\begin{bmatrix}2 & 5 & 2 & 4 & 6 & 1\\\\4 & 6 & 1 & 2 & 5 & 2\\end{bmatrix}\\begin{bmatrix}x\\\\y\\\\z\\\\p\\\\q\\\\r\\end{bmatrix}$\n",
    "\n",
    "And similarly, $N$ number of equations can be represented by adding rows to the matrix $L$:\n",
    " \n",
    "\n",
    "\n",
    "$2x + 5y = 20$\n",
    " \n",
    "$4x + 6y = 28$\n",
    " \n",
    "$x + 2y = 10$\n",
    " \n",
    "$3x + y = 8$\n",
    " \n",
    "$=$\n",
    " \n",
    "$\\begin{bmatrix}2 & 5 \\\\ 4 & 6 \\\\ 1 & 2 \\\\ 3 & 1\\end{bmatrix}\\begin{bmatrix}x\\\\y\\end{bmatrix}$"
   ]
  },
  {
   "cell_type": "markdown",
   "metadata": {},
   "source": [
    "### 3.3. Matrix multiplication 2\n",
    "\n",
    "Earlier I indicated that understanding matrices as stores of linear equations would lead to a conceptual understanding of why matrix multiplication proceeds in the unusual way outlined in section 2.2. We have just seen that matrices can be thought of as machines that take one vector and transform it into a second vector. What happens if we connect one of these machines to another, such that the output of the first becomes the input to the second?\n",
    "\n",
    "Lets define two such machines - matrix $L$ and matrix $M$. They both represent two linear equations with variables $x$ and $y$.\n",
    "\n",
    "$L$ contains:\n",
    "\n",
    "$2x + 3y$\n",
    " \n",
    "$3x + 2y$\n",
    " \n",
    "and $M$ contains:\n",
    "\n",
    "$x + y$\n",
    " \n",
    "$4x + 2y$\n",
    "\n",
    "so:\n",
    "\n",
    "$L = \\begin{bmatrix}2 & 3\\\\3 & 2\\end{bmatrix}\\begin{bmatrix}x\\\\y\\end{bmatrix}$\n",
    " \n",
    "$M = \\begin{bmatrix}1 & 1\\\\4 & 2\\end{bmatrix}\\begin{bmatrix}x\\\\y\\end{bmatrix}$\n",
    "\n",
    "Now, if we connect these two matrices so that the variables x and y are transformed by matrix $L$ before being fed into matrix M, we would feed the result of $2x + 3y$ into the first column of M and the result of $3x + 2y$ into the second column of M.\n",
    "\n",
    "\n",
    "we can represent this as:\n",
    "\n",
    "\n",
    "$1(2x + 3y) + 1(3x + 2y)$\n",
    "\n",
    "$4(2x + 3y) + 2(3x + 2y)$\n",
    "\n",
    "which evaluates to:\n",
    "\n",
    "$5x + 5y$\n",
    " \n",
    "$14x + 16y$\n",
    "\n",
    "which can be represented as the matrix P:\n",
    "\n",
    "$P = \\begin{bmatrix}5 & 5\\\\14 & 16\\end{bmatrix}\\begin{bmatrix}x\\\\y\\end{bmatrix}$\n",
    "\n",
    "\n",
    "So connecting the two matrices together, so that $x$ and $y$ are transformed by $L$ and then by $M$ is precisely the same as transforming $x$ and $y$ in one single step by $P$.\n",
    "\n",
    "Matrix (P) was generated by analogy to connecting two linear operators end-to-end, but notice that the result of applying our matrix multipication algorithm from section 2.2 to $L$ and $M$ also results in matrix $P$. Therefore, the unusual procedure for multiplying two matrices is actually a shortcut to convolving two linear operations stacked in sequence into one single linear operation. We can verify this using Python...\n",
    "\n",
    "\n"
   ]
  },
  {
   "cell_type": "code",
   "execution_count": 39,
   "metadata": {},
   "outputs": [
    {
     "name": "stdout",
     "output_type": "stream",
     "text": [
      "\n",
      "Matrix L:\n",
      "\n",
      "[[2 3]\n",
      " [3 2]]\n",
      "\n",
      "Matrix M:\n",
      "\n",
      "[[1 1]\n",
      " [4 2]]\n",
      "\n",
      "Output Matrix P:\n",
      "\n",
      "[[ 5  5]\n",
      " [14 16]]\n",
      "\n",
      "ERROR CHECKING:\n",
      "\n",
      "SUCCESS: calculated P matches expected P\n"
     ]
    }
   ],
   "source": [
    "# define matrices L and M as in text above\n",
    "L = np.array([[2,3],[3,2]])\n",
    "M = np.array([[1,1],[4,2]])\n",
    "\n",
    "# define expected output from our \"stacked machines\" calculation\n",
    "P_expected = np.array([[5,5],[14,16]])\n",
    "\n",
    "\n",
    "# REMEMBER THAT MATRIX MUTLIPLICATION IS NOT COMMUTATIVE\n",
    "# I.E ML != LM\n",
    "# This means if L is the first machine and M is the second machine, \n",
    "# our matrix multiplication is ML not LM, since we order operations R->L\n",
    "P = M@L\n",
    "\n",
    "print(\"\\nMatrix L:\\n\")\n",
    "print(L)\n",
    "print(\"\\nMatrix M:\\n\")\n",
    "print(M)\n",
    "print(\"\\nOutput Matrix P:\\n\")\n",
    "print(P)\n",
    "\n",
    "# check calculated P matches expectation\n",
    "errors = 0\n",
    "\n",
    "for i in np.arange(0,len(P_expected[:,0]),1):\n",
    "    for j in np.arange(0,len(P_expected[0,:]),1):\n",
    "        if P_expected[i,j] != P[i,j]:\n",
    "            errors+=1\n",
    "\n",
    "print(\"\\nERROR CHECKING:\")\n",
    "\n",
    "if errors == 0:\n",
    "    print(\"\\nSUCCESS: calculated P matches expected P\")\n",
    "else:\n",
    "    print(\"\\nPROBLEM: calculated P does not match expectation\")"
   ]
  },
  {
   "cell_type": "markdown",
   "metadata": {},
   "source": [
    "### 3.3 Augmented matrices\n",
    "\n",
    "The matrices presented in section 3.2 omit the right hand sides of the functions - i.e. they contain only the scalars by which the variables are multiplied without the value to the right of the equals sign. To solve equations, we need to represent both the left and right hand side of the equations. A matrix that contains informtation from both left and right hand sides of the equations is known as an <i>augmented matrix</i>. There are several slightly different notations for an augmented matrix, but the most common is to present one matrix with a vertical line separating the left hand side information from the right hand side information. The values on the right hand side of the equations are presented in the right-most column of the matrix.\n",
    " \n",
    " \n",
    "$\\begin{pmatrix}\n",
    "    1 & 3 & 0 & 4 &\\bigm| & 0 \\\\\n",
    "    2 & 1 & 0 & 2 &\\bigm| & 5 \\\\\n",
    "    0 & 1 & 4 & 1 &\\bigm| & -4 \\\\ \n",
    "    2 & 4 & 3 & 1 &\\bigm| & -2\n",
    "\\end{pmatrix}$"
   ]
  },
  {
   "cell_type": "markdown",
   "metadata": {},
   "source": [
    "## 4 Solving systems of equations\n",
    "\n",
    "###  4.1: Gaussian elimination"
   ]
  },
  {
   "cell_type": "markdown",
   "metadata": {},
   "source": [
    "First we will define some functions to allow us to perform some elementary row operations. We will then use these elementary row functions to reorganise the array A into row echelon form, then we can solve it to find values from x, y and z that satisfy all 3 equations."
   ]
  },
  {
   "cell_type": "markdown",
   "metadata": {},
   "source": [
    "First, we will need to swap rows.\n",
    "Second, we need a way to multiply individual rows by a scalar in place.\n",
    "Finally, we need a way to add multiples of rows to other rows."
   ]
  },
  {
   "cell_type": "code",
   "execution_count": 21,
   "metadata": {},
   "outputs": [],
   "source": [
    "\n",
    "def SwapRows(A, idx1, idx2):\n",
    "    \n",
    "    temp = A[idx2,:].copy()\n",
    "    A[idx2,:] =A[idx1,:]\n",
    "    A[idx1,:] = temp\n",
    "\n",
    "    return A\n",
    "\n",
    "\n",
    "def multiply_row(A,idx1,multiple):\n",
    "\n",
    "    A[idx1,:]=A[idx1,:]*multiple\n",
    "\n",
    "    return A\n",
    "\n",
    "\n",
    "\n",
    "def add_rows(A,add_to,add_from,multiple):\n",
    "\n",
    "    # start with identity matrix\n",
    "    E1 = np.array([[1,0,0],[0,1,0],[0,0,1]])\n",
    "\n",
    "    E1[add_to,add_from] = multiple\n",
    "\n",
    "    A = E1@A\n",
    "\n",
    "    return A\n"
   ]
  },
  {
   "cell_type": "markdown",
   "metadata": {},
   "source": [
    "Now we have these elementary row operations available to us, we can start to rearrange an array into row echelon form.\n",
    "\n",
    "Let's set up an initial array that represents the following system of 3 linear equations:\n",
    "\n",
    "$x + 2y + 3z = 24$\n",
    "\n",
    "$2x - y + z = 3$\n",
    "\n",
    "$3x + 4y -5z = -6$\n"
   ]
  },
  {
   "cell_type": "code",
   "execution_count": 22,
   "metadata": {},
   "outputs": [
    {
     "name": "stdout",
     "output_type": "stream",
     "text": [
      "[[ 1  2  3 24]\n",
      " [ 2 -1  1  3]\n",
      " [ 3  4 -5 -6]]\n"
     ]
    }
   ],
   "source": [
    "A = np.array([[1,2,3,24],[2,-1,1,3],[3,4,-5,-6]])\n",
    "\n",
    "print(A)"
   ]
  },
  {
   "cell_type": "markdown",
   "metadata": {
    "slideshow": {
     "slide_type": "slide"
    }
   },
   "source": [
    "The following sequence of swaps, additions and multiplications reorganizes the array into row echelon form. hThere is probably a more efficient route - I determined this way to work, please feel free to try to find a better sequence."
   ]
  },
  {
   "cell_type": "code",
   "execution_count": 23,
   "metadata": {},
   "outputs": [
    {
     "name": "stdout",
     "output_type": "stream",
     "text": [
      "Array A in Row Echelon Form\n",
      "\n",
      " [[   1    2    3   24]\n",
      " [   0   -5   -5  -45]\n",
      " [   0    0  -60 -300]]\n"
     ]
    }
   ],
   "source": [
    "\n",
    "A = SwapRows(A,0,1)\n",
    "A = SwapRows(A,0,2)\n",
    "A = SwapRows(A,1,2)\n",
    "A = add_rows(A,1,2,-1)\n",
    "A = add_rows(A,1,2,-1)\n",
    "A = SwapRows(A,1,2)\n",
    "A = add_rows(A,0,2,-1)\n",
    "A = add_rows(A,0,1,-3)\n",
    "A = SwapRows(A,0,1)\n",
    "A = multiply_row(A,1,5)\n",
    "A = add_rows(A,1,2,3)\n",
    "A = SwapRows(A,1,2)\n",
    "\n",
    "\n",
    "print(\"Array A in Row Echelon Form\\n\\n\",A)"
   ]
  },
  {
   "cell_type": "markdown",
   "metadata": {},
   "source": [
    "This yields a sequence of equations that can easily be solved by cascading variable values up the array, since:\n",
    "\n",
    "$-60z = -300$\n",
    "\n",
    "$-5y -5z = -45$\n",
    "\n",
    "$x + 2y + 3z = 24$\n",
    "\n"
   ]
  },
  {
   "cell_type": "markdown",
   "metadata": {},
   "source": [
    "$$\n",
    "$$\n",
    "$ z = -300 / -60$,\n",
    "\n",
    "so $z = 5 $\n",
    "$$\n",
    "$$\n",
    "$ -5 y - (-5 * 5) = -45$, \n",
    "$$\n",
    "$$\n",
    "so $y = 4 $\n",
    "$$\n",
    "$$\n",
    "$ z + (2 * 4) + (3 * 5) = 24$, \n",
    "$$\n",
    "$$\n",
    "so $x = 1 $\n",
    "$$\n",
    "$$\n"
   ]
  },
  {
   "cell_type": "markdown",
   "metadata": {},
   "source": [
    "This has therefore given the solution to the system of equations:\n",
    "\n",
    "$x = 1$\n",
    "\n",
    "$y = 4$\n",
    "\n",
    "$z = 5$\n"
   ]
  },
  {
   "cell_type": "markdown",
   "metadata": {},
   "source": [
    "### 4.2: Gauss-Jordan elimination"
   ]
  },
  {
   "cell_type": "markdown",
   "metadata": {},
   "source": [
    "We could also achieve this using Gauss-Jordan elimination by reducing the row-echelon form to give the values for x,y and z in the augmented matrix. The aim of this is to reduce the system matrix to be equal to the identity matrix. The augmented matrix then represents the solution to the system of equations."
   ]
  },
  {
   "cell_type": "code",
   "execution_count": 24,
   "metadata": {},
   "outputs": [],
   "source": [
    "A = multiply_row(A,0,5)\n",
    "A = multiply_row(A,1,2)\n",
    "A = add_rows(A,0,1,0)\n",
    "A = add_rows(A,0,1,1)\n",
    "A = multiply_row(A,0,1/5)\n",
    "A = multiply_row(A,1,-1/10)\n",
    "A = multiply_row(A,2,-1/60)\n",
    "A = add_rows(A,0,2,-1)\n",
    "A = add_rows(A,1,2,-1)"
   ]
  },
  {
   "cell_type": "code",
   "execution_count": 25,
   "metadata": {},
   "outputs": [
    {
     "name": "stdout",
     "output_type": "stream",
     "text": [
      "A in REDUCED ECHELON FORM\n",
      "\n",
      "\n",
      "[[1 0 0 1]\n",
      " [0 1 0 4]\n",
      " [0 0 1 5]]\n",
      "\n"
     ]
    }
   ],
   "source": [
    "print(\"A in REDUCED ECHELON FORM\\n\\n\")\n",
    "print(A)\n",
    "print()"
   ]
  },
  {
   "cell_type": "markdown",
   "metadata": {},
   "source": [
    "The augmented matrix in reduced row echelon form offers a solution in the form of x, y and z values in rows 0, 1 and 2. Again, this method gives:\n",
    "\n",
    "$x = 1$\n",
    "\n",
    "$y = 4$\n",
    "\n",
    "$z = 5$"
   ]
  },
  {
   "cell_type": "markdown",
   "metadata": {},
   "source": [
    "### 4.3: NumPy's solver"
   ]
  },
  {
   "cell_type": "markdown",
   "metadata": {},
   "source": [
    "To be completely sure we have the correct answer we can also fall back to Numpy.linalg's solver. To do this we import the relevant package and pass the system matrix and the augmented matrix as separate variables."
   ]
  },
  {
   "cell_type": "code",
   "execution_count": 26,
   "metadata": {},
   "outputs": [
    {
     "name": "stdout",
     "output_type": "stream",
     "text": [
      "System Matrix M:\n",
      "\n",
      "\n",
      " [[ 1  2  3 24]\n",
      " [ 2 -1  1  3]\n",
      " [ 3  4 -5 -6]]\n",
      "\n",
      "Augmented matrix, b\n",
      "\n",
      " [24  3 -6]\n"
     ]
    }
   ],
   "source": [
    "# import our original matrix\n",
    "A = np.array([[1,2,3,24],[2,-1,1,3],[3,4,-5,-6]])\n",
    "\n",
    "# separate into system matrix (M) and augmented matrix (b)\n",
    "M = A[:,0:-1]\n",
    "b = A[:,-1]\n",
    "\n",
    "print(\"System Matrix M:\\n\")\n",
    "print(\"\\n\",A)\n",
    "print(\"\\nAugmented matrix, b\")\n",
    "print(\"\\n\",b)"
   ]
  },
  {
   "cell_type": "code",
   "execution_count": 27,
   "metadata": {},
   "outputs": [
    {
     "name": "stdout",
     "output_type": "stream",
     "text": [
      "x =  1.0\n",
      "y =  4.0\n",
      "z =  5.0\n"
     ]
    }
   ],
   "source": [
    "from numpy.linalg import solve as slv\n",
    "\n",
    "x,y,z = slv(M,b)\n",
    "\n",
    "print(\"x = \",np.round(x,0))\n",
    "print(\"y = \",np.round(y,0))\n",
    "print(\"z = \",np.round(z,0))"
   ]
  },
  {
   "cell_type": "markdown",
   "metadata": {},
   "source": [
    "Success - the three methods all provide the same solutions!"
   ]
  },
  {
   "cell_type": "code",
   "execution_count": null,
   "metadata": {},
   "outputs": [],
   "source": []
  }
 ],
 "metadata": {
  "kernelspec": {
   "display_name": "Python 3.6.10 64-bit",
   "language": "python",
   "name": "python361064bitbb4a5fc2406f4d7b9b84e5937944c885"
  },
  "language_info": {
   "codemirror_mode": {
    "name": "ipython",
    "version": 3
   },
   "file_extension": ".py",
   "mimetype": "text/x-python",
   "name": "python",
   "nbconvert_exporter": "python",
   "pygments_lexer": "ipython3",
   "version": "3.6.10"
  }
 },
 "nbformat": 4,
 "nbformat_minor": 2
}
