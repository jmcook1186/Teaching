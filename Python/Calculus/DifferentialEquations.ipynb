{
 "cells": [
  {
   "cell_type": "markdown",
   "metadata": {},
   "source": [
    "# Ordinary Differential Equations\n",
    "\n",
    "The previous notebooks introduced differentiation and integration. Here we look at differential equations, which are expressions that relate some function to its derivative. In this notebook we focus on ordinary differential equations (ODE's) which are those relating functions of one single variable ($f(x)$) to its derivative ($f'(x)$ or ${dy\\over{dx}}$), where $x$ is our independent variable and $y$ is our independent variable and is equivalent to the value of $f(x)$. \n",
    "\n",
    "A general structure for a differential equation could be as follows:\n",
    "\n",
    "${dy\\over{dx}} = y(x)$\n",
    "\n",
    "This equation is telling us that the derivative of some function $y$ is equal to the value of function $f$ evaluated at $x$. The challenge is then to solve this equation. This means reconstructing the equation $y$ whose derivative is given by the relation given in the ODE. <b>The solution to an ODE is a function</b>.\n",
    "\n"
   ]
  },
  {
   "cell_type": "markdown",
   "metadata": {},
   "source": [
    "## Solution via antiderivative\n",
    "\n",
    "The simplest differential equations are essentially just derivative statements from which the original function can be reconstructed by finding the antiderivative. In our integral calculus notebook we saw how the antiderivative (or \"indefinite integral\") transforms a derivative into its corresponding function - i.e. it does the inverse of differentiation which produces the derivative from a function. Since our differential equation simpy relates a function to its derivative, antidifferentiation can sometimes provide a route to the equation's solution.\n",
    "\n",
    "For example:\n",
    "\n",
    "${dy\\over{dx}} = sin(x)$\n",
    "\n",
    "In this equation we are being told that the derivative of function $f$ at $x$ is equal to the sine of $x$. If the derivative is $sin(x)$ then the function must be the antiderivative of $sin(x)$ which is equal to $-cos(x)$. We can use SymPy to first verify that $-cos(x)$ is indeed the antiderivative of $sin(x)$, and then to verify that this antiderivative is the solution to the differential equation. We will take the antiderivative first, then solve the equation as the latter requires some fairly idiosyncratic syntax in SymPy."
   ]
  },
  {
   "cell_type": "code",
   "execution_count": 21,
   "metadata": {},
   "outputs": [
    {
     "name": "stdout",
     "output_type": "stream",
     "text": [
      "The antiderivative of sin(x) is:\n"
     ]
    },
    {
     "data": {
      "text/latex": [
       "$\\displaystyle - \\cos{\\left(x \\right)}$"
      ],
      "text/plain": [
       "-cos(x)"
      ]
     },
     "execution_count": 21,
     "metadata": {},
     "output_type": "execute_result"
    }
   ],
   "source": [
    "import sympy as sym\n",
    "\n",
    "# define symbolic variable x\n",
    "x = sym.symbols('x')\n",
    "\n",
    "\n",
    "# INTEGRATE CONSTANT\n",
    "\n",
    "func = sym.sin(x)\n",
    "\n",
    "print(\"The antiderivative of sin(x) is:\")\n",
    "sym.integrate(func,x) # pass (function, with respect to...)\n"
   ]
  },
  {
   "cell_type": "markdown",
   "metadata": {},
   "source": [
    "Remember also that SymPy does not add the constant of integration, so this should really be:\n",
    "    \n",
    "$f(x) = -cos(x) + C $ or equivalently $ f(x) = C - cos(x)$"
   ]
  },
  {
   "cell_type": "markdown",
   "metadata": {},
   "source": [
    "To solve an ODE in SymPy, we have to create instances of SymPy's \"function\" class for function $f(x)$ and then create an unevaluated differential of $f(x)$ as the differential equation. Then we pass this to SymPy's \"Eq\" "
   ]
  },
  {
   "cell_type": "code",
   "execution_count": 22,
   "metadata": {},
   "outputs": [
    {
     "data": {
      "text/latex": [
       "$\\displaystyle \\frac{d}{d x} f{\\left(x \\right)} = \\sin{\\left(x \\right)}$"
      ],
      "text/plain": [
       "Eq(Derivative(f(x), x), sin(x))"
      ]
     },
     "execution_count": 22,
     "metadata": {},
     "output_type": "execute_result"
    }
   ],
   "source": [
    "# first define a function, f\n",
    "f = sym.symbols('f', cls=sym.Function)\n",
    "# differentiate f with respect to x to get dy/dx\n",
    "f(x).diff(x)\n",
    "\n",
    "# define var diff_eq to hold the differential equation\n",
    "# formed from the differential of f(x) and out function sin(x)\n",
    "diff_eq = sym.Eq(f(x).diff(x), sym.sin(x))\n",
    "\n",
    "#print differential equation\n",
    "diff_eq"
   ]
  },
  {
   "cell_type": "markdown",
   "metadata": {},
   "source": [
    "Now we have created our differential equation in SymPy we can solve it. Remember, in this example we want to confirm that the solution to the differential equation ${dy\\over{dx}} = sin(x)$ is equal to the antiderivative of $sin(x)$ which we evaluated to be $f(x) = C - cos(x)$.\n",
    "\n",
    "We can achieve this using SymPy's dsolve function, passing our differential equation and the function to solve for as arguments."
   ]
  },
  {
   "cell_type": "code",
   "execution_count": 23,
   "metadata": {},
   "outputs": [
    {
     "data": {
      "text/latex": [
       "$\\displaystyle f{\\left(x \\right)} = C_{1} - \\cos{\\left(x \\right)}$"
      ],
      "text/plain": [
       "Eq(f(x), C1 - cos(x))"
      ]
     },
     "execution_count": 23,
     "metadata": {},
     "output_type": "execute_result"
    }
   ],
   "source": [
    "sym.dsolve(diff_eq,f(x))"
   ]
  },
  {
   "cell_type": "markdown",
   "metadata": {},
   "source": [
    "In this case, SymPy does add the constant of integration, and we can see that the two answers are consistent and that the solution to the differential equation was indeed its antiderivative."
   ]
  },
  {
   "cell_type": "markdown",
   "metadata": {},
   "source": [
    "In this case, the solution to the ODE was a simple antiderivative - in most cases the solution is more complicated but in essence it is always a process of integrating a derivative to find a function."
   ]
  },
  {
   "cell_type": "code",
   "execution_count": null,
   "metadata": {},
   "outputs": [],
   "source": []
  }
 ],
 "metadata": {
  "kernelspec": {
   "display_name": "Python 3",
   "language": "python",
   "name": "python3"
  },
  "language_info": {
   "codemirror_mode": {
    "name": "ipython",
    "version": 3
   },
   "file_extension": ".py",
   "mimetype": "text/x-python",
   "name": "python",
   "nbconvert_exporter": "python",
   "pygments_lexer": "ipython3",
   "version": "3.7.6"
  }
 },
 "nbformat": 4,
 "nbformat_minor": 4
}
