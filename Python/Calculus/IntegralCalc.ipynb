{
 "cells": [
  {
   "cell_type": "markdown",
   "metadata": {},
   "source": [
    "# Integral Calculus\n",
    "\n",
    "Integration is the process of calculating an integral of a function. There are two types of integral: the indefinite and definite integrals. The indefinite integral is a function also known as the \"antiderivative\" because the process of determining the indefinite integral is the inverse of differentiation - it answers the question, \"what unknown function $F$ has this known function $f$ as its derivative?\". This is a symbolic operation that yields a function that can then be evaluated for any point on the function $F$. \n",
    "\n",
    "The notation for the indefinite integral is:\n",
    "\n",
    "$\\int f(x) \\, dx$\n",
    "\n",
    "where the symbols $\\int$ and $dx$ act as \"bookends\" with the function to integrate positioned inside.\n",
    "\n",
    "or \n",
    "\n",
    "$F(x)$\n",
    "\n",
    "where capital $F$ is the antiderivative, or indefinite integral of $f(x)$.\n",
    "\n",
    "\n",
    "The alternative is the definite integral, which is a number representing the area under the function $f(x)$ between to points $a$ and $b$. The notation for the definite integral is the same as for the indefinite integral except that the upper and lower bounds between which to integrate are added to the integral symbol:\n",
    "\n",
    "$\\int_a^b f(x) dx$\n",
    "\n",
    "This definite integral can be calculated from the anti-derivative by taking the difference between the antiderivative evaluated at $a$ and $b$ according to the first fundamental theorem of calculus. \n",
    "\n",
    "$\\int_a^b f(x) dx \\,\\, = \\,\\, F(a) - F(b)$\n",
    "\\\n",
    "\\\n",
    "where $F(a)$ is the antiderivative of the function $f(x)$ evaluated at point $a$. This means that the definite integral (area under the function $f(x)$ between points $a$ and $b$ is equal to the antiderivative of $f(x)$ evaluated at point (a) minus the antiderivative of $f(x)$ evaluated at point $b$. This is quite an amazing fact because it is not at all obvious why the information about the shape of the function f(x) between $a$ and $b$ should be implicitly encoded in the antiderivatives evaluated at those points. A full explanation is beyond the scope of this notebook, but there are excellent external resources to be found elsewhere (see 3Blue1Brown for example).\n",
    "\n",
    "Alternatively, the definite integral can be estimated using numeric methods that are equivalent to dividing the function into slices and adding them together to give an approximate area under the curve of $f(x)$ between $a$ and $b$.\n",
    "\n",
    "<img src=\"./Assets/Integral.png\" width=250 height=250 />\n",
    "\n",
    "\n",
    "In this notebook we will begin by examining analytical integration, which means using symbolic methods to determine the indefinite integral or antiderivative of a function. We will use SymPy to check our skill. Then we will experiment with applications of the first fundamental theorem of calculus to calculate precise areas under functions, before moving on to estimating them using numerical methods.\n"
   ]
  },
  {
   "cell_type": "markdown",
   "metadata": {},
   "source": [
    "### 1 Analytic integration / Antiderivatives / Indefinite Integrals\n",
    "\n",
    "### 1.1 Indefinite Integrals\n",
    "\n",
    "Indefinite integrals ($F(x)$ or $\\int f(x) \\, dx$), also known as antiderivatives, yield the function whose derivative is some known $f'(x)$. The process of antidifferentiation therefore converts a derivative into a function. If we were to differentate that function, we would return to the derivative.\n",
    "\n",
    "*The relationship between $f(x)\\, and \\,F(x)$:*\n",
    "\\\n",
    "\\\n",
    "We can think of cycling between an original function $f(x)$, its derivative $f'(x)$ and it's antiderivative $F(x)$ where the antiderivative and the original function are identical except that there is a constant of integration, $c$, appended to F(x). The reason for this is that when we take an antiderivative we are reconstructing the shape of $f(x)$ from its slopes, and the information about the vertical displacement of that curve $f(x)$ on the y-axis was lost when it was differentiated to $f'(x)$. Therefore, a constant of integration is added to pin the antiderivative at some specific point on the y-axis. Only if the constant of intergation, $c$ pins the curve in precisely the location of f(x) is the antiderivative equal to the original function. \n",
    "\\\n",
    "\\\n",
    "Note that because the derivative is itself a function, and we may not have any information about the original function, we generally drop the 'prime' notation and simply refer to the function to be integrated ($f(x)$) and its antiderivative ($F(x)$ or $\\int f(x) \\, dx$).\n",
    "\\\n",
    "\\\n",
    "$\\int f(x) \\, dx = F(x) + c$\n",
    "\\\n",
    "\\\n",
    "\\\n",
    "*Calculating the indefinite integral:*\n",
    "\n",
    "The process of determining the indefinite integral of a derivative is equivalent to reversing the various rles of differentiation. We can accelerate the process using symbolic computing but to do the calculation manually we simply have to learn the rules of integration, which are the inverses of the rules of differentiation.\n",
    "\n",
    "Remember that the function to integrated is always presented between the integral symbol and $dx$ - these act like brackets to bookend the function to make it clear what specifically should be integrated.\n",
    "\n",
    "e.g. to integrate $f(x) = x^2 + 3$:\n",
    "    \n",
    "$\\int x^2 + 3\\,\\,dx $\n",
    "\n",
    "\n",
    "### 1.2 Integration rules\n",
    "#### 1.2.1 Simple rules\n",
    "\n",
    "*Integrating constants*\n",
    "\\\n",
    "\\\n",
    "When we differentiate, we get to a constant by differentiating a coefficient multiplied by x. Therefore to integrate a constant, $a$, we multiply $a$ by $x$ and, as always, add the constant f integration, $c$.\n",
    "\n",
    "$\\int a\\, dx = ax + c$\n",
    "\\\n",
    "\\\n",
    "for example:\n",
    "$\\int 5\\, dx = 5x + c$\n",
    "\\\n",
    "\\\n",
    "\\\n",
    "*Integrating powers*\n",
    "\\\n",
    "\\\n",
    "To integrate $x$ raised to the power of $n$, we raise x to the power of $n+1$ and then divide ny $n+1$. As always we add the constant of integration, $c$. This is only valid when n does not equal -1. \n",
    "\\\n",
    "\\\n",
    "$\\int x^n dx = (x^{n+1}/n+1)\\,\\, +c$\n",
    "\\\n",
    "\\\n",
    "for example:\n",
    "$\\int x^6 dx = x^7 / 7\\,\\, +c$\n",
    "\\\n",
    "\\\n",
    "\\\n",
    "*Integrating cos, sin, log, exp:*\n",
    "\\\n",
    "\\\n",
    "Integrating these special functions is easy because the differentiation rules are so simple. We just have to remember to add the constant of integraton too.\n",
    "\\\n",
    "\\\n",
    "$\\int sin(x) dx = -cos(x) + c$\n",
    "\\\n",
    "\\\n",
    "$\\int cos(x) dx = sin(x) + c$\n",
    "\\\n",
    "\\\n",
    "$\\int 1/x dx = log_n(x) + c$\n",
    "\\\n",
    "\\\n",
    "$\\int e^x dx = e^x + c$\n",
    "\\\n",
    "\\\n",
    "We can verify these rules using SymPy by defining the symbolic variable $x$ and using SymPy's built-in integrate function. We will do this for each rule just defined...\n",
    "\n",
    "<b>NOTE</b> SymPy does not add the constant of integration, so we must add $c$ to the answer in our minds!"
   ]
  },
  {
   "cell_type": "code",
   "execution_count": 226,
   "metadata": {},
   "outputs": [
    {
     "data": {
      "text/latex": [
       "$\\displaystyle 6 x$"
      ],
      "text/plain": [
       "6*x"
      ]
     },
     "execution_count": 226,
     "metadata": {},
     "output_type": "execute_result"
    }
   ],
   "source": [
    "import sympy as sym\n",
    "\n",
    "# define symbolic variable x\n",
    "x = sym.symbols('x')\n",
    "\n",
    "\n",
    "# INTEGRATE CONSTANT\n",
    "\n",
    "func = 6\n",
    "sym.integrate(func,x) # pass (function, with respect to...)"
   ]
  },
  {
   "cell_type": "code",
   "execution_count": 227,
   "metadata": {},
   "outputs": [
    {
     "data": {
      "text/latex": [
       "$\\displaystyle \\frac{x^{4}}{4}$"
      ],
      "text/plain": [
       "x**4/4"
      ]
     },
     "execution_count": 227,
     "metadata": {},
     "output_type": "execute_result"
    }
   ],
   "source": [
    "# INTEGRATE POWER\n",
    "\n",
    "func = x**3\n",
    "sym.integrate(func)"
   ]
  },
  {
   "cell_type": "code",
   "execution_count": 228,
   "metadata": {},
   "outputs": [
    {
     "data": {
      "text/latex": [
       "$\\displaystyle - \\cos{\\left(x \\right)}$"
      ],
      "text/plain": [
       "-cos(x)"
      ]
     },
     "execution_count": 228,
     "metadata": {},
     "output_type": "execute_result"
    }
   ],
   "source": [
    "# INTEGRATE SIN\n",
    "\n",
    "func = sym.sin(x)\n",
    "sym.integrate(func,x)"
   ]
  },
  {
   "cell_type": "code",
   "execution_count": 229,
   "metadata": {},
   "outputs": [
    {
     "data": {
      "text/latex": [
       "$\\displaystyle \\sin{\\left(x \\right)}$"
      ],
      "text/plain": [
       "sin(x)"
      ]
     },
     "execution_count": 229,
     "metadata": {},
     "output_type": "execute_result"
    }
   ],
   "source": [
    "# INTEGRATE COS\n",
    "\n",
    "func = sym.cos(x)\n",
    "sym.integrate(func,x)"
   ]
  },
  {
   "cell_type": "code",
   "execution_count": 230,
   "metadata": {},
   "outputs": [
    {
     "data": {
      "text/latex": [
       "$\\displaystyle \\log{\\left(x \\right)}$"
      ],
      "text/plain": [
       "log(x)"
      ]
     },
     "execution_count": 230,
     "metadata": {},
     "output_type": "execute_result"
    }
   ],
   "source": [
    "# INTEGRATE 1/x\n",
    "\n",
    "func = 1/x\n",
    "sym.integrate(func,x)"
   ]
  },
  {
   "cell_type": "code",
   "execution_count": 231,
   "metadata": {},
   "outputs": [
    {
     "data": {
      "text/latex": [
       "$\\displaystyle e^{x}$"
      ],
      "text/plain": [
       "exp(x)"
      ]
     },
     "execution_count": 231,
     "metadata": {},
     "output_type": "execute_result"
    }
   ],
   "source": [
    "# INTEGRATE EXPONENTIAL\n",
    "\n",
    "\n",
    "func = sym.exp(x)\n",
    "sym.integrate(func,x)"
   ]
  },
  {
   "cell_type": "markdown",
   "metadata": {},
   "source": [
    "#### 1.2.2 Integrating polynomials\n",
    "\n",
    "Rarely will real antiderivatives be as simple as the examples above - they will often be polynomials - i.e. composed of multiple component parts. We can simply apply the integration rules sequentially to integrate polynomial functions. The key is to remember that a variable presented with no exponent has a hidden exponent of 1, so we can always apply the integration formula:\n",
    "\\\n",
    "\\\n",
    "$\\int x^n dx = (x^{n+1}/n+1)\\,\\, +c$\n",
    "\\\n",
    "\\\n",
    "For example:\n",
    "\\\n",
    "\\\n",
    "$\\int 5 + sin(x)\\,\\, dx$\n",
    "\\\n",
    "\\\n",
    "we know from the rules above that the integral of $sin(x)$ is $-cos(x)$ and that a constant integrates to that constant multiplied by x, so the antiderivative of the above function is:\n",
    "\\\n",
    "\\\n",
    "$5x - cos(x) + c$\n",
    "\\\n",
    "\\\n",
    "In the case of $\\int 5x^3\\,\\, dx$ the constant comes along unchanged and we use it to scale the integral of $x^3$, so that \n",
    "\\\n",
    "\\\n",
    "$\\int 5x^3\\,\\, dx\\,\\,=\\,\\,5*(x^4/4) + c$ \n",
    "\\\n",
    "\\\n",
    "which simplifies to \n",
    "\\\n",
    "\\\n",
    "$5/4 x^4 + c$.\n",
    "\\\n",
    "\\\n",
    "For more complex polynomials, we still apply the rule sequentially to find the antiderivative, for example in the case $\\int x^2 - 5x + 6 \\,\\, dx$ we can simply integrate the component parts:\n",
    "\\\n",
    "\\\n",
    "$\\int x^2\\,\\,dx\\,\\,=x^3/3$\n",
    "\\\n",
    "\\\n",
    "$\\int-5x\\,\\,dx\\,\\,=\\,\\,-5 * x^{1+1}/1+1\\,\\,=-5x^2 / 2$\n",
    "\\\n",
    "\\\n",
    "$\\int6\\,\\,dx\\,\\,=\\,\\,6x$\n",
    "\\\n",
    "\\\n",
    "and reassembling these individual integrals gives:\n",
    "\\\n",
    "\\\n",
    "$\\int x^2 - 5x + 6 \\,\\, dx\\,\\,=\\,\\,(x^3/3) -(5x^2/2) + (6x)$\n",
    "\\\n",
    "\\\n",
    "and then of course adding the constant of integration\n",
    "\\\n",
    "\\\n",
    "$\\int x^2 - 5x + 6 \\,\\, dx\\,\\,=\\,\\,(x^3/3) -(5x^2/2) + (6x) +c$\n",
    "\\\n",
    "\\\n",
    "Quick verification with SymPy (remembering SymPy does not add c):"
   ]
  },
  {
   "cell_type": "code",
   "execution_count": 232,
   "metadata": {},
   "outputs": [
    {
     "data": {
      "text/latex": [
       "$\\displaystyle 5 x - \\cos{\\left(x \\right)}$"
      ],
      "text/plain": [
       "5*x - cos(x)"
      ]
     },
     "execution_count": 232,
     "metadata": {},
     "output_type": "execute_result"
    }
   ],
   "source": [
    "# INTEGRATE 5 + SIN(X)\n",
    "# expected answer = 5x - cos(x)\n",
    "\n",
    "func = 5 + sym.sin(x)\n",
    "sym.integrate(func,x)"
   ]
  },
  {
   "cell_type": "code",
   "execution_count": 233,
   "metadata": {},
   "outputs": [
    {
     "data": {
      "text/latex": [
       "$\\displaystyle \\frac{5 x^{4}}{4}$"
      ],
      "text/plain": [
       "5*x**4/4"
      ]
     },
     "execution_count": 233,
     "metadata": {},
     "output_type": "execute_result"
    }
   ],
   "source": [
    "# INTEGRATE 5x^3\n",
    "# expected answer = (5x^4)/4\n",
    "\n",
    "func = 5*(x**3)\n",
    "sym.integrate(func,x)"
   ]
  },
  {
   "cell_type": "code",
   "execution_count": 234,
   "metadata": {},
   "outputs": [
    {
     "data": {
      "text/latex": [
       "$\\displaystyle \\frac{x^{3}}{3} - \\frac{5 x^{2}}{2} + 6 x$"
      ],
      "text/plain": [
       "x**3/3 - 5*x**2/2 + 6*x"
      ]
     },
     "execution_count": 234,
     "metadata": {},
     "output_type": "execute_result"
    }
   ],
   "source": [
    "# INTEGRATE 5x^3\n",
    "# expected answer = x^3/3 -5x^2/2 + 6x\n",
    "\n",
    "func = x**2 - 5*x + 6\n",
    "sym.integrate(func,x)"
   ]
  },
  {
   "cell_type": "markdown",
   "metadata": {},
   "source": [
    "#### 1.2.2 Integrating quotients\n",
    "\\\n",
    "to integrate a function where $x$ is divided by some number $b$, we can still apply the rule used to integrate powers of x above:\n",
    "\n",
    "$\\int x^n dx = (x^{n+1}/n+1)\\,\\, + c$\n",
    "\n",
    "In the case of $\\int x/b dx$ we simply follow the same pattern, with the knowledge that $x = x^{1}$ and dividing by $b * (n+1) $, so that\n",
    "\n",
    "$\\int x/b \\,\\,dx = x^{n+1} / (b * n + 1)$\n",
    "\\\n",
    "\\\n",
    "For example:\n",
    "\n",
    "$\\int x/2 \\,\\,dx \\,\\,= \\,\\,x^{1+1} / (2 * 1+1)\\,\\, = \\,x^2/4$\n",
    "\\\n",
    "\\\n",
    "or\n",
    "\\\n",
    "\\\n",
    "$\\int 3x/4 \\,\\,dx \\,\\,= \\,\\,3 * x^{1+1} / (4 * 1 + 1)\\,\\, = \\,3x^2/8$\n",
    "\\\n",
    "\\\n",
    "or\n",
    "\\\n",
    "\\\n",
    "$\\int 2x^3/5 \\,\\,dx \\,\\,= \\,\\,2 * x^{3+1} / (5 * 3 + 1)\\,\\, = \\,2x^4/20\\,\\,=\\,\\,x^4/10$\n",
    "\\\n",
    "\\\n",
    "as usual let's verify with SymPy:"
   ]
  },
  {
   "cell_type": "code",
   "execution_count": 235,
   "metadata": {},
   "outputs": [
    {
     "data": {
      "text/latex": [
       "$\\displaystyle \\frac{x^{2}}{4}$"
      ],
      "text/plain": [
       "x**2/4"
      ]
     },
     "execution_count": 235,
     "metadata": {},
     "output_type": "execute_result"
    }
   ],
   "source": [
    "# INTEGRATE x/2\n",
    "# expected answer = x^2/4\n",
    "\n",
    "func = x/2\n",
    "sym.integrate(func,x)"
   ]
  },
  {
   "cell_type": "code",
   "execution_count": 236,
   "metadata": {},
   "outputs": [
    {
     "data": {
      "text/latex": [
       "$\\displaystyle \\frac{3 x^{2}}{8}$"
      ],
      "text/plain": [
       "3*x**2/8"
      ]
     },
     "execution_count": 236,
     "metadata": {},
     "output_type": "execute_result"
    }
   ],
   "source": [
    "# INTEGRATE 3x/4\n",
    "# expected answer = 3x^2/8\n",
    "\n",
    "func = 3*x/4\n",
    "sym.integrate(func,x)"
   ]
  },
  {
   "cell_type": "code",
   "execution_count": 237,
   "metadata": {},
   "outputs": [
    {
     "data": {
      "text/latex": [
       "$\\displaystyle \\frac{x^{4}}{10}$"
      ],
      "text/plain": [
       "x**4/10"
      ]
     },
     "execution_count": 237,
     "metadata": {},
     "output_type": "execute_result"
    }
   ],
   "source": [
    "# INTEGRATE 2x^3/5\n",
    "# expected answer = x^4/10\n",
    "\n",
    "func = (2*x**3)/5\n",
    "sym.integrate(func,x)"
   ]
  },
  {
   "cell_type": "markdown",
   "metadata": {},
   "source": [
    "#### 1.2.3 Reverse Chain Rule\n",
    "\n",
    "For integrating composite functions we can reverse the chain rule. Remember that the chain rule allows us to differentiate a composite function such that a function $f(g(x))$ is differentiatied as $g'(f(x))*f'(x)$, i.e. the derivative of the outer function $g$ with respect to $f(x)$ multiplied by the derivative of $f(x)$. This could alternatively be represented as $dg/df * df/dx$.\n",
    "\n",
    "To integrate that composite function, we can simply apply this rule in reverse, i.e:\n",
    "\n",
    "$\\int g'(f(x))*f'(x)\\,\\, = \\,\\,g(f(x)) + c$\n",
    "\n",
    "For example if we have the function $sin(x)^3 . cos(x) $ and we wan to find the indefinite integral, we first separate the function into $f(x)$ and $g(x)$, take the antiderivative of $g$ with respect to $f(x)$ and then add the constant of integration, so that:\n",
    "\\\n",
    "\\\n",
    "$\\int sin(x)^3 * cos(x)\\,\\,dx$\n",
    "\\\n",
    "\\\n",
    "$g(x) = sin(x)$\n",
    "\\\n",
    "\\\n",
    "$f(g(x))) = g(x)^3$\n",
    "\\\n",
    "\\\n",
    "then applying the reverse chain rule: $\\int g'(f(x))*f'(x)\\,\\, = \\,\\,g(f(x)) + c$\n",
    "\\\n",
    "\\\n",
    "using the rules defined above, the antiderivative of $sin(x)^3$ is equal to $sin(x)^4/4$\n",
    "\\\n",
    "\\\n",
    "$\\int sin(x)^3 . cos(x)\\,\\,dx\\,\\,=\\,\\,=\\,\\,sin^4(x)/4 + c$\n",
    "\\\n",
    "\\\n",
    "\\\n",
    "Or another example:\n",
    "\n",
    "$\\int 7(2x+1)^6 \\,\\,dx\\,\\,=\\,\\,7 * ((2x+1)^7) / 7\\,\\,\\,$ \n",
    "\\\n",
    "\\\n",
    "then the 7's cancel to give $(2x+1)^7 + c$\n",
    "\\\n",
    "\\\n",
    "Let's verify these integrations using SymPy.\n"
   ]
  },
  {
   "cell_type": "code",
   "execution_count": 238,
   "metadata": {},
   "outputs": [
    {
     "data": {
      "text/latex": [
       "$\\displaystyle \\frac{\\sin^{4}{\\left(x \\right)}}{4}$"
      ],
      "text/plain": [
       "sin(x)**4/4"
      ]
     },
     "execution_count": 238,
     "metadata": {},
     "output_type": "execute_result"
    }
   ],
   "source": [
    "# INTEGRATE 2x^3/5\n",
    "# expected answer = x^4/10\n",
    "\n",
    "func = sym.sin(x)**3 * sym.cos(x)\n",
    "sym.integrate(func,x)"
   ]
  },
  {
   "cell_type": "markdown",
   "metadata": {},
   "source": [
    "Note that SymPy can sometimes evaluate composite functions as long polynomials where each term has to be integrated again individually and the expression simplified to reach the solutio we would reach by hand. To resolve this, we can pass the keyword argument manual = True to the integrate function and this will force SymPy to replicate the steps we take to integrate the function by hand."
   ]
  },
  {
   "cell_type": "code",
   "execution_count": 239,
   "metadata": {},
   "outputs": [
    {
     "data": {
      "text/latex": [
       "$\\displaystyle \\left(2 x + 1\\right)^{7}$"
      ],
      "text/plain": [
       "(2*x + 1)**7"
      ]
     },
     "execution_count": 239,
     "metadata": {},
     "output_type": "execute_result"
    }
   ],
   "source": [
    "func = (7*(2*x+1)**6)*2\n",
    "sym.integrate(func,x,manual=True)\n"
   ]
  },
  {
   "cell_type": "markdown",
   "metadata": {},
   "source": [
    "### Definite Integrals from indefinite integrals"
   ]
  },
  {
   "cell_type": "markdown",
   "metadata": {},
   "source": [
    "The fundamental theorem of calculus shows that definite integrals can be calculated from the indefinite integrals evalated at the upper and lower bounds of integration. The difference between the antiderivative of point $f$ at point $a$ and the antiderivative of function $f$ at point $b$. \n",
    "\n",
    "$\\int_a^b f(x) dx \\,\\, = \\,\\, F(a) - F(b)$\n",
    "\n",
    "\n",
    "we can achieve this using Python. First we will define the function $f$ to integrate:\n",
    "\n",
    "$f = x^4/10$\n",
    "\n",
    "between the upper bound $a = 4$ and $b = 8$.\n",
    "\n",
    "Then we use SymPy to determine the indefinite integral (antiderivative)."
   ]
  },
  {
   "cell_type": "code",
   "execution_count": 240,
   "metadata": {},
   "outputs": [
    {
     "data": {
      "text/latex": [
       "$\\displaystyle \\frac{x^{4}}{10}$"
      ],
      "text/plain": [
       "x**4/10"
      ]
     },
     "execution_count": 240,
     "metadata": {},
     "output_type": "execute_result"
    }
   ],
   "source": [
    "# FIND THE DEFINITE INTEGRAL OF 2x^3/5 BETWEEN 1 and 5\n",
    "# expected answer = x^4/10\n",
    "\n",
    "# INTEGRATE 2x^3/5\n",
    "# expected answer = x^4/10\n",
    "\n",
    "func = (2*x**3)/5\n",
    "sym.integrate(func,x)\n"
   ]
  },
  {
   "cell_type": "markdown",
   "metadata": {},
   "source": [
    "Having determined that the indefinite integral of function $f$ is equal to $x^4/10$ we can evaluate its value at the specific points we want to integrate between. Let's visualise the function and the limits of integration..."
   ]
  },
  {
   "cell_type": "code",
   "execution_count": 241,
   "metadata": {},
   "outputs": [
    {
     "data": {
      "text/plain": [
       "<matplotlib.lines.Line2D at 0x7fcf6b7f84d0>"
      ]
     },
     "execution_count": 241,
     "metadata": {},
     "output_type": "execute_result"
    },
    {
     "data": {
      "image/png": "[encoded data removed]",
      "text/plain": [
       "<Figure size 432x288 with 1 Axes>"
      ]
     },
     "metadata": {
      "needs_background": "light"
     },
     "output_type": "display_data"
    }
   ],
   "source": [
    "import matplotlib.pyplot as plt\n",
    "import numpy as np\n",
    "x = np.arange(0,10,1)\n",
    "func = lambda x: (2*x**3)/5\n",
    "\n",
    "y = func(x)\n",
    "\n",
    "plt.plot(x,y)\n",
    "plt.axvline(x = 4, color = 'k', linestyle='--', alpha = 0.2)\n",
    "plt.axvline(x = 8, color = 'k', linestyle='--', alpha = 0.2)"
   ]
  },
  {
   "cell_type": "markdown",
   "metadata": {},
   "source": [
    "Now we will define the indefinite integral F and evaluate it at $a$ and $b$, then the definite integral is the difference between them."
   ]
  },
  {
   "cell_type": "code",
   "execution_count": 242,
   "metadata": {},
   "outputs": [
    {
     "name": "stdout",
     "output_type": "stream",
     "text": [
      "161.33333333333331\n"
     ]
    }
   ],
   "source": [
    "f = lambda x: (x**4)/10\n",
    "\n",
    "lowF = F(4)\n",
    "highF = F(8)\n",
    "\n",
    "DefIntegral = highF-lowF\n",
    "\n",
    "print(DefIntegral)"
   ]
  },
  {
   "cell_type": "markdown",
   "metadata": {},
   "source": [
    "## Numeric Integration"
   ]
  },
  {
   "cell_type": "markdown",
   "metadata": {},
   "source": [
    "In many cases the analytical solutions to integration problems are too difficult or even impossible to solve. In these cases the integral can be estimated using numerical methods which amount to dividing the area unde the curve into discrete sections and summing them, providing an increasingly accurate estimate of the area under the curve of function $f$ as the width of the sections decrease."
   ]
  },
  {
   "cell_type": "markdown",
   "metadata": {},
   "source": [
    "### Riemann Sums"
   ]
  },
  {
   "cell_type": "markdown",
   "metadata": {},
   "source": [
    "The most basic method for estimating a definite integral (i.e. numeric integration) is the Riemann sum, which simply partitions the area under the curve of function $f$ into regular rectangles of width dx and sums their areas. There are two configurations - left Riemann sums and right Riemann sums. In the case of left Riemann sums, the height of the rectangles used to partition the area under the curve is defined by the point at which the upper left corner of the rectangle touches the curve. For right Riemann sums it is the upper right corner of the rectangle that defines the height of the rectangle.\n",
    "\n",
    "Let's start with an example of a left Riemann sum. First we will define a function and calculate the definite integral analytically so we have a target to compare our numeric approximations against.\n",
    "\n",
    "Our function will be $f = x^2 + 3$ and we wish to integrate between $a = 0$ and $b = 10$\n"
   ]
  },
  {
   "cell_type": "code",
   "execution_count": 243,
   "metadata": {},
   "outputs": [
    {
     "data": {
      "text/latex": [
       "$\\displaystyle \\frac{x^{3}}{3} + 3 x$"
      ],
      "text/plain": [
       "x**3/3 + 3*x"
      ]
     },
     "execution_count": 243,
     "metadata": {},
     "output_type": "execute_result"
    }
   ],
   "source": [
    "\n",
    "#1. define function and calculate indefinite integral\n",
    "\n",
    "# define symbolic variable x\n",
    "x = sym.symbols('x')\n",
    "func = (x**2) + 3\n",
    "sym.integrate(func)\n",
    "   "
   ]
  },
  {
   "cell_type": "code",
   "execution_count": 244,
   "metadata": {},
   "outputs": [
    {
     "name": "stdout",
     "output_type": "stream",
     "text": [
      "The analytic definite integral is: \n",
      "363.333\n",
      "This is the value we wish to estimate using numeric methods.\n"
     ]
    }
   ],
   "source": [
    "# now evaluate the antiderivative F at the upper and lower bounds\n",
    "\n",
    "F = lambda x: ((x**3)/3) +3*x\n",
    "\n",
    "lower = F(0)\n",
    "upper = F(10)\n",
    "\n",
    "# the difference between the upper and lower values gives the definite integral\n",
    "defIntegral = upper-lower\n",
    "\n",
    "print(\"The analytic definite integral is: \")\n",
    "print(np.round(defIntegral,3))\n",
    "print(\"This is the value we wish to estimate using numeric methods.\")\n"
   ]
  },
  {
   "cell_type": "markdown",
   "metadata": {},
   "source": [
    "Having determined the analytic definite integral, we can now proceed to estimating it numerically using a left Riemann sum. We do this by dividing the area under the curve of the function $f$ into discrete rectangles. We will start by dividing into ten rectangles of equal width, $dx$.\n"
   ]
  },
  {
   "cell_type": "code",
   "execution_count": 245,
   "metadata": {},
   "outputs": [
    {
     "name": "stdout",
     "output_type": "stream",
     "text": [
      "the array of x values contains: \n",
      "\n",
      "[ 0.  1.  2.  3.  4.  5.  6.  7.  8.  9. 10.]\n",
      "\n",
      "The length of this array is:  11\n"
     ]
    }
   ],
   "source": [
    "N = 10 # (number of rectangles)\n",
    "lower = 0 # lower bound\n",
    "upper = 10 # upper bound\n",
    "\n",
    "xs = np.linspace(lower, upper, N+1) # create array of x values. N+1 because 10 \n",
    "# rectangles need 11 indexes - 0-1, 1-2, 2-3... 9-10\n",
    "\n",
    "print(\"the array of x values contains: \\n\")\n",
    "print(xs)\n",
    "print(\"\\nThe length of this array is: \", len(xs))\n"
   ]
  },
  {
   "cell_type": "markdown",
   "metadata": {},
   "source": [
    "We can now evaluate the value of the function $f$ at the left-edge of each of the ten rectangles. To get the left edge, we evaluate at the ten elements of array $xs$ that start at index = 0 and stop at index  = end-1."
   ]
  },
  {
   "cell_type": "code",
   "execution_count": 246,
   "metadata": {},
   "outputs": [
    {
     "name": "stdout",
     "output_type": "stream",
     "text": [
      "\n",
      "The values f(x) for xs[0:-1] are: \n",
      "\n",
      "[ 3.  4.  7. 12. 19. 28. 39. 52. 67. 84.]\n",
      "\n",
      " In the plot below, the line represents the function f(x)\n",
      " The red crosses mark the values of f(x) at the left edge f the Riemann rectangles\n",
      "The blue bars show the area of the Riemann rectangles\n"
     ]
    },
    {
     "data": {
      "text/plain": [
       "Text(0, 80, 'LEFT RIEMANN SUM')"
      ]
     },
     "execution_count": 246,
     "metadata": {},
     "output_type": "execute_result"
    },
    {
     "data": {
      "image/png": "[encoded data removed]",
      "text/plain": [
       "<Figure size 720x360 with 1 Axes>"
      ]
     },
     "metadata": {
      "needs_background": "light"
     },
     "output_type": "display_data"
    }
   ],
   "source": [
    "# calculate y values for x[0:-1]\n",
    "\n",
    "func = lambda x: (x**2) + 3\n",
    "\n",
    "ys = func(xs)\n",
    "\n",
    "# print values and plot description\n",
    "print(\"\\nThe values f(x) for xs[0:-1] are: \\n\")\n",
    "print(ys[0:-1])\n",
    "print(\"\\n In the plot below, the line represents the function f(x)\")\n",
    "print(\" The red crosses mark the values of f(x) at the left edge f the Riemann rectangles\")\n",
    "print(\"The blue bars show the area of the Riemann rectangles\")\n",
    "\n",
    "# plot rectangles, function and left Riemann values\n",
    "plt.figure(figsize=(10,5))\n",
    "plt.plot(xs,ys)\n",
    "plt.bar(xs[0:-1],ys[0:-1],width=(upper-lower)/N,alpha=0.2,align='edge',edgecolor='b')\n",
    "plt.plot(xs[0:-1],ys[0:-1],marker = 'x',color='r', linestyle='None')\n",
    "plt.xlabel('xs')\n",
    "plt.ylabel('f(x)')\n",
    "plt.text(0,80,'LEFT RIEMANN SUM', fontsize = 20)"
   ]
  },
  {
   "cell_type": "markdown",
   "metadata": {},
   "source": [
    "There are several points to notice in the plot above. The function $f$ is represented by the continuous line, and the rectangles represent the area that we have divided the area beneath the curve into. This is a left Riemann integration because we are using the values of $f(x)$ where the upper left corner of each rectangle meets the curve and assuming that that value is representative of the height of the curve across the entire step $dx$. \n",
    "\n",
    "The next stage is to calculate the area of each of these rectangles and sum them to estimate the area under the curve...\n"
   ]
  },
  {
   "cell_type": "code",
   "execution_count": 247,
   "metadata": {},
   "outputs": [
    {
     "name": "stdout",
     "output_type": "stream",
     "text": [
      "STEP SIZE =  1.0\n",
      "AREA OF EACH RECTANGLE:  [ 3.  4.  7. 12. 19. 28. 39. 52. 67. 84.]\n",
      "DEFINITE INTEGRAL =  363.3333333333333\n",
      "NUMERIC ESTIMATE OF DEFINITE INTEGRAL =  315.0\n"
     ]
    }
   ],
   "source": [
    "step = (upper-lower)/N\n",
    "areas = ys[0:-1]*step\n",
    "NumIntegral = np.sum(areas)\n",
    "\n",
    "print(\"STEP SIZE = \",step)\n",
    "print(\"AREA OF EACH RECTANGLE: \", areas)\n",
    "print(\"DEFINITE INTEGRAL = \", defIntegral)\n",
    "print(\"NUMERIC ESTIMATE OF DEFINITE INTEGRAL = \", NumIntegral)"
   ]
  },
  {
   "cell_type": "markdown",
   "metadata": {},
   "source": [
    "We have successfully estimated the area under the curve - let's compare it to our analytic definite integral to see how accurate we were..."
   ]
  },
  {
   "cell_type": "code",
   "execution_count": 248,
   "metadata": {},
   "outputs": [
    {
     "name": "stdout",
     "output_type": "stream",
     "text": [
      "absolute error =  48.333333333333314\n",
      "percentage error =  13.3\n"
     ]
    }
   ],
   "source": [
    "error = abs(defIntegral - NumIntegral)\n",
    "pc_error = (error/defIntegral)*100\n",
    "\n",
    "print(\"absolute error = \", error)\n",
    "print(\"percentage error = \", np.round(pc_error,2))\n"
   ]
  },
  {
   "cell_type": "markdown",
   "metadata": {},
   "source": [
    "This is not a particularly good estimate! But this is not surprising since our step size was large - we can see by looking at the plot above that there are significant gaps between the top of our rectangles and the real curve traced by $f(x)$ - it is the sum of the area of these gaps that leads to the error in our estimate. We can improve our estimate by reducing the step size - let's repeat the calculation using smaller steps and observe the change in the error..."
   ]
  },
  {
   "cell_type": "code",
   "execution_count": 254,
   "metadata": {},
   "outputs": [
    {
     "name": "stdout",
     "output_type": "stream",
     "text": [
      "STEP SIZE =  0.1\n",
      "\n",
      "In the plot below, the line represents the function f(x)\n",
      "The red crosses mark the values of f(x) at the left edge f the Riemann rectangles\n",
      "The blue bars show the area of the Riemann rectangles\n",
      "DEFINITE INTEGRAL =  363.3333333333333\n",
      "\n",
      "NUMERICAL ESTIMATE OF DEFINITE INTEGRAL =  358.35\n",
      "\n",
      "absolute error =  4.98\n",
      "percentage error =  1.37\n"
     ]
    },
    {
     "data": {
      "image/png": "[encoded data removed]",
      "text/plain": [
       "<Figure size 720x360 with 1 Axes>"
      ]
     },
     "metadata": {
      "needs_background": "light"
     },
     "output_type": "display_data"
    }
   ],
   "source": [
    "# THIS TIME USE 100 STEPS OF \n",
    "\n",
    "N = 100 # (number of rectangles)\n",
    "lower = 0 # lower bound\n",
    "upper = 10 # upper bound\n",
    "dx = (upper-lower)/N\n",
    "\n",
    "xs = np.linspace(lower, upper, N+1) # create array of x values. N+1 because 10 \n",
    "# rectangles need 11 indexes - 0-1, 1-2, 2-3... 9-10\n",
    "\n",
    "# calculate y values for x[0:-1]\n",
    "# (func is carried over from the previous calculation)\n",
    "\n",
    "ys = func(xs)\n",
    "\n",
    "print(\"STEP SIZE = \", dx)\n",
    "# print values and plot description\n",
    "print(\"\\nIn the plot below, the line represents the function f(x)\")\n",
    "print(\"The red crosses mark the values of f(x) at the left edge f the Riemann rectangles\")\n",
    "print(\"The blue bars show the area of the Riemann rectangles\")\n",
    "\n",
    "# plot rectangles, function and left Riemann values\n",
    "plt.figure(figsize=(10,5))\n",
    "plt.plot(xs,ys)\n",
    "plt.bar(xs[0:-1],ys[0:-1],width=(upper-lower)/N,alpha=0.2,align='edge',edgecolor='b')\n",
    "plt.plot(xs[0:-1],ys[0:-1],marker = 'x',color='r', linestyle='None')\n",
    "plt.xlabel('xs')\n",
    "plt.ylabel('f(x)')\n",
    "\n",
    "step = (upper-lower)/N\n",
    "areas = ys[0:-1]*step\n",
    "NumIntegral = np.sum(areas)\n",
    "print(\"DEFINITE INTEGRAL = \",defIntegral)\n",
    "print(\"\\nNUMERICAL ESTIMATE OF DEFINITE INTEGRAL = \", np.round(NumIntegral,2))\n",
    "\n",
    "error = np.round(abs(defIntegral - NumIntegral),2)\n",
    "pc_error = (error/defIntegral)*100\n",
    "\n",
    "print(\"\\nabsolute error = \", error)\n",
    "print(\"percentage error = \", np.round(pc_error,2))"
   ]
  },
  {
   "cell_type": "markdown",
   "metadata": {},
   "source": [
    "This is a much better estimate, roughly halving the percentage error, we can also repeat this again with an even smaller step size and achieve a smaller error again..."
   ]
  },
  {
   "cell_type": "code",
   "execution_count": 255,
   "metadata": {
    "scrolled": false
   },
   "outputs": [
    {
     "name": "stdout",
     "output_type": "stream",
     "text": [
      "STEP SIZE =  0.01\n",
      "\n",
      "In the plot below, the line represents the function f(x)\n",
      "The red crosses mark the values of f(x) at the left edge f the Riemann rectangles\n",
      "The blue bars show the area of the Riemann rectangles\n",
      "\n",
      "NUMERICAL ESTIMATE OF DEFINITE INTEGRAL =  362.83\n",
      "\n",
      "absolute error =  0.4998333333332994\n",
      "percentage error =  0.14\n"
     ]
    },
    {
     "data": {
      "image/png": "[encoded data removed]",
      "text/plain": [
       "<Figure size 720x360 with 1 Axes>"
      ]
     },
     "metadata": {
      "needs_background": "light"
     },
     "output_type": "display_data"
    }
   ],
   "source": [
    "# THIS TIME USE 10000 STEPS OF \n",
    "\n",
    "N = 1000 # (number of rectangles)\n",
    "lower = 0 # lower bound\n",
    "upper = 10 # upper bound\n",
    "dx = (upper-lower)/N\n",
    "\n",
    "xs = np.linspace(lower, upper, N+1) # create array of x values. N+1 because 10 \n",
    "# rectangles need 11 indexes - 0-1, 1-2, 2-3... 9-10\n",
    "\n",
    "# calculate y values for x[0:-1]\n",
    "# (func is carried over from the previous calculation)\n",
    "\n",
    "ys = func(xs)\n",
    "\n",
    "print(\"STEP SIZE = \", dx)\n",
    "# print values and plot description\n",
    "print(\"\\nIn the plot below, the line represents the function f(x)\")\n",
    "print(\"The red crosses mark the values of f(x) at the left edge f the Riemann rectangles\")\n",
    "print(\"The blue bars show the area of the Riemann rectangles\")\n",
    "\n",
    "# plot rectangles, function and left Riemann values\n",
    "plt.figure(figsize=(10,5))\n",
    "plt.plot(xs,ys)\n",
    "plt.bar(xs[0:-1],ys[0:-1],width=(upper-lower)/N,alpha=0.2,align='edge',edgecolor='b')\n",
    "plt.plot(xs[0:-1],ys[0:-1],marker = 'x',color='r', linestyle='None')\n",
    "plt.xlabel('xs')\n",
    "plt.ylabel('f(x)')\n",
    "\n",
    "step = (upper-lower)/N\n",
    "areas = ys[0:-1]*step\n",
    "NumIntegral = np.sum(areas)\n",
    "\n",
    "print(\"\\nNUMERICAL ESTIMATE OF DEFINITE INTEGRAL = \", np.round(NumIntegral,2))\n",
    "\n",
    "error = abs(defIntegral - NumIntegral)\n",
    "pc_error = (error/defIntegral)*100\n",
    "\n",
    "print(\"\\nabsolute error = \", error)\n",
    "print(\"percentage error = \", np.round(pc_error,2))"
   ]
  },
  {
   "cell_type": "markdown",
   "metadata": {},
   "source": [
    "We can therefore see that reducing the width of the rectangles, i.e. reducing the magnitude of the step size $dx$ increases the accuracy of the estimated definite integral obtained using the Riemann sum. These examples used the LEFT Riemann sum. Because the upper left corner of the rectangles is used to represent the height of the rectangle across the step $dx$, the left Riemann sum systematically underestimats the value of $f(x)$ over $dx$ for upwardstrending functions and overestimates for downwards trending functions, as illustrated in the figure below... "
   ]
  },
  {
   "cell_type": "code",
   "execution_count": 251,
   "metadata": {
    "scrolled": false
   },
   "outputs": [
    {
     "data": {
      "text/plain": [
       "Text(0, 0.5, 'f(x)')"
      ]
     },
     "execution_count": 251,
     "metadata": {},
     "output_type": "execute_result"
    },
    {
     "data": {
      "image/png": "[encoded data removed]",
      "text/plain": [
       "<Figure size 720x720 with 2 Axes>"
      ]
     },
     "metadata": {
      "needs_background": "light"
     },
     "output_type": "display_data"
    }
   ],
   "source": [
    "# plot rectangles, function and left Riemann values\n",
    "N = 10\n",
    "func = lambda x: x**2\n",
    "func2 = lambda x: -0.3*x**2 +30\n",
    "upper = 10\n",
    "lower = 0\n",
    "xs = np.linspace(lower,upper,N+1)\n",
    "ys = func(xs)\n",
    "ys2 = func2(xs)\n",
    "\n",
    "fig, axes = plt.subplots(2,1, figsize=(10,10))\n",
    "\n",
    "axes[0].plot(xs,ys)\n",
    "axes[0].bar(xs[0:-1],ys[0:-1],width=(upper-lower)/N,alpha=0.2,align='edge',edgecolor='b')\n",
    "axes[0].plot(xs[0:-1],ys[0:-1],marker = 'x',color='r', linestyle='None')\n",
    "axes[0].set_xlabel('xs')\n",
    "axes[0].set_ylabel('f(x)')\n",
    "\n",
    "axes[1].plot(xs,ys2)\n",
    "axes[1].bar(xs[0:-1],ys2[0:-1],width=(upper-lower)/N,alpha=0.2,align='edge',edgecolor='b')\n",
    "axes[1].plot(xs[0:-1],ys2[0:-1],marker = 'x',color='r', linestyle='None')\n",
    "axes[1].set_xlabel('xs')\n",
    "axes[1].set_ylabel('f(x)')\n",
    "\n"
   ]
  },
  {
   "cell_type": "markdown",
   "metadata": {},
   "source": [
    "The opposite is true for Right Riemann sums. Unsurprisingly, right Riemann sums are identical to left Riemann sums except that they use the value of $f(x)$ evaluated at the upper right corner of each rectangle to represent the value of $f(x)$ across $dx$. I won't repeat all the descriptions above but I will repat the example above using a right Riemann sum in place of the left Riemann sum..."
   ]
  },
  {
   "cell_type": "code",
   "execution_count": 262,
   "metadata": {},
   "outputs": [
    {
     "name": "stdout",
     "output_type": "stream",
     "text": [
      "STEP SIZE =  1.0\n",
      "\n",
      "In the plot below, the line represents the function f(x)\n",
      "The red crosses mark the values of f(x) at the left edge f the Riemann rectangles\n",
      "The blue bars show the area of the Riemann rectangles\n",
      "DEFINITE INTEGRAL =  363.3333333333333\n",
      "\n",
      "NUMERICAL ESTIMATE OF DEFINITE INTEGRAL =  415.0\n",
      "\n",
      "absolute error =  51.67\n",
      "percentage error =  14.22\n"
     ]
    },
    {
     "data": {
      "image/png": "[encoded data removed]",
      "text/plain": [
       "<Figure size 720x360 with 1 Axes>"
      ]
     },
     "metadata": {
      "needs_background": "light"
     },
     "output_type": "display_data"
    }
   ],
   "source": [
    "# THIS TIME USE 100 STEPS OF \n",
    "\n",
    "N = 10 # (number of rectangles)\n",
    "lower = 0 # lower bound\n",
    "upper = 10 # upper bound\n",
    "dx = (upper-lower)/N\n",
    "\n",
    "xs = np.linspace(lower, upper, N+1) # create array of x values. N+1 because 10 \n",
    "# rectangles need 11 indexes - 0-1, 1-2, 2-3... 9-10\n",
    "\n",
    "# calculate y values for x[0:-1]\n",
    "# (func is carried over from the previous calculation)\n",
    "\n",
    "ys = func(xs)\n",
    "\n",
    "print(\"STEP SIZE = \", dx)\n",
    "# print values and plot description\n",
    "print(\"\\nIn the plot below, the line represents the function f(x)\")\n",
    "print(\"The red crosses mark the values of f(x) at the left edge f the Riemann rectangles\")\n",
    "print(\"The blue bars show the area of the Riemann rectangles\")\n",
    "\n",
    "# plot rectangles, function and left Riemann values\n",
    "plt.figure(figsize=(10,5))\n",
    "plt.plot(xs,ys)\n",
    "plt.bar(xs[0:-1],ys[1:],width=(upper-lower)/N,alpha=0.2,align='edge',edgecolor='b')\n",
    "plt.plot(xs[1:],ys[1:],marker = 'x',color='r', linestyle='None')\n",
    "plt.xlabel('xs')\n",
    "plt.ylabel('f(x)')\n",
    "\n",
    "step = (upper-lower)/N\n",
    "areas = ys[1:]*step\n",
    "NumIntegral = np.sum(areas)\n",
    "print(\"DEFINITE INTEGRAL = \",defIntegral)\n",
    "print(\"\\nNUMERICAL ESTIMATE OF DEFINITE INTEGRAL = \", np.round(NumIntegral,2))\n",
    "\n",
    "error = np.round(abs(defIntegral - NumIntegral),2)\n",
    "pc_error = (error/defIntegral)*100\n",
    "\n",
    "print(\"\\nabsolute error = \", error)\n",
    "print(\"percentage error = \", np.round(pc_error,2))"
   ]
  },
  {
   "cell_type": "markdown",
   "metadata": {},
   "source": [
    "Notice that in this right Riemann sum example the area under the curve is over-estimated - for the left Riemann sum earlier the same area was under-estimated.\n",
    "\n",
    "These systematic over and underestimates can be minimised by using methods that adjust the shape of the top of each rectangle to a more precise fit to the actual function shape. We will look at these next, starting with the Trapezoidal rule..."
   ]
  },
  {
   "cell_type": "markdown",
   "metadata": {},
   "source": [
    "### Trapezoidal Rule\n",
    "\n",
    "\n"
   ]
  },
  {
   "cell_type": "code",
   "execution_count": 253,
   "metadata": {},
   "outputs": [
    {
     "ename": "SyntaxError",
     "evalue": "invalid syntax (<ipython-input-253-3ab4a80dc137>, line 1)",
     "output_type": "error",
     "traceback": [
      "\u001b[0;36m  File \u001b[0;32m\"<ipython-input-253-3ab4a80dc137>\"\u001b[0;36m, line \u001b[0;32m1\u001b[0m\n\u001b[0;31m    riemann sums, trapezoidal rule, simpsons rule, quadrature\u001b[0m\n\u001b[0m               ^\u001b[0m\n\u001b[0;31mSyntaxError\u001b[0m\u001b[0;31m:\u001b[0m invalid syntax\n"
     ]
    }
   ],
   "source": [
    "riemann sums, trapezoidal rule, simpsons rule, quadrature\n",
    "compare to analytic solution"
   ]
  },
  {
   "cell_type": "markdown",
   "metadata": {},
   "source": []
  },
  {
   "cell_type": "markdown",
   "metadata": {},
   "source": [
    "## Errors"
   ]
  },
  {
   "cell_type": "markdown",
   "metadata": {},
   "source": [
    "## Summary"
   ]
  },
  {
   "cell_type": "code",
   "execution_count": null,
   "metadata": {},
   "outputs": [],
   "source": []
  }
 ],
 "metadata": {
  "kernelspec": {
   "display_name": "Python 3",
   "language": "python",
   "name": "python3"
  },
  "language_info": {
   "codemirror_mode": {
    "name": "ipython",
    "version": 3
   },
   "file_extension": ".py",
   "mimetype": "text/x-python",
   "name": "python",
   "nbconvert_exporter": "python",
   "pygments_lexer": "ipython3",
   "version": "3.7.6"
  }
 },
 "nbformat": 4,
 "nbformat_minor": 4
}
