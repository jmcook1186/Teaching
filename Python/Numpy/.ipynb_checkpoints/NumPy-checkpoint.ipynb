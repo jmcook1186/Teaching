{
 "cells": [
  {
   "cell_type": "markdown",
   "metadata": {},
   "source": [
    "# Numpy\n",
    "## An essential package for data science in Python"
   ]
  },
  {
   "cell_type": "markdown",
   "metadata": {},
   "source": [
    "NumPy is a Python package built around the concept of ndarrays (n-dimensional arrays) along with a suite of efficient functions for applying operations over those arrays. Many of the other important packages for data scientists are built on top of NumPy (e.g. Pandas, scikit-learn). In the previous tutorial we dicussed arrays and why they may be more useful than lists in many cases (although, remember lists are useful because they are dynamically typed and can store multiple data-types in a single container). We also discussed how numpy arrays are represented in memory. In this session we will take a deeper dive into Numpy and start to explore some of the more advanced functionality."
   ]
  },
  {
   "cell_type": "markdown",
   "metadata": {},
   "source": [
    "<img src=\"nd_arrays1.png\">"
   ]
  },
  {
   "cell_type": "markdown",
   "metadata": {},
   "source": [
    "\n",
    "## Learning Outcomes\n",
    "\n",
    "### 1. Understand NumPy array structures and gain working knowledge of creating, querying and reshaping arrays\n",
    "### 2. Understand the distinction between views and copies and their importance for data science with NumPy\n",
    "### 3. Understand the concept of vectorisation and apply to some basic vectorisation tasks\n",
    "### 4. Gain working knowledge of some fundamental NumPy uFuncs and other native functions\n"
   ]
  },
  {
   "cell_type": "markdown",
   "metadata": {},
   "source": [
    "## 1 Numpy Arrays"
   ]
  },
  {
   "cell_type": "markdown",
   "metadata": {},
   "source": [
    "Numpy arrays are n-dimensional structures with homogenous d-type and minimal and array-level rather than element-level header information, making them memory efficient. Implicit vectorization makes them very fast to work with. We will return to this idea shortly. For now, lets look at creating a NumPy array:"
   ]
  },
  {
   "cell_type": "code",
   "execution_count": 2,
   "metadata": {},
   "outputs": [
    {
     "name": "stdout",
     "output_type": "stream",
     "text": [
      "List:  [3, 0, 1, 3, 4, 7, 5, 2, 7, 8, 9]\n",
      "NumPy array from list:  [3 0 1 3 4 7 5 2 7 8 9]\n",
      "NumPy array (direct creation):  [3 0 1 3 4 7 5 2 7 8 9]\n",
      "Arrays are identical:  True\n"
     ]
    }
   ],
   "source": [
    "# Method 1: Created NumPy array from a list\n",
    "import numpy as np\n",
    "\n",
    "list = ([3,0,1,3,4,7,5,2,7,8,9])\n",
    "nparray = np.array(list)\n",
    "\n",
    "print(\"List: \",list)\n",
    "print(\"NumPy array from list: \",nparray)\n",
    "\n",
    "# Method 2: create NumPy array directly\n",
    "nparray2 = np.array([3,0,1,3,4,7,5,2,7,8,9])\n",
    "print(\"NumPy array (direct creation): \",nparray2)\n",
    "\n",
    "# show that the resulting arrays are identical (array_equal returns True if 2 parsed arrays are identical,\n",
    "# otherwise False):\n",
    "print(\"Arrays are identical: \",np.array_equal(nparray,nparray2))"
   ]
  },
  {
   "cell_type": "markdown",
   "metadata": {},
   "source": [
    "Two and three dimensional arrays can be created in the same way, wither direcly or from lists of lists"
   ]
  },
  {
   "cell_type": "code",
   "execution_count": 3,
   "metadata": {},
   "outputs": [
    {
     "name": "stdout",
     "output_type": "stream",
     "text": [
      "2D Array:\n",
      "\n",
      " [[0 3 4 2 7 6]\n",
      " [9 2 5 2 4 2]\n",
      " [8 5 3 6 7 8]\n",
      " [7 5 6 3 4 2]]\n",
      "2D arrays are identical:  True\n"
     ]
    }
   ],
   "source": [
    "listoflists2D = [[0,3,4,2,7,6],[9,2,5,2,4,2],[8,5,3,6,7,8],[7,5,6,3,4,2]] # create list of lists\n",
    "nparray2D_1 = np.array(listoflists2D) # convert to NumPy array\n",
    "nparray2D_2 = np.array([[0,3,4,2,7,6],[9,2,5,2,4,2],[8,5,3,6,7,8],[7,5,6,3,4,2]]) # create NumPy array directly\n",
    "\n",
    "print(\"2D Array:\\n\\n\",nparray2D_2)\n",
    "print(\"2D arrays are identical: \", np.array_equal(nparray2D_1,nparray2D_2))"
   ]
  },
  {
   "cell_type": "markdown",
   "metadata": {},
   "source": [
    "We also have other options for creating arrays, for example, we can append to arrays in loops, or created arrays of zeros, ones, random integers or ordered values using native numpy functions..."
   ]
  },
  {
   "cell_type": "code",
   "execution_count": 4,
   "metadata": {},
   "outputs": [
    {
     "name": "stdout",
     "output_type": "stream",
     "text": [
      "RandomArray:\n",
      "\n",
      " [[30  4 33 95 48 60 28 24 81 28]\n",
      " [37  3  8 30 17 93 26 65 77 41]\n",
      " [77 52 51 97 42 42  9 25 75 51]\n",
      " [71 44 22 88 28 32 11 57 74 97]\n",
      " [17 72  8 89  9 77 35 97 49 60]\n",
      " [ 7 74 27 45 63 82 52 56 79 53]\n",
      " [13 74  7 90 50 18 26 50 54 69]\n",
      " [24 67 97 22 93 37 94 68 92 20]\n",
      " [66 49 83 70 82 80 72 45 51 41]\n",
      " [85 56 40 71 37 20 79 56  1 24]]\n",
      "\n",
      "ZeroArray: \n",
      "\n",
      " [[0. 0. 0. 0. 0. 0. 0. 0. 0. 0.]\n",
      " [0. 0. 0. 0. 0. 0. 0. 0. 0. 0.]\n",
      " [0. 0. 0. 0. 0. 0. 0. 0. 0. 0.]\n",
      " [0. 0. 0. 0. 0. 0. 0. 0. 0. 0.]\n",
      " [0. 0. 0. 0. 0. 0. 0. 0. 0. 0.]\n",
      " [0. 0. 0. 0. 0. 0. 0. 0. 0. 0.]\n",
      " [0. 0. 0. 0. 0. 0. 0. 0. 0. 0.]\n",
      " [0. 0. 0. 0. 0. 0. 0. 0. 0. 0.]\n",
      " [0. 0. 0. 0. 0. 0. 0. 0. 0. 0.]\n",
      " [0. 0. 0. 0. 0. 0. 0. 0. 0. 0.]]\n",
      "\n",
      "onesArray: \n",
      "\n",
      " [[1. 1. 1. 1. 1. 1. 1. 1. 1. 1.]\n",
      " [1. 1. 1. 1. 1. 1. 1. 1. 1. 1.]\n",
      " [1. 1. 1. 1. 1. 1. 1. 1. 1. 1.]\n",
      " [1. 1. 1. 1. 1. 1. 1. 1. 1. 1.]\n",
      " [1. 1. 1. 1. 1. 1. 1. 1. 1. 1.]\n",
      " [1. 1. 1. 1. 1. 1. 1. 1. 1. 1.]\n",
      " [1. 1. 1. 1. 1. 1. 1. 1. 1. 1.]\n",
      " [1. 1. 1. 1. 1. 1. 1. 1. 1. 1.]\n",
      " [1. 1. 1. 1. 1. 1. 1. 1. 1. 1.]\n",
      " [1. 1. 1. 1. 1. 1. 1. 1. 1. 1.]]\n",
      "\n",
      "RangeArray: \n",
      "\n",
      " [[ 0  1  2  3  4  5  6  7  8  9]\n",
      " [10 11 12 13 14 15 16 17 18 19]\n",
      " [20 21 22 23 24 25 26 27 28 29]\n",
      " [30 31 32 33 34 35 36 37 38 39]\n",
      " [40 41 42 43 44 45 46 47 48 49]\n",
      " [50 51 52 53 54 55 56 57 58 59]\n",
      " [60 61 62 63 64 65 66 67 68 69]\n",
      " [70 71 72 73 74 75 76 77 78 79]\n",
      " [80 81 82 83 84 85 86 87 88 89]\n",
      " [90 91 92 93 94 95 96 97 98 99]]\n"
     ]
    }
   ],
   "source": [
    "randomArray = np.random.randint(100,size=(10,10))\n",
    "print(\"RandomArray:\\n\\n\",randomArray)\n",
    "print()\n",
    "\n",
    "zeroArray = np.zeros([10,10])\n",
    "print(\"ZeroArray: \\n\\n\",zeroArray)\n",
    "print()\n",
    "\n",
    "onesArray = np.ones([10,10])\n",
    "print(\"onesArray: \\n\\n\", onesArray)\n",
    "print()\n",
    "\n",
    "RangeArray = np.arange(0,100,1).reshape(10,10)\n",
    "print(\"RangeArray: \\n\\n\",RangeArray)"
   ]
  },
  {
   "cell_type": "markdown",
   "metadata": {},
   "source": [
    "## 2 Array Shapes"
   ]
  },
  {
   "cell_type": "markdown",
   "metadata": {},
   "source": [
    "### 2.1 dimensions and indices"
   ]
  },
  {
   "cell_type": "markdown",
   "metadata": {},
   "source": [
    "A we discused in the last session, a NumPy array is a continguous block of homogenous dtype organized into a grid. This grid can be 1D (called a vector), 2D (called a matrix) or higher dimensional. When we print a >2D array to the console it is represented as a collection of 2D arrays that we have to mentally stack of top of one another.\n",
    "\n",
    "We can access the shape of an array using the NumPy native function np.shape(). The shape is represented as an n-tuple that reports the size of each axis. For a vector, the size tuple simply shows the number of elements (there is only one dimension and all elements are contained within it). For a matrix, the shape tuple represents number of rows and number of columns, and the array size is equal to their product. As the dimensionality of the arrays increases by one, one additional dimension is added to the front of the shape tuple (e.g an array with 20 rows, 20 columns and a size of 2 in the z dimension would be represented as (2,20,20) and it size equal to 2*20*20.\n",
    "\n",
    "The following figure illustrates the structure of a 3D (2,3,4) array that contains 24 elements:\n",
    "\n",
    "<img src=\"nd_arrays.png\">\n",
    "\n",
    "\n",
    "Let's create that array and assign it to the variable name nparray3D. You will see 2 arrays, each with 3 rows and 4 columns. We can confirm this by querying the array shape and size."
   ]
  },
  {
   "cell_type": "code",
   "execution_count": 5,
   "metadata": {},
   "outputs": [
    {
     "name": "stdout",
     "output_type": "stream",
     "text": [
      "3D Array: \n",
      "\n",
      " [[[49 12 23 53]\n",
      "  [12 93  7 94]\n",
      "  [72 98 15 65]]\n",
      "\n",
      " [[30 83 93 62]\n",
      "  [70  0 69 20]\n",
      "  [66 81 63 37]]]\n",
      "\n",
      "Array shape =  (2, 3, 4)\n",
      "2 * 3 * 4 =  24\n",
      "Array Size =  24\n"
     ]
    }
   ],
   "source": [
    "nparray3D = np.random.randint(100,size=(2,3,4))\n",
    "print(\"3D Array: \\n\\n\", nparray3D)\n",
    "print(\"\\nArray shape = \", np.shape(nparray3D))\n",
    "print(\"2 * 3 * 4 = \", 2*3*4)\n",
    "print(\"Array Size = \", np.size(nparray3D))\n"
   ]
  },
  {
   "cell_type": "markdown",
   "metadata": {},
   "source": [
    "### 2.2 Slicing nd-arrays"
   ]
  },
  {
   "cell_type": "markdown",
   "metadata": {},
   "source": [
    "Understanding the shape and structure of nd-arrays enables us to select individual elements or collections of elements from across the various dimensions. For example, we might want to select a particular value, or a 2D slice of a 3D array, or a data cube of certain dimensions from a 3D array. We can do this by indexing each dimension in turn, using square brackets to indicate indexes. Remember as always that we index from zero in Python!"
   ]
  },
  {
   "cell_type": "code",
   "execution_count": 6,
   "metadata": {},
   "outputs": [
    {
     "data": {
      "text/plain": [
       "7"
      ]
     },
     "execution_count": 6,
     "metadata": {},
     "output_type": "execute_result"
    }
   ],
   "source": [
    "# select first element in 3D array (i.e. top-left element in bottom-most 2D array in 3D stack)\n",
    "nparray3D[0,0,0]\n",
    "\n",
    "# select 2nd row, 3rd column value in bottom array in 3D stack\n",
    "nparray3D[0,1,2]"
   ]
  },
  {
   "cell_type": "markdown",
   "metadata": {},
   "source": [
    "Notice that providing the index only for the 3rd dimension returns a matrix, providing 3rd dimension plus row OR column returns a vector, and indexing into all available dimensions returns a scalar."
   ]
  },
  {
   "cell_type": "code",
   "execution_count": 7,
   "metadata": {},
   "outputs": [
    {
     "name": "stdout",
     "output_type": "stream",
     "text": [
      "Providing 1 index value returns \n",
      "\n",
      " [[49 12 23 53]\n",
      " [12 93  7 94]\n",
      " [72 98 15 65]] \n",
      "\n",
      "i.e. a matrix\n",
      "\n",
      "\n",
      "Providing 2 index values returns \n",
      "\n",
      " [49 12 23 53] \n",
      "\n",
      "i.e. a vector\n",
      "\n",
      "\n",
      "Providing 3 index values returns \n",
      "\n",
      " 49 \n",
      "\n",
      "i.e. a scalar\n",
      "\n",
      "\n"
     ]
    }
   ],
   "source": [
    "A = nparray3D[0]\n",
    "B = nparray3D[0,0]\n",
    "C = nparray3D[0,0,0]\n",
    "\n",
    "print(\"Providing 1 index value returns \\n\\n\",A, \"\\n\\ni.e. a matrix\\n\\n\")\n",
    "print(\"Providing 2 index values returns \\n\\n\",B, \"\\n\\ni.e. a vector\\n\\n\")\n",
    "print(\"Providing 3 index values returns \\n\\n\",C, \"\\n\\ni.e. a scalar\\n\\n\")\n"
   ]
  },
  {
   "cell_type": "markdown",
   "metadata": {},
   "source": [
    "We can also take slices of individual dimensions, or combinations of sclar and vector indices..."
   ]
  },
  {
   "cell_type": "code",
   "execution_count": 8,
   "metadata": {},
   "outputs": [
    {
     "name": "stdout",
     "output_type": "stream",
     "text": [
      "A = \n",
      "\n",
      " [49 30] \n",
      "\n",
      "\n",
      "B = \n",
      "\n",
      " 53 \n",
      "\n",
      "\n",
      "C = \n",
      "\n",
      " [49 12 72] \n",
      "\n",
      "\n",
      "D = \n",
      "\n",
      " [[49 12 23 53]\n",
      " [12 93  7 94]\n",
      " [72 98 15 65]] \n",
      "\n",
      "\n"
     ]
    }
   ],
   "source": [
    "A = nparray3D[:,0,0] # for all arrays in 3rd dimension, print 1st row and 1st column\n",
    "B = nparray3D[0,0,-1] # print last column, first row, base of 3D stack\n",
    "C = nparray3D[0,0:3,0] # for 1st array in 3rd dimension, print 2st 3 rows in 1st column\n",
    "D = nparray3D[0,:,:] # print matrix at base of 3D stack\n",
    "\n",
    "print(\"A = \\n\\n\", A,\"\\n\\n\")\n",
    "print(\"B = \\n\\n\", B,\"\\n\\n\")\n",
    "print(\"C = \\n\\n\", C,\"\\n\\n\")\n",
    "print(\"D = \\n\\n\", D,\"\\n\\n\")"
   ]
  },
  {
   "cell_type": "markdown",
   "metadata": {},
   "source": [
    "We can also use <i><b>fancy indexing</b></i> to parse arrays of indices."
   ]
  },
  {
   "cell_type": "code",
   "execution_count": 9,
   "metadata": {},
   "outputs": [
    {
     "name": "stdout",
     "output_type": "stream",
     "text": [
      "[[49 12 53]\n",
      " [30 83 62]]\n"
     ]
    }
   ],
   "source": [
    "fancyResult = nparray3D[:,[0],[0,1,3]] #select both arrays in 3D stack, first row, first, second and fourth columns\n",
    "print(fancyResult)"
   ]
  },
  {
   "cell_type": "markdown",
   "metadata": {},
   "source": [
    "NumPy also includes some useful functions to find the index of the max, min and mean values of an array rather than the values themselves..."
   ]
  },
  {
   "cell_type": "code",
   "execution_count": 10,
   "metadata": {},
   "outputs": [
    {
     "name": "stdout",
     "output_type": "stream",
     "text": [
      "minimum value =  1\n",
      "maximum value =  98\n",
      "minimum value =  67\n",
      "maximum value =  24\n",
      "values are equal\n"
     ]
    }
   ],
   "source": [
    "X = np.random.randint(100,size=(100))\n",
    "\n",
    "# find min, max and mean values\n",
    "print(\"minimum value = \", np.min(X))\n",
    "print(\"maximum value = \",np.max(X))\n",
    "\n",
    "# find indexes of min, max and mean values\n",
    "print(\"minimum value = \", np.argmin(X))\n",
    "print(\"maximum value = \",np.argmax(X))\n",
    "\n",
    "# to prove this works we can check that the minimum value is equal to the value at the argmin index\n",
    "if X[np.argmin(X)]==np.min(X):\n",
    "    print(\"values are equal\")\n",
    "else:\n",
    "    print(\"values are not equal\")\n"
   ]
  },
  {
   "cell_type": "markdown",
   "metadata": {},
   "source": [
    "### 2.3 Updating arrays by indexing"
   ]
  },
  {
   "cell_type": "markdown",
   "metadata": {},
   "source": [
    "As well as selecting and viewing parts of arrays by indexing, fancy indexing and slicing, we can also use the same techniques to update the array. For example, we can change the first five values in array X to a constant scalar:"
   ]
  },
  {
   "cell_type": "code",
   "execution_count": 11,
   "metadata": {},
   "outputs": [
    {
     "name": "stdout",
     "output_type": "stream",
     "text": [
      "[0. 0. 0. 0. 0. 0. 0. 0. 0. 0. 0. 0. 0. 0. 0.]\n",
      "[5. 5. 5. 5. 5. 0. 0. 0. 0. 0. 0. 0. 0. 0. 0.]\n"
     ]
    }
   ],
   "source": [
    "X= np.zeros(100) # create 1D array of 100 zeros\n",
    "print(X[0:15]) # print first 15 elements\n",
    "\n",
    "X[0:5] = 5 # set first 5 elements to 5\n",
    "\n",
    "print(X[0:15]) # print updated array\n"
   ]
  },
  {
   "cell_type": "markdown",
   "metadata": {},
   "source": [
    "Here's an example with fancy indexing..."
   ]
  },
  {
   "cell_type": "code",
   "execution_count": 12,
   "metadata": {},
   "outputs": [
    {
     "name": "stdout",
     "output_type": "stream",
     "text": [
      "[5. 1. 5. 1. 5. 1. 0. 1. 0. 1. 0. 0. 0. 0. 0.]\n"
     ]
    }
   ],
   "source": [
    "X[[1,3,5,7,9]] = 1\n",
    "print(X[0:15])"
   ]
  },
  {
   "cell_type": "markdown",
   "metadata": {},
   "source": [
    "### 2.4 More about indexing"
   ]
  },
  {
   "cell_type": "markdown",
   "metadata": {},
   "source": [
    "#### 2.4.1 Strides\n",
    "\n",
    "This is a good moment to stop and consider indexing in a little more detail. In both lists and arrays each element has a value and also some header information associated with it. Being dynamically-typed the elements in a list have more of this \"metadata\" including the d-type; however much of this is removed from elements in arrays because they are statically-typed. In either case, along with the data value, each element has an index. This is the position inside the data container where the value can be found, for example the first element in a vector has index 0. \n",
    "\n",
    "However, this indexing scheme is abstracted from how the information is stored in memory (strings of binary bits). To report the correct value the computer needs to know how many bits each value occupies in memory, where they start and finish and the spacing between them. This informaton is stored in the array's <i><b>\"stride\"</i></b>.\n",
    "\n",
    "For example, to traverse a vector to the 8-bit integer in index [1], the computer will stride over the 8 bits representing index[0] and retrieve the 8 bits that follow - the data associated with index[1]. Similarly, to obtain the 8-bit integer associated with index [5] it will traverse the array 8 * 5 bits and retrieve the following 8 bits because it knows stride = 8.\n",
    "\n",
    "Ultimately, a n-dimensional array is stored as a continuous string of bits and is abstracted up to a shaped array by the NumPy architecture. To do so, the number of bits in each element of each dimension is required. For example, in a small 2 x 2 array of 8-bit integers, there are 16 bits per row. To access the second row, NumPy must traverse the array 16 bits then begin reading the bits that follow. Similarly, accessing rows requires NumPy to read 8 bits separated by an entire row length. This principle holds true for arrays of any dimension.\n",
    "\n",
    "\n",
    "<img src=\"strides.png\">\n",
    "\n",
    "We can demonstrate this with some simple queries to our 3D array. The native function \"strides\" returns an n-tuple containing the stride required to traverse each dimension. "
   ]
  },
  {
   "cell_type": "code",
   "execution_count": 13,
   "metadata": {},
   "outputs": [
    {
     "name": "stdout",
     "output_type": "stream",
     "text": [
      "3D array shape =  (2, 3, 4)\n",
      "Stride to traverse each dimension =  (96, 32, 8)\n"
     ]
    }
   ],
   "source": [
    "print(\"3D array shape = \", nparray3D.shape)\n",
    "print(\"Stride to traverse each dimension = \", nparray3D.strides)\n"
   ]
  },
  {
   "cell_type": "markdown",
   "metadata": {},
   "source": [
    "What this shows is that to move from, say, the top-left value in the bottom 2D array in the 3D stack to the top-left value in the second-from-bottom 2D array in the 3D stack, NumPy needs to traverse 96 bits. This makes sense because each 2D array is made up of 3 rows and 4 columns, which gives the array a size of 12 integers. Each integer is 8 bits long, so 12 * 8 = 96. Each time NumPy moves upwards or downwards in the 3rd dimenion it has to move back or forward the length of one entire 2D array - 96 bits.\n",
    "\n",
    "The second value in the tuple shows the stride to traverse a row. This also makes sense because to move from one row to the next, the entire row is traversed from left to right. The row-length is 4, so the stride required to reach the next row is 4* 8 = 32.\n",
    "\n",
    "To move along the columns, NumPy simply has to traverse one element at a time, so the stride is 8 bits. To move 2 columns, the stride is 8 * 2 = 16 bits.\n"
   ]
  },
  {
   "cell_type": "markdown",
   "metadata": {},
   "source": [
    "## 3 Operations on Arrays"
   ]
  },
  {
   "cell_type": "markdown",
   "metadata": {},
   "source": [
    "### 3.1 Operations"
   ]
  },
  {
   "cell_type": "markdown",
   "metadata": {},
   "source": [
    "At this point we understand what an array is, both in abstracted form as it appears in Python and the underlying structure. One of the major advantages of NumPy is the suite of very efficient native functions that benefit from an ability to compile the Python code down to very efficient C code, which cannot be achieved for list data with additonal metadata attached. Let's start with some basic array descriptors..."
   ]
  },
  {
   "cell_type": "code",
   "execution_count": 14,
   "metadata": {},
   "outputs": [
    {
     "name": "stdout",
     "output_type": "stream",
     "text": [
      "METHOD 1\n",
      "\n",
      "mean =  49.5108\n",
      "standard deviation =  28.964175861916047\n",
      "max =  99\n",
      "min =  0\n",
      "\n",
      "\n",
      "METHOD 2 \n",
      "\n",
      "mean =  49.5108\n",
      "standard deviation =  28.964175861916047\n",
      "max =  99\n",
      "min =  0\n"
     ]
    }
   ],
   "source": [
    "nparray = np.random.randint(100,size=[100,100,3])\n",
    "\n",
    "#there are two ways to apply a ufunc to an array, first call the function and parse the array as an arg\n",
    "print(\"METHOD 1\\n\")\n",
    "print(\"mean = \",np.mean(nparray))\n",
    "print(\"standard deviation = \",np.std(nparray))\n",
    "print(\"max = \",np.max(nparray))\n",
    "print(\"min = \",np.min(nparray))\n",
    "\n",
    "# second, call the function as a property of the array\n",
    "print(\"\\n\\nMETHOD 2 \\n\")\n",
    "print(\"mean = \",nparray.mean())\n",
    "print(\"standard deviation = \",nparray.std())\n",
    "print(\"max = \",nparray.max())\n",
    "print(\"min = \",nparray.min())"
   ]
  },
  {
   "cell_type": "markdown",
   "metadata": {},
   "source": [
    "We can also apply these functions over slices of the original array"
   ]
  },
  {
   "cell_type": "code",
   "execution_count": 15,
   "metadata": {},
   "outputs": [
    {
     "name": "stdout",
     "output_type": "stream",
     "text": [
      "39.4\n"
     ]
    }
   ],
   "source": [
    "sliceMean = np.mean(nparray[0,0:5,:])\n",
    "print(sliceMean)"
   ]
  },
  {
   "cell_type": "markdown",
   "metadata": {},
   "source": [
    "### 3.2 uFuncs"
   ]
  },
  {
   "cell_type": "markdown",
   "metadata": {},
   "source": [
    "uFuncs (universal functions) are native to NumPy and they greatly accelerate the application of functions over arrays. They do by vectorizing the operation (applying it to the entire array at once rather than element-wise in a loop) and by delegating the iteration down to Python's base language (C) rather than looping in Python where the overheads are greater.\n",
    "\n",
    "Python can be quite a slow language, especially when it has to repeat operations over many elements. With lists and when element-wise loops are used to access arrays, the code is slow because it has to retrieve the relevant value from the array, check the dtype and look up the relevant function for that specific dtype, then apply it, then repeat for each element in the list or array. This is the bottlneck that is overcome by using NumPy's uFuncs.\n",
    "\n",
    "These uFuncs provide an interface to static-typed, compiled routines in C that do not have the overheads associated with looping. Operations can then be applied at the array-level rather than element by element. This is known as <i><b>vectorisation</b></i>.\n",
    "\n",
    "Let's create a large array and try some uFuncs...\n",
    "\n"
   ]
  },
  {
   "cell_type": "code",
   "execution_count": 16,
   "metadata": {},
   "outputs": [
    {
     "name": "stdout",
     "output_type": "stream",
     "text": [
      "Shape =  (10000, 1000) \n",
      "Size =  10000000\n"
     ]
    }
   ],
   "source": [
    "# create 2D array with ten-million elements\n",
    "bigArray = np.random.randint(100,size=(10000,1000))\n",
    "print(\"Shape = \",bigArray.shape,\"\\nSize = \",bigArray.size)"
   ]
  },
  {
   "cell_type": "markdown",
   "metadata": {},
   "source": [
    "In many cases we barely notice we are using uFuncs - they use the same operators as vanilla Python, e.g. + (add) - (subtract) /  (divide) % (remainder) ** (square). When these are used on a single array these are known as \"unary\" functions. Let's try some and time them against a looped eqivalent."
   ]
  },
  {
   "cell_type": "code",
   "execution_count": null,
   "metadata": {},
   "outputs": [
    {
     "name": "stdout",
     "output_type": "stream",
     "text": [
      "41.1 ms ± 968 µs per loop (mean ± std. dev. of 7 runs, 10 loops each)\n",
      "32.3 ms ± 561 µs per loop (mean ± std. dev. of 7 runs, 10 loops each)\n",
      "32.3 ms ± 198 µs per loop (mean ± std. dev. of 7 runs, 10 loops each)\n",
      "32.7 ms ± 705 µs per loop (mean ± std. dev. of 7 runs, 10 loops each)\n"
     ]
    }
   ],
   "source": [
    "%timeit bigArray/2 #second uFunc is to divide all element in the array by 2\n",
    "%timeit bigArray + 5\n",
    "%timeit bigArray * 2\n",
    "%timeit bigArray ** 2\n",
    "\n",
    "# compare these times to looping element-wise\n",
    "def testLoop(bigArray):\n",
    "    for i in np.arange(0,len(np.ravel(bigArray))):\n",
    "        i**2\n",
    "    return\n",
    "\n",
    "%timeit testLoop(bigArray)"
   ]
  },
  {
   "cell_type": "markdown",
   "metadata": {},
   "source": [
    "As well as operating on a single array, these operators can be used across multiple arrays..."
   ]
  },
  {
   "cell_type": "code",
   "execution_count": null,
   "metadata": {},
   "outputs": [],
   "source": [
    "# define new array of equal size to our original big array\n",
    "bigArray2 = np.random.randint(100,size=(10000,1000))\n",
    "\n",
    "# time some addition and subtraction across the two arrays\n",
    "%timeit bigArray + bigArray2\n",
    "%timeit bigArray - bigArray2\n",
    "\n",
    "# compare to achieving the same in a loop\n",
    "def testLoop(bigArray,bigArray2):\n",
    "    for i in np.arange(0,len(bigArray[:,0]),1):\n",
    "        for j in np.arange(0,len(bigArray[0,:]),1):\n",
    "            bigArray[i,j] + bigArray2[i,j]\n",
    "    return\n",
    "\n",
    "%timeit testLoop(bigArray,bigArray2)"
   ]
  },
  {
   "cell_type": "markdown",
   "metadata": {},
   "source": [
    "In both of these examples, the speed of computation has increased by over 1000 times by vectorizing rather than looping!\n",
    "\n",
    "The full list of uFuncs can be found at https://docs.scipy.org/doc/numpy-1.15.1/reference/ufuncs.html and there is an excellent blog detailing more of the uFuncs here: https://jakevdp.github.io/PythonDataScienceHandbook/02.03-computation-on-arrays-ufuncs.html.\n"
   ]
  },
  {
   "cell_type": "markdown",
   "metadata": {},
   "source": [
    "### 3.3 Broadcasting"
   ]
  },
  {
   "cell_type": "markdown",
   "metadata": {},
   "source": [
    "Whe we perform a mathematical operation between two arrays, we perform it element-wise, for example in the case of adding array X to array Y, X[0,0] is added to Y[0,0], X[0,1] is added to Y[0,1] etc through to X[-1,-1] + Y[-1,-1]. \n",
    "\n",
    "Element-wise operations are only possible when there are the same number of elements organised into the same shapes in both arrays. For example, a 10 x 10 element array can only be added or subtracted from another 10 x 10 array, a 2 x 2 array can only be multiplied by another 2 x 2 array etc. This is a major limitation to the operations that can be performed as arrays very often have different sizes and shapes. However, NumPy can <i><b>broadcast</b></i> arrays to overcome this problem and enable operations on arrays of different sizes. This allows vectorization (i.e. delegation of looping from Python down to the base language C).\n",
    "\n",
    "In the cell below a Python function attempts to add two arrays of different sizes - it will throw an exception stating that the operation cannot be performed because some indices in the larger array (X) do not exist in the smaller array (Y)."
   ]
  },
  {
   "cell_type": "markdown",
   "metadata": {},
   "source": [
    "#### 3.3.1 Arrays and scalars\n",
    "\n",
    "The simplest example is adding a scalar (i.e. a 0 dimensional array) to a 1D array."
   ]
  },
  {
   "cell_type": "code",
   "execution_count": null,
   "metadata": {},
   "outputs": [],
   "source": [
    "X = np.arange(0,10,1)\n",
    "Y = 2\n",
    "\n",
    "print(\"X: \",type(X))\n",
    "print(\"Y: \", type(Y))\n",
    "print(\"Array before addition operation\", X)\n",
    "print()\n",
    "\n",
    "print(\"Array after addition operation: \", X+Y)"
   ]
  },
  {
   "cell_type": "markdown",
   "metadata": {},
   "source": [
    "This is made possible because NumPy effectively stretches the scalar to fit the dimensions of the larger array. In our example we can think of NumPy creating the array Y = [5,5,5,5,5,5,5,5,5,5] and then adding this element-wise to X. In reality this is not quite what NumPy is doing - it's more memory efficient than that, but it is a good mental model for the broadcasting process.\n",
    "\n",
    "This also works for multidimensional arrays. In the cell below X is a 2D array and Y is a scalar. NumPy effectively creates a 2D array of 2's to add element-wise to X."
   ]
  },
  {
   "cell_type": "code",
   "execution_count": null,
   "metadata": {},
   "outputs": [],
   "source": [
    "X = np.arange(0,100,1).reshape(10,10)\n",
    "Y = 2\n",
    "\n",
    "print(\"X: \",type(X))\n",
    "print(\"Y: \", type(Y))\n",
    "print(\"\\nArray before addition operation: \\n\", X)\n",
    "print()\n",
    "\n",
    "print(\"Array after addition operation: \\n\", X+2)"
   ]
  },
  {
   "cell_type": "markdown",
   "metadata": {},
   "source": [
    "#### 3.3.2 Arrays of different shapes/sizes"
   ]
  },
  {
   "cell_type": "markdown",
   "metadata": {},
   "source": [
    "The same idea can be applied to arrays of different sizes and shapes. In the following example two arrays are multiplied together. A is a 2D array with shape (2,5) and B is a 1D array with shape (1,5). The arrays agree in the second dimension but differ in the first. Broadcasting can occur by stretching B in the first dimension until the array sizes match, then multiply elementwise."
   ]
  },
  {
   "cell_type": "code",
   "execution_count": null,
   "metadata": {},
   "outputs": [],
   "source": [
    "A = np.arange(0,10,1).reshape(2,5) # 2D array\n",
    "B = np.arange(0,5,1).reshape(1,5)\n",
    "\n",
    "A*B"
   ]
  },
  {
   "cell_type": "markdown",
   "metadata": {},
   "source": [
    "This can only occur when the shapes of the arrays <b><i>in each dimension are identical or the dimension size is equal to 1</i></b>. If these conditions are not met, the arrays are incompatible. In the examples in the cell below, the first three calculations work because their dimensions allow broadcasting - either the dimension values are equal or the smaller array has value 1 for the mismatching dimension. The final example fails because the arrays do not meet those criteria - there is no way to pad these arrays to make them equivalent in shape, despite their size being identical."
   ]
  },
  {
   "cell_type": "code",
   "execution_count": null,
   "metadata": {},
   "outputs": [],
   "source": [
    "A = np.arange(0,12,1).reshape(4,3) # 2D array\n",
    "B = np.arange(0,12,1).reshape(4,3)\n",
    "A*B\n",
    "print(\"A*B works because shapes are equal\")\n",
    "\n",
    "C = np.arange(0,10,1).reshape(2,5)\n",
    "D = np.arange(0,5,1).reshape(1,5)\n",
    "C*D\n",
    "print(\"C*D works because the arrays match in 2nd dimension and D = 1 in first dimension\")\n",
    "\n",
    "E= np.arange(0,100,1).reshape(5,5,4)\n",
    "F = np.arange(0,20,1).reshape(1,5,4)\n",
    "E*F\n",
    "print(\"E*F works because the arrays match in 2nd and 3rd dimension and F = 1 in first dimension\")\n",
    "\n",
    "G = np.arange(0,100,1).reshape(1,10,10)\n",
    "H = np.arange(0,100,1).reshape(5,5,4)\n",
    "\n",
    "try:\n",
    "    G*H\n",
    "except:print(\"G* H Failed: Incompatible shape\")"
   ]
  },
  {
   "cell_type": "markdown",
   "metadata": {},
   "source": [
    "To reiterate:\n",
    "<br>\n",
    "<b><i>\n",
    "Two dimensions are compatible for broadcasting if they are identical or if one of them has value 1.\n",
    "</b></i>"
   ]
  },
  {
   "cell_type": "markdown",
   "metadata": {},
   "source": [
    "## 4 Take Aways\n",
    "\n",
    "### 1) NumPy is a package that enables fast computation across arrays\n",
    "### 2) Arrays are n-dimensional\n",
    "### 3) Individual elements can be accessed by indexing and sets of elements accessed by slicing\n",
    "### 4) NumPy has native functions that vectorise code to accelerate computation\n",
    "### 5) NumPy broadcasts arrays so that arrays of different size can be combined"
   ]
  },
  {
   "cell_type": "markdown",
   "metadata": {},
   "source": [
    "##  5 Exercises"
   ]
  },
  {
   "cell_type": "markdown",
   "metadata": {},
   "source": [
    "### 5.1 Numpy Basics\n",
    "##### create the requested arrays and in all cases query the array to demonstrate success"
   ]
  },
  {
   "cell_type": "code",
   "execution_count": null,
   "metadata": {},
   "outputs": [],
   "source": [
    "# 1)\n",
    "\n",
    "# convert this list to an array and query the array size and shape\n",
    "\n",
    "X = [0,4,5,7,3,7,9,3,2,4,8,4,2,9,0,7,8,4,6,2,6]\n",
    "type(X)"
   ]
  },
  {
   "cell_type": "code",
   "execution_count": null,
   "metadata": {},
   "outputs": [],
   "source": [
    "# 2)\n",
    "\n",
    "# convert this list of lists to a 2D array\n",
    "\n",
    "X = [[0,3,4,5,6,2,6,3,5,3,2,8,4],[5,2,3,9,5,4,1,3,3,7,8,5,4],[9,0,1,1,5,9,7,2,2,4,7,5,3]]"
   ]
  },
  {
   "cell_type": "code",
   "execution_count": null,
   "metadata": {},
   "outputs": [],
   "source": [
    "# 3)\n",
    "\n",
    "# convert this list into a 1D array then reshape to 2D array with dimensions (6,6)\n",
    "\n",
    "X = [0,5,6,4,5,6,7,3,2,1,4,5,6,7,4,3,2,4,5,6,8,9,7,5,4,3,2,2,4,5,3,1,1,8,6,3]\n"
   ]
  },
  {
   "cell_type": "code",
   "execution_count": null,
   "metadata": {},
   "outputs": [],
   "source": [
    "# 4)\n",
    "\n",
    "# create a 3D numpy array containing random integers between 1 and 100 with shape (3,10,10)"
   ]
  },
  {
   "cell_type": "code",
   "execution_count": null,
   "metadata": {},
   "outputs": [],
   "source": [
    "# 5)\n",
    "\n",
    "# create an ordered numpy array with integers 1-1000 in ascending order"
   ]
  },
  {
   "cell_type": "code",
   "execution_count": null,
   "metadata": {},
   "outputs": [],
   "source": [
    "# 6)\n",
    "\n",
    "# create a 3D array of shape (10,10,10) containing only zeros"
   ]
  },
  {
   "cell_type": "code",
   "execution_count": null,
   "metadata": {},
   "outputs": [],
   "source": [
    "# 7)\n",
    "\n",
    "# create a square 2D array containing 1 million random integers"
   ]
  },
  {
   "cell_type": "markdown",
   "metadata": {},
   "source": [
    "### 5.2 Vectorise the following operations\n",
    "##### Vectorise the code, demonstrate that your vectorised and looped version have equal outputs, measure the relative compoutation speed"
   ]
  },
  {
   "cell_type": "code",
   "execution_count": null,
   "metadata": {},
   "outputs": [],
   "source": [
    "# 1)\n",
    "\n",
    "import numpy as np\n",
    "\n",
    "X = np.random.randint(100,size=(100000))\n",
    "\n",
    "for i in np.arange(0,len(X),1):\n",
    "    X[i] = X[i]**2\n",
    "\n",
    "print(\"size of X = \", np.size(X))\n",
    "print(\"shape of X = \", np.shape(X))\n",
    "print(\"mean of X = \", np.mean(X))"
   ]
  },
  {
   "cell_type": "code",
   "execution_count": null,
   "metadata": {},
   "outputs": [],
   "source": [
    "# 2)\n",
    "\n",
    "X = np.random.randint(100,size=(1000,1000))\n",
    "\n",
    "for i in np.arange(0,len(X[:,0]),1):\n",
    "    for j in np.arange(0,len(X[0,:]),1):\n",
    "        X[i,j] = X[i,j]**2\n",
    "\n",
    "print(\"size of X = \", np.size(X))\n",
    "print(\"shape of X = \", np.shape(X))\n",
    "print(\"mean of X = \", np.mean(X))"
   ]
  },
  {
   "cell_type": "code",
   "execution_count": null,
   "metadata": {},
   "outputs": [],
   "source": [
    "# 3)\n",
    "\n",
    "X = np.random.randint(1,100,size=(1000,1000)) #limit random numbers to 1-100 (no zeros)\n",
    "Y = np.random.randint(1,100,size=(1000,1000)) \n",
    "\n",
    "def testLoop(X,Y):\n",
    "    for i in np.arange(0,len(X[:,0]),1):\n",
    "        for j in np.arange(0,len(X[0,:]),1):\n",
    "            X[i,j] = X[i,j] / Y[i,j]\n",
    "    return\n",
    "\n",
    "%timeit testLoop(X,Y)\n",
    "            \n",
    "print(\"size of X = \", np.size(X))\n",
    "print(\"shape of X = \", np.shape(X))\n",
    "print(\"mean of X = \", np.mean(X))"
   ]
  },
  {
   "cell_type": "markdown",
   "metadata": {},
   "source": [
    "### 5.3 Broadcasting\n",
    "#### Write a custom broadcasting function that will reorganise the shapes of the following arrays to make the mathematical operations possible (i.e. instead of simply X x Y, write sequential functions that broadcast the arrays step by step). "
   ]
  },
  {
   "cell_type": "code",
   "execution_count": null,
   "metadata": {},
   "outputs": [],
   "source": [
    "# 1)\n",
    "\n",
    "X= np.arange(0,10,1)\n",
    "Y = 2\n",
    "# Multiply X and Y"
   ]
  },
  {
   "cell_type": "code",
   "execution_count": null,
   "metadata": {},
   "outputs": [],
   "source": [
    "# 2)\n",
    "\n",
    "X = np.arange(0,100,1).reshape((10,10))\n",
    "Y = 5\n",
    "# Add Y to X"
   ]
  },
  {
   "cell_type": "code",
   "execution_count": null,
   "metadata": {},
   "outputs": [],
   "source": [
    "# 3)\n",
    "\n",
    "X = np.arange(0,100,1).reshape(1,10,10)\n",
    "Y = np.arange(0,10,1).reshape(1,10)\n",
    "\n",
    "# Multiply X and Y"
   ]
  },
  {
   "cell_type": "code",
   "execution_count": null,
   "metadata": {},
   "outputs": [],
   "source": [
    "# 4)\n",
    "# write three pairs of arrays that are compatible for broadcasting and three pair that are not. Explain why!"
   ]
  },
  {
   "cell_type": "markdown",
   "metadata": {},
   "source": [
    "## 6 Reading:\n",
    "\n",
    "\n",
    "    https://docs.scipy.org/doc/numpy/reference/\n",
    "    \n",
    "    https://docs.scipy.org/doc/numpy-1.15.0/user/basics.broadcasting.html\n",
    "    \n",
    "    https://www.labri.fr/perso/nrougier/from-python-to-numpy/#memory-layout\n",
    "    \n",
    "    https://www.jessicayung.com/numpy-views-vs-copies-avoiding-costly-mistakes/\n",
    "    \n",
    "    https://jakevdp.github.io/PythonDataScienceHandbook/02.02-the-basics-of-numpy-arrays.html"
   ]
  },
  {
   "cell_type": "code",
   "execution_count": null,
   "metadata": {},
   "outputs": [],
   "source": []
  },
  {
   "cell_type": "code",
   "execution_count": null,
   "metadata": {},
   "outputs": [],
   "source": []
  }
 ],
 "metadata": {
  "kernelspec": {
   "display_name": "Python [conda env:JupyterEnv] *",
   "language": "python",
   "name": "conda-env-JupyterEnv-py"
  },
  "language_info": {
   "codemirror_mode": {
    "name": "ipython",
    "version": 3
   },
   "file_extension": ".py",
   "mimetype": "text/x-python",
   "name": "python",
   "nbconvert_exporter": "python",
   "pygments_lexer": "ipython3",
   "version": "3.7.4"
  }
 },
 "nbformat": 4,
 "nbformat_minor": 2
}
