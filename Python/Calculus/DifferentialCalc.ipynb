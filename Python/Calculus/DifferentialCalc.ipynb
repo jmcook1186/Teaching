{
 "cells": [
  {
   "cell_type": "markdown",
   "metadata": {},
   "source": [
    "# Calculus in Python:\n",
    "\n",
    "\n",
    "In this series of notebooks I will outline basic calculus in Python. This will include analytic and numeric methods using pure Python and functions from SciPy, Numy and SymPy. This is the first notebook, concerned with differential calculus including analytic differentiation, numeric differentiation, truncation and roundign errors.\n",
    "\n",
    "\n",
    "## 1. Differential Calculus"
   ]
  },
  {
   "cell_type": "markdown",
   "metadata": {},
   "source": [
    "Differential calculus is concerned with finding derivatives of functions. The derivative is the slope of a tangent to a function $f(x)$. To differentiate is to find the derivative $f'(x)$ of a function $f(x)$.\n",
    "\n",
    "<img src=\"./Assets/tangent_curve.png\" width=200 height=200 />\n",
    "\n",
    "There are two possible approaches - the analytical and the numeric. The analytic approach applies uses a set of rules to differentiate a function precisely, giving an exact equation for the derivative that is easy to solve. It could be described as the \"symbolic\" approach as it does not use actual values to compute the slope of the function, instead it uses a series of rules for rearranging symbols representing a function to give a precise symbolic representation of the derivative, which can then be evaluated by plugging in numeric values. Analytic differentiation returns an equation, not a number. That equation can be used to calculate the derivative anywhere in the entire domain of a function, rather than determining the slope of a tangent to $f(x)$ at a given value $x$.\n",
    "\n",
    "However, in many cases the analytic solution might be very difficult or impossible to evaluate. In these cases, the numeric approach is used to *estimate* the true derivative by plugging values into the function and measuring the slope between them. The behaviour of the function between two values of a function is assumed to comply with some known model such that the approximation improves as the gap between values shrinks.\n",
    "\n",
    "Python offers methods for both analytic and numeric techniques for differentiation.\n"
   ]
  },
  {
   "cell_type": "markdown",
   "metadata": {},
   "source": [
    "### 1.1 Analytic differentiation\n",
    "\n",
    "### 1.1.0 Introduction\n",
    "\n",
    "Analytic techniques in Python are achieved using SymPy (Symbolic Python). SymPy allows a user to define symbolic variables and offers built-in functions for precisely differentiating, integrating and solving equations, as well as offering convenient syntax for aesthetic presentation of equations. The power of SymPy is that is does not always return a numeric result for an operation - it returns symbolic answers, for example expanded or rearranged equations. Here, we will begin by importing the package and defining some symbolic variables and toggling \"pretty print\".\n"
   ]
  },
  {
   "cell_type": "code",
   "execution_count": 1,
   "metadata": {},
   "outputs": [],
   "source": [
    "import sympy as sym\n",
    "\n",
    "# this command toggles printing mathematical objects in \n",
    "# aesthetic typeface \n",
    "\n",
    "sym.init_printing(pretty_print=True)\n"
   ]
  },
  {
   "cell_type": "markdown",
   "metadata": {},
   "source": [
    "Now, just to clarify why SymPy is so useful, we'll use an example from the SymPy documentation. With regular Python we can take square roots using math.sqrt(). For a perfect square this returns an integer:"
   ]
  },
  {
   "cell_type": "code",
   "execution_count": 5,
   "metadata": {},
   "outputs": [
    {
     "data": {
      "image/png": "[encoded data removed]",
      "text/latex": [
       "$\\displaystyle 3.0$"
      ],
      "text/plain": [
       "3.0"
      ]
     },
     "execution_count": 5,
     "metadata": {},
     "output_type": "execute_result"
    }
   ],
   "source": [
    "import math\n",
    "math.sqrt(9)"
   ]
  },
  {
   "cell_type": "markdown",
   "metadata": {},
   "source": [
    "However, if we take the square root of a non-perfect square that returns an irrational number, e.g. $\\sqrt8$, Python will return a numeric approximation, with the precision defined by the data type used. For example, an 32 bit float will store a greater precision than an 8bit integer. However, the true answer is irrational and can only be precisely represented symbolically. This can be achieved using SymPy:"
   ]
  },
  {
   "cell_type": "code",
   "execution_count": 20,
   "metadata": {},
   "outputs": [
    {
     "name": "stdout",
     "output_type": "stream",
     "text": [
      "\n",
      "Python approximation of sqrt(8):\n",
      "\n",
      "8 bit integer:  2\n",
      "16 bit floating point number 2.828\n",
      "32 bit floating point number 2.828427\n",
      "64 bit floating point number 2.8284271247461903\n",
      "128 bit floating point number 2.828427124746190291\n",
      "\n",
      "\n",
      "Symbolic solution to sqrt(8):\n"
     ]
    },
    {
     "data": {
      "image/png": "[encoded data removed]",
      "text/latex": [
       "$\\displaystyle 2 \\sqrt{2}$"
      ],
      "text/plain": [
       "2⋅√2"
      ]
     },
     "execution_count": 20,
     "metadata": {},
     "output_type": "execute_result"
    }
   ],
   "source": [
    "import numpy as np\n",
    "print(\"\\nPython approximation of sqrt(8):\\n\")\n",
    "print(\"8 bit integer: \", np.int8(math.sqrt(8)))\n",
    "print(\"16 bit floating point number\", np.float16(math.sqrt(8)))\n",
    "print(\"32 bit floating point number\", np.float32(math.sqrt(8)))\n",
    "print(\"64 bit floating point number\", np.float64(math.sqrt(8)))\n",
    "print(\"128 bit floating point number\", np.float128(math.sqrt(8)))\n",
    "\n",
    "\n",
    "print(\"\\n\\nSymbolic solution to sqrt(8):\")\n",
    "sym.sqrt(8)\n",
    "\n"
   ]
  },
  {
   "cell_type": "markdown",
   "metadata": {},
   "source": [
    "### 1.1.1 Differentiation\n",
    "\n",
    "Moving on to differentiation, we first need to define variables and a simple function. We will use a function that is easy to differentiate manually so it is straighforward to sanity-check the answer provided by SymPy. Our function will just have one variable (x)."
   ]
  },
  {
   "cell_type": "code",
   "execution_count": 21,
   "metadata": {},
   "outputs": [],
   "source": [
    "x = sym.symbols('x')\n",
    "func = sym.cos(x)*5"
   ]
  },
  {
   "cell_type": "markdown",
   "metadata": {},
   "source": [
    "So SymPy now holds the symbolic variable $x$ and the function $f(x) = cos(x) * 5$. To differentiate this function, we can simply use the diff function, which will provide the analytic derivative of $cos(x) * 5$."
   ]
  },
  {
   "cell_type": "code",
   "execution_count": 22,
   "metadata": {},
   "outputs": [
    {
     "name": "stdout",
     "output_type": "stream",
     "text": [
      "The derivative of func f(x) = cos(x) * 5 = \n"
     ]
    },
    {
     "data": {
      "image/png": "[encoded data removed]",
      "text/latex": [
       "$\\displaystyle - 5 \\sin{\\left(x \\right)}$"
      ],
      "text/plain": [
       "-5⋅sin(x)"
      ]
     },
     "execution_count": 22,
     "metadata": {},
     "output_type": "execute_result"
    }
   ],
   "source": [
    "print(\"The derivative of func f(x) = cos(x) * 5 = \")\n",
    "sym.diff(func)\n"
   ]
  },
  {
   "cell_type": "markdown",
   "metadata": {},
   "source": [
    "Now we have seen how to define symbolic variables and functions, we can start using SymPy to revise the basic rules of differentiation, starting with some fundamental rules, then moving on t the product, power, chain and quotient rules."
   ]
  },
  {
   "cell_type": "markdown",
   "metadata": {},
   "source": [
    "### 1.1.2 Derivatives of coefficients, constants, cos, sin, log and exp\n",
    "\n",
    "We're starting by differentiating these types of functions because there are fundamental rules for them that will also be important when we look at some more complex derivatives.\n",
    "\\\n",
    "\\\n",
    "*Coefficients*\n",
    "\n",
    "When a coefficient is multiplied by a constant, the derivative is equal to the product of the derivate of the coefficient and the constant, such that:\n",
    "\n",
    "$d/dx(A* f(x)) = A* f'(x)$\n",
    "\n",
    "e.g. differentiate the function $5x^3$:\n",
    "\n",
    "$f'(x) = 5 * 3x^2 = 15x^2$\n",
    "\n",
    "\\\n",
    "\\\n",
    "*Constants*\n",
    "\n",
    "The derivative of any constant is equal to 0. This is because a constant is a straight, flat line when plotted, with a slope of 0. \n",
    "\n",
    "i.e. differentiate the function $f(x) = x + 3$\n",
    "\n",
    "the constant disappears and $x$ can be rewritten as $x^1 = 1 * x^{1-1} = 1 * x^0 = 1*1 = 1$\n",
    "\n",
    "$f'(x) = 1$\n",
    "\n",
    "\\\n",
    "\\\n",
    "*cos and sin*\n",
    "\n",
    "There is an interesting relationship between sin and cos where:\n",
    "\n",
    "$d/dx (sin(x) = cos(x)$\n",
    "\n",
    "$d/dx (cos(x) = -sin(x)$\n",
    "\\\n",
    "\\\n",
    "\\\n",
    "*Exponentials*\n",
    "\\\n",
    "\\\n",
    "Exponential functions have the surprising property that the function and the derivate are the same, i.e. the slope of the function at a given point is equal to the value of the function at that same point:\n",
    "\\\n",
    "\\\n",
    "$f(x) =  e^x $\n",
    "\n",
    "$f'(x) = e^x $\n",
    "\\\n",
    "\\\n",
    "\\\n",
    "*Logarithms*\n",
    "\\\n",
    "\\\n",
    "For logarithms, the derivative of 𝑓(𝑥)=𝑙𝑜𝑔(𝑥) is equal to 1/𝑥\n",
    "\\\n",
    "\\\n",
    "\\\n",
    "Let's just verify these derivatives using symPy:"
   ]
  },
  {
   "cell_type": "code",
   "execution_count": 29,
   "metadata": {},
   "outputs": [
    {
     "data": {
      "image/png": "[encoded data removed]",
      "text/latex": [
       "$\\displaystyle 1$"
      ],
      "text/plain": [
       "1"
      ]
     },
     "execution_count": 29,
     "metadata": {},
     "output_type": "execute_result"
    }
   ],
   "source": [
    "# DIFFERENTIATE CONSTANTS\n",
    "\n",
    "x = sym.symbols('x')\n",
    "func= x+3\n",
    "fprime = sym.diff(func)\n",
    "\n",
    "\n",
    "fprime"
   ]
  },
  {
   "cell_type": "code",
   "execution_count": 30,
   "metadata": {},
   "outputs": [
    {
     "data": {
      "image/png": "[encoded data removed]",
      "text/latex": [
       "$\\displaystyle \\cos{\\left(x \\right)}$"
      ],
      "text/plain": [
       "cos(x)"
      ]
     },
     "execution_count": 30,
     "metadata": {},
     "output_type": "execute_result"
    }
   ],
   "source": [
    "# DIFFERENTIATE SIN\n",
    "\n",
    "x = sym.symbols('x')\n",
    "func= sym.sin(x)\n",
    "fprime = sym.diff(func)\n",
    "\n",
    "\n",
    "fprime"
   ]
  },
  {
   "cell_type": "code",
   "execution_count": 31,
   "metadata": {},
   "outputs": [
    {
     "data": {
      "image/png": "[encoded data removed]",
      "text/latex": [
       "$\\displaystyle - \\sin{\\left(x \\right)}$"
      ],
      "text/plain": [
       "-sin(x)"
      ]
     },
     "execution_count": 31,
     "metadata": {},
     "output_type": "execute_result"
    }
   ],
   "source": [
    "# DIFFERENTIATE COS\n",
    "\n",
    "x = sym.symbols('x')\n",
    "func= sym.cos(x)\n",
    "fprime = sym.diff(func)\n",
    "\n",
    "fprime"
   ]
  },
  {
   "cell_type": "code",
   "execution_count": 90,
   "metadata": {},
   "outputs": [
    {
     "data": {
      "image/png": "[encoded data removed]",
      "text/latex": [
       "$\\displaystyle e^{x}$"
      ],
      "text/plain": [
       " x\n",
       "ℯ "
      ]
     },
     "execution_count": 90,
     "metadata": {},
     "output_type": "execute_result"
    }
   ],
   "source": [
    "# DIFFERENTIATE EXPONENTIAL\n",
    "\n",
    "x = sym.symbols('x')\n",
    "func= sym.exp(x)\n",
    "fprime = sym.diff(func)\n",
    "\n",
    "fprime"
   ]
  },
  {
   "cell_type": "code",
   "execution_count": 32,
   "metadata": {},
   "outputs": [
    {
     "data": {
      "image/png": "[encoded data removed]",
      "text/latex": [
       "$\\displaystyle \\frac{1}{x}$"
      ],
      "text/plain": [
       "1\n",
       "─\n",
       "x"
      ]
     },
     "execution_count": 32,
     "metadata": {},
     "output_type": "execute_result"
    }
   ],
   "source": [
    "# DIFFERENTIATE LOGARITHM\n",
    "\n",
    "x = sym.symbols('x')\n",
    "func= sym.log(x)\n",
    "fprime = sym.diff(func)\n",
    "\n",
    "fprime"
   ]
  },
  {
   "cell_type": "markdown",
   "metadata": {},
   "source": [
    "### 1.1.3 The Product Rule\n",
    "\n",
    "The product rule allows us to take the derivate of several functions multiplied together, such that a function\n",
    "\n",
    "$h(x) = (f(x) * g(x))$\n",
    "\n",
    "\n",
    "can be differentiated as\n",
    "\n",
    "\n",
    "$h'(x) = f'(x) * g(x) + f(x) * g'(x)$.\n",
    "\n",
    "For example, we can differentiate the function $h(x)$:\n",
    "\n",
    "$h(x) = sin(x) * cos(x)$\n",
    "\n",
    "$h'(x) = cos(x)* cos(x) + sin(x) * -sin(x)$\n",
    "\n",
    "which simplifies to \n",
    "\n",
    "$h'(x) = -sin^2(x)+cos^2(x)$\n",
    "\n",
    "Verify with SymPy:"
   ]
  },
  {
   "cell_type": "code",
   "execution_count": 33,
   "metadata": {},
   "outputs": [
    {
     "data": {
      "image/png": "[encoded data removed]",
      "text/latex": [
       "$\\displaystyle - \\sin^{2}{\\left(x \\right)} + \\cos^{2}{\\left(x \\right)}$"
      ],
      "text/plain": [
       "     2         2   \n",
       "- sin (x) + cos (x)"
      ]
     },
     "execution_count": 33,
     "metadata": {},
     "output_type": "execute_result"
    }
   ],
   "source": [
    "x = sym.symbols('x')\n",
    "func= sym.sin(x)*sym.cos(x)\n",
    "fprime = sym.diff(func)\n",
    "\n",
    "fprime"
   ]
  },
  {
   "cell_type": "markdown",
   "metadata": {},
   "source": [
    "### 1.1.4 The Power Rule\n",
    "\n",
    "The power rule states that for a function with an exponent, $f(x) = x^y$, the derivative $f'(x) = yx^{y-1}$. A simple example is for the function $f(x) = x^3$ the derivative $f'(x)$ is equal to $3x^{3-1} = 3x^2$.\n",
    "\n",
    "Let's do some examples with SymPy:\n",
    "\n",
    "1) Differentiate the function $f(x) = 5x^4 $\n",
    "\n",
    "We can differentiate this manually as $(5 * 4)x ^ {4-1} = 20x^3$. Check our answer using SymPy:"
   ]
  },
  {
   "cell_type": "code",
   "execution_count": 34,
   "metadata": {},
   "outputs": [
    {
     "data": {
      "image/png": "[encoded data removed]",
      "text/latex": [
       "$\\displaystyle 20 x^{3}$"
      ],
      "text/plain": [
       "    3\n",
       "20⋅x "
      ]
     },
     "execution_count": 34,
     "metadata": {},
     "output_type": "execute_result"
    }
   ],
   "source": [
    "x = sym.symbols('x')\n",
    "func= 5*x**4\n",
    "fprime = sym.diff(func)\n",
    "\n",
    "fprime"
   ]
  },
  {
   "cell_type": "markdown",
   "metadata": {},
   "source": [
    "2) Differentiate the function $6x^5$:\n",
    "\n",
    "Manually, this is $(6*5)x^{5-1} = 30x^4$. Let's check using SymPy:"
   ]
  },
  {
   "cell_type": "code",
   "execution_count": 35,
   "metadata": {},
   "outputs": [
    {
     "data": {
      "image/png": "[encoded data removed]",
      "text/latex": [
       "$\\displaystyle 30 x^{4}$"
      ],
      "text/plain": [
       "    4\n",
       "30⋅x "
      ]
     },
     "execution_count": 35,
     "metadata": {},
     "output_type": "execute_result"
    }
   ],
   "source": [
    "x = sym.symbols('x')\n",
    "func= 6*x**5\n",
    "fprime = sym.diff(func)\n",
    "\n",
    "fprime"
   ]
  },
  {
   "cell_type": "markdown",
   "metadata": {},
   "source": [
    "The power rule is slightly more nuanced when we incorporate negative exponents, such as $x^{-1}$. In these situations we follow precisely the same process so that the derivative $f'$ is equal to $-1x^{-1-1} = -1x^{-2}$. Remember that raising $x$ to a negative power is the same as the reiprocal of $x$ raised to the positive power, so the derivative can also be written as $-{1/{x^2}}$. Lets check using SymPy:"
   ]
  },
  {
   "cell_type": "code",
   "execution_count": 36,
   "metadata": {},
   "outputs": [
    {
     "data": {
      "image/png": "[encoded data removed]",
      "text/latex": [
       "$\\displaystyle - \\frac{1}{x^{2}}$"
      ],
      "text/plain": [
       "-1 \n",
       "───\n",
       "  2\n",
       " x "
      ]
     },
     "execution_count": 36,
     "metadata": {},
     "output_type": "execute_result"
    }
   ],
   "source": [
    "x = sym.symbols('x')\n",
    "func= x**-1\n",
    "fprime = sym.diff(func)\n",
    "\n",
    "fprime"
   ]
  },
  {
   "cell_type": "markdown",
   "metadata": {},
   "source": [
    "### 1.1.4 The Chain Rule\n",
    "\n",
    "The chain rule is a method for differentiating nested functions. Any time the function to be differentiated can be viewed as a composite of multiple other functions, the chain rule comes into play.\n",
    "\n",
    "$d/dx (f(g(x)) = f'(g(x))g'(x)   $\n",
    "\n",
    "what this means is that the derivative of a nested function is equal to the derivative of the outer multiplied by the derivative of the inner function. For example,\n",
    "\n",
    "$h(x) = (sin(x))^2$\n",
    "\n",
    "There are two functions here, $g(x)$ which is the inner function $sin(x)$ and the outer function $f(x) =  g(x)^2$.\n",
    "To evaluate this, we take the derivative of the outer function $f(x) = (g(x))^2$:\n",
    "\n",
    "\n",
    "$f'(x) = 2(sin(x))$\n",
    "\n",
    "The we differentiate the inner function $g(x)$:\n",
    "\n",
    "$g'(x) = cos(x)$\n",
    "\n",
    "Then we take the product of f'(x) and g'(x) to give the derivative of the whole function, h'(x):\n",
    "\n",
    "$h'(x) = 2sin(x) * cos(x)$\n",
    "\n",
    "Lets check using SymPy:"
   ]
  },
  {
   "cell_type": "code",
   "execution_count": 37,
   "metadata": {},
   "outputs": [
    {
     "data": {
      "image/png": "[encoded data removed]",
      "text/latex": [
       "$\\displaystyle 2 \\sin{\\left(x \\right)} \\cos{\\left(x \\right)}$"
      ],
      "text/plain": [
       "2⋅sin(x)⋅cos(x)"
      ]
     },
     "execution_count": 37,
     "metadata": {},
     "output_type": "execute_result"
    }
   ],
   "source": [
    "x = sym.symbols('x')\n",
    "func= (sym.sin(x))**2\n",
    "fprime = sym.diff(func)\n",
    "\n",
    "fprime"
   ]
  },
  {
   "cell_type": "markdown",
   "metadata": {},
   "source": [
    "### 1.1.5 Quotient Rule\n",
    "\n",
    "The quotient rule is a formula for taking the derivative when one function is divided by another function. The formal definition is:\n",
    "\n",
    "\n",
    "if $h(x) = f(x) / g(x)$\n",
    "\n",
    "\n",
    "$h'(x) = (f'(x)g(x) - f(x)g'(x)) / (g(x)^2 $\n",
    "\n",
    "so the quotient rule formula shows that the derivative of function f(x)/g(x) is equal to the difference between $f(x) * g(x)$ and $g'(x) * f(x)$ divided by $g(x)^2$. If we refer to the numerator as HI and the denominator as LO an the derivative as \"dee\" the quotient rule is described by the cute rhyme \"Lo Dee-Hi minus Hi Dee-Lo over the square of what's below\". \n",
    "\n",
    "Example:\n",
    "\n",
    "$h(x) = x^2 / 3x^3$\n",
    "\n",
    "$f(x) = x^2$\n",
    "\n",
    "First calculate the derivative of each function f(x) and g(x):\n",
    "\n",
    "$g(x) = 3x^3$\n",
    "\n",
    "$f'(x) = 2x$\n",
    "\n",
    "$g'(x) = 9x^2$\n",
    "\n",
    "then plug f(x), f'(x), g(x) and g'(x) into the quotient rule formula:\n",
    "\n",
    "$h'(x) = (2x * 3x^3)-(x^2 * 9x^2) / (3x^3)^2 $\n",
    "\n",
    "\n",
    "which simplifies to:\n",
    "\n",
    "$h'(x) = (6x^4 - 9x^4) / 9x^6$\n",
    "\n",
    "$h'(x) = -3x^4 / 9x^6$\n",
    "\n",
    "$h'(x) = -3/9x^2$\n",
    "\n",
    "$h'(x) = -1/3x^2$\n",
    "\n",
    "\n",
    "\n",
    "Let's check that SymPy agrees:\n"
   ]
  },
  {
   "cell_type": "code",
   "execution_count": 38,
   "metadata": {},
   "outputs": [
    {
     "data": {
      "image/png": "[encoded data removed]",
      "text/latex": [
       "$\\displaystyle - \\frac{1}{3 x^{2}}$"
      ],
      "text/plain": [
       "-1  \n",
       "────\n",
       "   2\n",
       "3⋅x "
      ]
     },
     "execution_count": 38,
     "metadata": {},
     "output_type": "execute_result"
    }
   ],
   "source": [
    "x = sym.symbols('x')\n",
    "func= x**2/(3*x**3)\n",
    "fprime = sym.diff(func)\n",
    "\n",
    "fprime"
   ]
  },
  {
   "cell_type": "markdown",
   "metadata": {},
   "source": [
    "## 2 Numerical Differentiation"
   ]
  },
  {
   "cell_type": "markdown",
   "metadata": {},
   "source": [
    "In cases where the analytical derivative is too demanding to evaluate, we fall back on numeric methods to estimate the derivative for certain positions on a function curve. There are several methods available, but all estimate the slope between two points of a function $f(x)$. For these numerical methods we do not need SymPy anymore, as we want to work with numeric data not symbols.\n",
    "\n",
    "### 2.1 Forward Difference\n",
    "\n",
    "The derivative of a function is the slope of the tangent to $f(x)$ at a certain value of $x$. This can be estimated by measuring the slope between two adjacent points on $f(x)$. The slope is defined by the ratio of the change in $f(x)$ (i.e. vertical, y dimension) that occurs over some change in $x$ (the x dimension). The smaller the step between x values, the more accurate the estimate of the derivative is likely to be. The aim of numeric diferentiation is to estimate the slope of the function as the distance between successive x values tends towards zero.\n",
    "\n",
    "If we define the step size (distance between x values) as $\\Delta x$, we can measure the slope between two x values using:\n",
    "\n",
    "$f'(x) \\approx (f(x+\\Delta x)-f(x)) / \\Delta x$\n",
    "\n",
    "This is the formula for forward differencing. It shows that the derivative can be estimated as f(x) at the greater x value minus f(x) at the lesser x value divided by the step size. We can code this up in Python for more clarity:\n"
   ]
  },
  {
   "cell_type": "code",
   "execution_count": 39,
   "metadata": {},
   "outputs": [],
   "source": [
    "def fwd_diff(x1,step,func):\n",
    "    \n",
    "    \"\"\"\n",
    "    x1 = x-value where we want to estimate the derivative\n",
    "    step = step size, delta x\n",
    "    func = lambda function describing the function to differentiate\n",
    "    \n",
    "    \"\"\"\n",
    "    y1 = func(x1) #evaluate the function at x\n",
    "    y2 = func(x1+step) #evaluate the function at x+delta_x\n",
    "    fprime = (y2-y1) / step # calculate the derivative \n",
    "    \n",
    "    return fprime\n",
    "\n"
   ]
  },
  {
   "cell_type": "markdown",
   "metadata": {},
   "source": [
    "Having defined our function, we can use it to show that the accuracy of the estimate is crude when the step size is large, and successively more accurate as the step size decreases. For this simple function we can easily generate the analytical function so we can evaluate a precise answer to compare our estimate against:"
   ]
  },
  {
   "cell_type": "code",
   "execution_count": 40,
   "metadata": {},
   "outputs": [
    {
     "data": {
      "image/png": "[encoded data removed]",
      "text/latex": [
       "$\\displaystyle 2 x$"
      ],
      "text/plain": [
       "2⋅x"
      ]
     },
     "execution_count": 40,
     "metadata": {},
     "output_type": "execute_result"
    }
   ],
   "source": [
    "# Analytical solution\n",
    "\n",
    "x = sym.symbols('x')\n",
    "func= x**2\n",
    "fprime = sym.diff(func)\n",
    "\n",
    "fprime"
   ]
  },
  {
   "cell_type": "markdown",
   "metadata": {},
   "source": [
    "We will evaluate the derivative at x = 3. Given the analytical solution $2x$ we know the precise derivative of our function at x = 3 is 6. Let's see how well our forward difference function estimates this derivative:"
   ]
  },
  {
   "cell_type": "code",
   "execution_count": 41,
   "metadata": {},
   "outputs": [
    {
     "name": "stdout",
     "output_type": "stream",
     "text": [
      "STEP =  2.0     fprime =  8.0     Error =  2.0\n",
      "STEP =  1.9     fprime =  7.9     Error =  1.9\n",
      "STEP =  1.8     fprime =  7.8     Error =  1.8\n",
      "STEP =  1.7     fprime =  7.7     Error =  1.7\n",
      "STEP =  1.6     fprime =  7.6     Error =  1.6\n",
      "STEP =  1.5     fprime =  7.5     Error =  1.5\n",
      "STEP =  1.4     fprime =  7.4     Error =  1.4\n",
      "STEP =  1.3     fprime =  7.3     Error =  1.3\n",
      "STEP =  1.2     fprime =  7.2     Error =  1.2\n",
      "STEP =  1.1     fprime =  7.1     Error =  1.1\n",
      "STEP =  1.0     fprime =  7.0     Error =  1.0\n",
      "STEP =  0.9     fprime =  6.9     Error =  0.9\n",
      "STEP =  0.8     fprime =  6.8     Error =  0.8\n",
      "STEP =  0.7     fprime =  6.7     Error =  0.7\n",
      "STEP =  0.6     fprime =  6.6     Error =  0.6\n",
      "STEP =  0.5     fprime =  6.5     Error =  0.5\n",
      "STEP =  0.4     fprime =  6.4     Error =  0.4\n",
      "STEP =  0.3     fprime =  6.3     Error =  0.3\n",
      "STEP =  0.2     fprime =  6.2     Error =  0.2\n",
      "STEP =  0.1     fprime =  6.1     Error =  0.1\n",
      "STEP =  0.01     fprime =  6.01     Error =  0.01\n",
      "STEP =  0.001     fprime =  6.001     Error =  0.001\n",
      "STEP =  0.0001     fprime =  6.0001     Error =  0.0001\n",
      "STEP =  1e-05     fprime =  6.00001     Error =  1e-05\n",
      "STEP =  1e-06     fprime =  6.000001     Error =  1e-06\n"
     ]
    }
   ],
   "source": [
    "import numpy as np\n",
    "\n",
    "x1 = 3 # the x value where we want to estimate the derivative\n",
    "\n",
    "step = [2.0, 1.9, 1.8, 1.7, 1.6, 1.5, 1.4, 1.3, 1.2, 1.1,\n",
    "        1.0, 0.9, 0.8, 0.7, 0.6, 0.5, 0.4, 0.3, 0.2, 0.1,\n",
    "        0.01, 0.001, 0.0001, 0.00001, 0.000001] # define a range of step sizes from 2 to 0.000001\n",
    "\n",
    "func = lambda x:x**2  # define our function\n",
    "\n",
    "# set up empty list to append results to for plotting later\n",
    "steps = [] \n",
    "fprimes = []\n",
    "errors = []\n",
    "\n",
    "# loop through the step sizes and make a derivative estimate using forward differencing with each\n",
    "for step in step:\n",
    "    \n",
    "    fprime = fwd_diff(x1,step,func)\n",
    "    \n",
    "    steps.append(step)\n",
    "    fprimes.append(fprime)\n",
    "    errors.append(fprime-6)\n",
    "    \n",
    "    print(\"STEP = \", step, \"    fprime = \", np.round(fprime,7), \"    Error = \", np.round(fprime-6,7))"
   ]
  },
  {
   "cell_type": "markdown",
   "metadata": {},
   "source": [
    "This shows that as the step size decreases, our estimate of the derivative gets better and better. We can plot this to make it easier to understand:"
   ]
  },
  {
   "cell_type": "code",
   "execution_count": 42,
   "metadata": {},
   "outputs": [
    {
     "data": {
      "text/plain": [
       "Text(0.5, 0, 'STEP SIZE')"
      ]
     },
     "execution_count": 42,
     "metadata": {},
     "output_type": "execute_result"
    },
    {
     "data": {
      "image/png": "[encoded data removed]",
      "text/plain": [
       "<Figure size 432x288 with 1 Axes>"
      ]
     },
     "metadata": {
      "needs_background": "light"
     },
     "output_type": "display_data"
    }
   ],
   "source": [
    "import matplotlib.pyplot as plt\n",
    "\n",
    "plt.xlim(2,0)\n",
    "plt.plot(steps,fprimes,label='estimated derivative',linestyle='None',marker='x')\n",
    "plt.plot(steps,errors,label=\"error\",linestyle='None',marker='o')\n",
    "plt.plot(steps,np.ones(len(steps))*6,label=\"analytic solution\",color='k',linestyle='--')\n",
    "plt.legend(loc='best')\n",
    "plt.ylabel(\"DERIVATIVE\")\n",
    "plt.xlabel(\"STEP SIZE\")\n"
   ]
  },
  {
   "cell_type": "markdown",
   "metadata": {},
   "source": [
    "We can see in the above plot that as the step size decreases (note the reversed x axis), the estimated derivative gets successively closer to the analytical solution and the error decreases."
   ]
  },
  {
   "cell_type": "markdown",
   "metadata": {},
   "source": [
    "### 2.2 Backwards Difference\n",
    "\n",
    "In the examples above we estimated the derivative at x = 3 using the forward differece method, wherein we calculated the difference in $f(x)$ at $x$ and $x + \\Delta x$, and divided this by step to get the local slope. This is forward differencing because $x + \\Delta x$ is slightly greater (i.e. further R on the x-axis) than $x$, i.e. looking 'forward' from x to evaluate the slope.\n",
    "\n",
    "However, it is equally valid to look 'backwards' from $x$ to estimate the slope. This is achieved by calculating the slope between $x$ and $x - \\Delta x$. This is the \"backwards difference\" method.\n",
    "\n",
    "Let's repeat the steps taken above but this time replacing forward difference with backwards difference...\n"
   ]
  },
  {
   "cell_type": "code",
   "execution_count": 43,
   "metadata": {},
   "outputs": [
    {
     "name": "stdout",
     "output_type": "stream",
     "text": [
      "STEP =  2.0     fprime =  4.0     Error =  -2.0\n",
      "STEP =  1.9     fprime =  4.1     Error =  -1.9\n",
      "STEP =  1.8     fprime =  4.2     Error =  -1.8\n",
      "STEP =  1.7     fprime =  4.3     Error =  -1.7\n",
      "STEP =  1.6     fprime =  4.4     Error =  -1.6\n",
      "STEP =  1.5     fprime =  4.5     Error =  -1.5\n",
      "STEP =  1.4     fprime =  4.6     Error =  -1.4\n",
      "STEP =  1.3     fprime =  4.7     Error =  -1.3\n",
      "STEP =  1.2     fprime =  4.8     Error =  -1.2\n",
      "STEP =  1.1     fprime =  4.9     Error =  -1.1\n",
      "STEP =  1.0     fprime =  5.0     Error =  -1.0\n",
      "STEP =  0.9     fprime =  5.1     Error =  -0.9\n",
      "STEP =  0.8     fprime =  5.2     Error =  -0.8\n",
      "STEP =  0.7     fprime =  5.3     Error =  -0.7\n",
      "STEP =  0.6     fprime =  5.4     Error =  -0.6\n",
      "STEP =  0.5     fprime =  5.5     Error =  -0.5\n",
      "STEP =  0.4     fprime =  5.6     Error =  -0.4\n",
      "STEP =  0.3     fprime =  5.7     Error =  -0.3\n",
      "STEP =  0.2     fprime =  5.8     Error =  -0.2\n",
      "STEP =  0.1     fprime =  5.9     Error =  -0.1\n",
      "STEP =  0.01     fprime =  5.99     Error =  -0.01\n",
      "STEP =  0.001     fprime =  5.999     Error =  -0.001\n",
      "STEP =  0.0001     fprime =  5.9999     Error =  -0.0001\n",
      "STEP =  1e-05     fprime =  5.99999     Error =  -1e-05\n",
      "STEP =  1e-06     fprime =  5.999999     Error =  -1e-06\n",
      "STEP =  1e-07     fprime =  5.9999999     Error =  -1e-07\n"
     ]
    }
   ],
   "source": [
    "def bwd_diff(x1,step,func):\n",
    "    \n",
    "    \"\"\"\n",
    "    x1 = x-value where we want to estimate the derivative\n",
    "    step = step size, delta x\n",
    "    func = lambda function describing the function to differentiate\n",
    "    \n",
    "    \"\"\"\n",
    "    y1 = func(x1) #evaluate the function at x\n",
    "    y2 = func(x1-step) #evaluate the function at x-delta_x\n",
    "    fprime = (y1-y2) / step # calculate the derivative \n",
    "    \n",
    "    return fprime\n",
    "\n",
    "\n",
    "x1 = 3 # the x value where we want to estimate the derivative\n",
    "\n",
    "step = [2.0, 1.9, 1.8, 1.7, 1.6, 1.5, 1.4, 1.3, 1.2, 1.1,\n",
    "        1.0, 0.9, 0.8, 0.7, 0.6, 0.5, 0.4, 0.3, 0.2, 0.1,\n",
    "        0.01, 0.001, 0.0001, 0.00001, 0.000001, 0.0000001] # define a range of step sizes from 2 to 0.000001\n",
    "\n",
    "func = lambda x:x**2  # define our function\n",
    "\n",
    "# set up empty list to append results to for plotting later\n",
    "steps = [] \n",
    "fprimes = []\n",
    "errors = []\n",
    "\n",
    "# loop through the step sizes and make a derivative estimate using forward differencing with each\n",
    "for step in step:\n",
    "    \n",
    "    fprime = bwd_diff(x1,step,func)\n",
    "    \n",
    "    steps.append(step)\n",
    "    fprimes.append(fprime)\n",
    "    errors.append(6-fprime)\n",
    "    \n",
    "    print(\"STEP = \", step, \"    fprime = \", np.round(fprime,7), \"    Error = \", np.round(fprime-6,7))"
   ]
  },
  {
   "cell_type": "code",
   "execution_count": 44,
   "metadata": {},
   "outputs": [
    {
     "data": {
      "text/plain": [
       "Text(0.5, 0, 'STEP SIZE')"
      ]
     },
     "execution_count": 44,
     "metadata": {},
     "output_type": "execute_result"
    },
    {
     "data": {
      "image/png": "[encoded data removed]",
      "text/plain": [
       "<Figure size 432x288 with 1 Axes>"
      ]
     },
     "metadata": {
      "needs_background": "light"
     },
     "output_type": "display_data"
    }
   ],
   "source": [
    "import matplotlib.pyplot as plt\n",
    "\n",
    "plt.xlim(2,0)\n",
    "plt.plot(steps,fprimes,label='estimated derivative',linestyle='None',marker='x')\n",
    "plt.plot(steps,errors,label=\"error\",linestyle='None',marker='o')\n",
    "plt.plot(steps,np.ones(len(steps))*6,label=\"analytic solution\",color='k',linestyle='--')\n",
    "plt.legend(loc='best')\n",
    "plt.ylabel(\"DERIVATIVE\")\n",
    "plt.xlabel(\"STEP SIZE\")\n"
   ]
  },
  {
   "cell_type": "markdown",
   "metadata": {},
   "source": [
    "### 2.3 Central Difference\n",
    "\n",
    "The central difference is the mean of the forward and backward difference methods and gives a generally more accurate estimate of the derivative. The reason for this is because it is more symmetric. Whereas forward differences use values on the right hand side of the target x value to generate an estimate, and backwards differncing using vaues on the left hand side, central differencing linearly interpolates from LHS to RHS effectively averaging out the errors. Let's try it in Python:"
   ]
  },
  {
   "cell_type": "code",
   "execution_count": 45,
   "metadata": {},
   "outputs": [
    {
     "name": "stdout",
     "output_type": "stream",
     "text": [
      "STEP =  2.0     fprime =  31.0     Error =  4.0\n",
      "STEP =  1.9     fprime =  30.61     Error =  3.61\n",
      "STEP =  1.8     fprime =  30.24     Error =  3.24\n",
      "STEP =  1.7     fprime =  29.89     Error =  2.89\n",
      "STEP =  1.6     fprime =  29.56     Error =  2.56\n",
      "STEP =  1.5     fprime =  29.25     Error =  2.25\n",
      "STEP =  1.4     fprime =  28.96     Error =  1.96\n",
      "STEP =  1.3     fprime =  28.69     Error =  1.69\n",
      "STEP =  1.2     fprime =  28.44     Error =  1.44\n",
      "STEP =  1.1     fprime =  28.21     Error =  1.21\n",
      "STEP =  1.0     fprime =  28.0     Error =  1.0\n",
      "STEP =  0.9     fprime =  27.81     Error =  0.81\n",
      "STEP =  0.8     fprime =  27.64     Error =  0.64\n",
      "STEP =  0.7     fprime =  27.49     Error =  0.49\n",
      "STEP =  0.6     fprime =  27.36     Error =  0.36\n",
      "STEP =  0.5     fprime =  27.25     Error =  0.25\n",
      "STEP =  0.4     fprime =  27.16     Error =  0.16\n",
      "STEP =  0.3     fprime =  27.09     Error =  0.09\n",
      "STEP =  0.2     fprime =  27.04     Error =  0.04\n",
      "STEP =  0.1     fprime =  27.01     Error =  0.01\n",
      "STEP =  0.01     fprime =  27.0001     Error =  0.0001\n",
      "STEP =  0.001     fprime =  27.000001     Error =  1e-06\n",
      "STEP =  0.0001     fprime =  27.0     Error =  0.0\n",
      "STEP =  1e-05     fprime =  27.0     Error =  0.0\n",
      "STEP =  1e-06     fprime =  27.0     Error =  0.0\n",
      "STEP =  1e-08     fprime =  26.9999999     Error =  -1e-07\n",
      "STEP =  1e-09     fprime =  27.0000022     Error =  2.2e-06\n",
      "STEP =  1e-10     fprime =  27.00002     Error =  2e-05\n",
      "STEP =  1e-11     fprime =  26.9999134     Error =  -8.66e-05\n",
      "STEP =  1e-12     fprime =  27.0024003     Error =  0.0024003\n",
      "STEP =  1e-13     fprime =  26.9650968     Error =  -0.0349032\n",
      "STEP =  1e-14     fprime =  27.7111667     Error =  0.7111667\n",
      "STEP =  1e-15     fprime =  24.8689958     Error =  -2.1310042\n"
     ]
    }
   ],
   "source": [
    "def ctl_diff(x,step,func):\n",
    "    \n",
    "    \"\"\"\n",
    "    x1 = x-value where we want to estimate the derivative\n",
    "    step = step size, delta x\n",
    "    func = lambda function describing the function to differentiate\n",
    "    \n",
    "    \"\"\"\n",
    "    \n",
    "    y1 = func(x-step) #evaluate the function at x-delta_x\n",
    "    y2 = func(x) #evaluate the function at x\n",
    "    y3 = func(x+step) #evaluate the function at x+delta_x\n",
    "    \n",
    "    fprime = (y3-y1)/(2*step) # calculate the derivative \n",
    "    \n",
    "    return fprime\n",
    "\n",
    "\n",
    "x1 = 3 # the x value where we want to estimate the derivative\n",
    "\n",
    "step = [2.0, 1.9, 1.8, 1.7, 1.6, 1.5, 1.4, 1.3, 1.2, 1.1,\n",
    "        1.0, 0.9, 0.8, 0.7, 0.6, 0.5, 0.4, 0.3, 0.2, 0.1,\n",
    "        0.01, 0.001, 0.0001, 0.00001, 0.000001,1e-8,1e-9,1e-10,1e-11,1e-12,1e-13,1e-14,1e-15] # define a range of step sizes from 2 to 0.000001\n",
    "\n",
    "func = lambda x:x**3  # define our function\n",
    "\n",
    "# set up empty list to append results to for plotting later\n",
    "steps = [] \n",
    "fprimes = []\n",
    "errors = []\n",
    "\n",
    "# loop through the step sizes and make a derivative estimate using forward differencing with each\n",
    "for step in step:\n",
    "    \n",
    "    fprime = ctl_diff(x1,step,func)\n",
    "    \n",
    "    steps.append(step)\n",
    "    fprimes.append(fprime)\n",
    "    errors.append(abs(fprime-27))\n",
    "    \n",
    "    print(\"STEP = \", step, \"    fprime = \", np.round(fprime,7), \"    Error = \", np.round(fprime-27,7))"
   ]
  },
  {
   "cell_type": "code",
   "execution_count": 46,
   "metadata": {},
   "outputs": [
    {
     "data": {
      "text/plain": [
       "Text(0.5, 0, 'STEP SIZE')"
      ]
     },
     "execution_count": 46,
     "metadata": {},
     "output_type": "execute_result"
    },
    {
     "data": {
      "image/png": "[encoded data removed]",
      "text/plain": [
       "<Figure size 432x288 with 1 Axes>"
      ]
     },
     "metadata": {
      "needs_background": "light"
     },
     "output_type": "display_data"
    }
   ],
   "source": [
    "import matplotlib.pyplot as plt\n",
    "\n",
    "plt.xlim(2,0)\n",
    "plt.plot(steps,fprimes,label='estimated derivative',linestyle='None',marker='x')\n",
    "plt.plot(steps,errors,label=\"error\",linestyle='None',marker='o')\n",
    "plt.plot(steps,np.ones(len(steps))*27,label=\"analytic solution\",color='k',linestyle='--')\n",
    "plt.legend(loc='best')\n",
    "plt.ylabel(\"DERIVATIVE\")\n",
    "plt.xlabel(\"STEP SIZE\")"
   ]
  },
  {
   "cell_type": "markdown",
   "metadata": {},
   "source": []
  },
  {
   "cell_type": "markdown",
   "metadata": {},
   "source": [
    "## 3 Error Analysis\n",
    "\n",
    "\n",
    "### Truncation error\n",
    "\n",
    "error created by truncating a mathematical procedure i.e. finishing a series at a finite point, omitting higher order terms in Taylor series expansion. Error caused by approximating a function, not rounding numbers. When we use numerical methods to estimate the derivative at $x$ we are not truly taking the limit, we are replacing the limit $x \\rightarrow 0$ with a finite step $\\Delta x$, which is why numerical methods are approximations rather than precise solutions. The error caused by using a finite step size rather than the limit $x \\rightarrow 0$ is called the \"truncation error\" or \"discretization error\". This error diminishes as the step size shrinks. In the plots above we are observing the truncation error shrinking as the step size decreases, because the approximation to the limit $x\\rightarrow 0$ is becoming more accurate.\n",
    "\n",
    "### Rounding error\n",
    "\n",
    "The rounding error is due to the precision of the computer being used to calculate derivatives. Floating point numbers have a finite precision due to the fixed number of bytes of memory used to store the values - the precision depends upon the magnitude of the value. For a process that approximates an infinitessimal limit, the available precision of floating point numbers may become significant.\n",
    "\n",
    "A simple example is the result of the sum $1/3$. The true answer is 0.33333 recurring, with an infinite number of 3's following the decimal point. However, in a computer with, say 6 available digits this number can only be represented as 0.3333 since two digits were used for the leading zero and decimal point. The error in that case is 0.00003333... with an infinite tail of 3s. Other simple examples are floating point representation of $\\pi$, or $\\sqrt(2)$ or any other irrational number.\n",
    "\n",
    "Numerical methods for estimating derivatives approximate the limit $x \\rightarrow 0$ with a finite step size $\\Delta x$. The smaller $\\Delta x$ the better the aproximation, meaning the truncation error decreases. However, the smaller the value of $\\Delta x$ the more likely it is to exceed the precision limit of the floating point data type being used. \n",
    "\n",
    "However, extremely small step sizes can simply be lost in the precision of the floating point structure used to represent them in a computer. For example, if $x = 1$ and $\\Delta x = 1e-17$ then the computer sees $x + \\Delta x$ \n",
    "as equal to 1 - i.e. $\\Delta x$ has been lost."
   ]
  },
  {
   "cell_type": "code",
   "execution_count": 47,
   "metadata": {},
   "outputs": [
    {
     "name": "stdout",
     "output_type": "stream",
     "text": [
      "1.0\n"
     ]
    }
   ],
   "source": [
    "x = 1\n",
    "del_x = 1e-17\n",
    "A = x + del_x\n",
    "\n",
    "print(A)"
   ]
  },
  {
   "cell_type": "markdown",
   "metadata": {},
   "source": [
    "This \"rounding off\" error can lead to noisy estimates of the derivatives, often causing a derivative to be grossly overestimated or estimated to be equal to 0. As the step size decreases beyond the precision of the computer, this error increases. \n",
    "\n",
    "We can observe this effect in action by repeating our central difference calculation but with an extended range of step sizes, down to 1e-17. The error in the estimated derivative decreases to a threshold, then begin to climb. The threshold is the optimal point where truncation errors and rounding errors balance.\n"
   ]
  },
  {
   "cell_type": "code",
   "execution_count": 48,
   "metadata": {},
   "outputs": [
    {
     "name": "stdout",
     "output_type": "stream",
     "text": [
      "STEP =  0.01     fprime =  27.0001     Error =  0.0001\n",
      "STEP =  0.001     fprime =  27.000001     Error =  1e-06\n",
      "STEP =  0.0001     fprime =  27.0     Error =  0.0\n",
      "STEP =  1e-05     fprime =  27.0     Error =  0.0\n",
      "STEP =  1e-06     fprime =  27.0     Error =  0.0\n",
      "STEP =  1e-08     fprime =  26.9999999     Error =  -1e-07\n",
      "STEP =  1e-09     fprime =  27.0000022     Error =  2.2e-06\n",
      "STEP =  1e-10     fprime =  27.00002     Error =  2e-05\n",
      "STEP =  1e-11     fprime =  26.9999134     Error =  -8.66e-05\n",
      "STEP =  1e-12     fprime =  27.0024003     Error =  0.0024003\n",
      "STEP =  1e-13     fprime =  26.9650968     Error =  -0.0349032\n",
      "STEP =  1e-14     fprime =  27.7111667     Error =  0.7111667\n",
      "STEP =  1e-15     fprime =  24.8689958     Error =  -2.1310042\n",
      "STEP =  1e-16     fprime =  0.0     Error =  -27.0\n",
      "STEP =  1e-17     fprime =  0.0     Error =  -27.0\n",
      "STEP =  1e-18     fprime =  0.0     Error =  -27.0\n",
      "STEP =  1e-19     fprime =  0.0     Error =  -27.0\n",
      "STEP =  1e-20     fprime =  0.0     Error =  -27.0\n"
     ]
    }
   ],
   "source": [
    "x1 = 3 # the x value where we want to estimate the derivative\n",
    "\n",
    "step = [0.01, 0.001, 0.0001, 0.00001, 0.000001,1e-8,1e-9,\n",
    "        1e-10,1e-11,1e-12,1e-13,1e-14,1e-15,1e-16,1e-17,1e-18,1e-19,1e-20] # define a range of step sizes from 2 to 0.000001\n",
    "\n",
    "func = lambda x:x**3  # define our function\n",
    "\n",
    "# set up empty list to append results to for plotting later\n",
    "steps = [] \n",
    "fprimes = []\n",
    "errors = []\n",
    "\n",
    "# loop through the step sizes and make a derivative estimate using forward differencing with each\n",
    "for step in step:\n",
    "    \n",
    "    fprime = ctl_diff(x1,step,func)\n",
    "    \n",
    "    steps.append(step)\n",
    "    fprimes.append(fprime)\n",
    "    errors.append(abs(fprime-27))\n",
    "    \n",
    "    print(\"STEP = \", step, \"    fprime = \", np.round(fprime,7), \"    Error = \", np.round(fprime-27,7))"
   ]
  },
  {
   "cell_type": "code",
   "execution_count": 49,
   "metadata": {},
   "outputs": [
    {
     "data": {
      "text/plain": [
       "Text(0.5, 0, 'STEP SIZE')"
      ]
     },
     "execution_count": 49,
     "metadata": {},
     "output_type": "execute_result"
    },
    {
     "data": {
      "image/png": "[encoded data removed]",
      "text/plain": [
       "<Figure size 432x288 with 1 Axes>"
      ]
     },
     "metadata": {
      "needs_background": "light"
     },
     "output_type": "display_data"
    }
   ],
   "source": [
    "import matplotlib.pyplot as plt\n",
    "plt.xscale('log')\n",
    "plt.xlim(1e-1,1e-20)\n",
    "plt.plot(steps,fprimes,label='estimated derivative',linestyle='None',marker='x')\n",
    "plt.plot(steps,errors,label=\"error\",linestyle='None',marker='o')\n",
    "plt.legend(loc='best')\n",
    "plt.ylabel(\"DERIVATIVE\")\n",
    "plt.xlabel(\"STEP SIZE\")"
   ]
  },
  {
   "cell_type": "markdown",
   "metadata": {},
   "source": [
    "The plot above shows estimates of the derivative of $f(x) = x^3$ at $x = 3$ close to the exact answer of $dx/dy = 27$ until the step size is less than $10^{-14}$, after which point the error climbs rapidly and the estimated derivative tends towards $dx/dy = 0$ due to round-off error."
   ]
  },
  {
   "cell_type": "markdown",
   "metadata": {},
   "source": [
    "## Summary"
   ]
  },
  {
   "cell_type": "markdown",
   "metadata": {},
   "source": [
    "In this notebook we have looked at differentiating functions. We started with the analytical solution which we obtained with symbolic operations using the Python package SymPy. The analytic solution gived a precise answer for the derivative of the function $f(x)$ at any value of x. There are a well-known set of rules for finding the analytical derivative including the product rule, power rule, chain rule and quotient rule which we outlined here and verified using SymPy.\n",
    "\n",
    "However, often the function $f(x)$ is too complex to differentiate analytically. In these cases, we fall back to numerical methods which allow us to estimate the local derivative by calculating the slope between two values of the function, with successively smaller gaps between the two values giving increasingly accurate estimates because the truncation error - the error caused by approxmating the derivative over some finite step - diminishes. However, when we use a computer to apply numerical methods to estimating derivatives, the precision of numbers stored in memory produces another type of error - the rounding error, which increases as the step size decreases. The optimum step size is therefore found where the rounding errors and truncation errors balance.\n"
   ]
  }
 ],
 "metadata": {
  "kernelspec": {
   "display_name": "Python 3",
   "language": "python",
   "name": "python3"
  },
  "language_info": {
   "codemirror_mode": {
    "name": "ipython",
    "version": 3
   },
   "file_extension": ".py",
   "mimetype": "text/x-python",
   "name": "python",
   "nbconvert_exporter": "python",
   "pygments_lexer": "ipython3",
   "version": "3.7.6"
  }
 },
 "nbformat": 4,
 "nbformat_minor": 4
}
