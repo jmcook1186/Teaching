{
 "cells": [
  {
   "cell_type": "markdown",
   "metadata": {},
   "source": [
    "# Introduction: Linux, Anaconda, Python and Packages\n",
    "### In this session we will configure our workspaces and discuss some options for getting a Python data science machine up and running. "
   ]
  },
  {
   "cell_type": "markdown",
   "metadata": {},
   "source": [
    "1. Operating system (linux or linux subsystem)\n",
    "2. Python version\n",
    "3. Python package manager/distribution\n",
    "4. IDE\n",
    "5. installing packages using pip or conda\n",
    "6. virtual environments\n",
    "7. Jupyter notebooks"
   ]
  },
  {
   "cell_type": "markdown",
   "metadata": {},
   "source": [
    "# Operating System"
   ]
  },
  {
   "cell_type": "markdown",
   "metadata": {},
   "source": [
    "There are three basic operating systems (OS) that you might like to use for your work: Windows, Linus and OSX. I advise using Linux for data science because it is very configurable, allows you access to the base workings of your machine and it has long been the OS of choice for data scientists, meaning many languages and packages run best on Linux.\n",
    "\n",
    "The managed machines at CCCU all run Windows 10. This is the OS of modern Microsoft and as such it reflects some of the updated Microsoft philosophy - embracing open code and playing nicely with Linux. So much so, that a full linux kernel is available <i>inside</i> Windows 10. This is known as the \"Linux Subsystem\" and it allows you to work in Linux without having to leave Windows or fumble around with dual-booting, hard drive partitioning and BIOS settings. It does, however, require you to establiush a remote desktop connection between the linux subsystem and the windows system if you want to use a graphical interface rather than the command line.\n",
    "\n",
    "All the classes in this course can be completed using any of the three OS's. However, I will be working in Linux. I will be making all the class materials cross-compatible between all OS's by working in an Anaconda distribution."
   ]
  },
  {
   "cell_type": "code",
   "execution_count": null,
   "metadata": {},
   "outputs": [],
   "source": []
  }
 ],
 "metadata": {
  "kernelspec": {
   "display_name": "Python [conda env:JupyterEnv] *",
   "language": "python",
   "name": "conda-env-JupyterEnv-py"
  },
  "language_info": {
   "codemirror_mode": {
    "name": "ipython",
    "version": 3
   },
   "file_extension": ".py",
   "mimetype": "text/x-python",
   "name": "python",
   "nbconvert_exporter": "python",
   "pygments_lexer": "ipython3",
   "version": "3.7.4"
  }
 },
 "nbformat": 4,
 "nbformat_minor": 2
}
