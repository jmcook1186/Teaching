{
 "cells": [
  {
   "cell_type": "markdown",
   "metadata": {},
   "source": [
    "# Linear Algebra\n",
    "\n",
    "### This notebook will use Python and Numpy to script some basic linear algebra concepts. We will avoid using numpy and scipy linalg functions because they hide the mechanics of the calculations which is counter to the aim of learning and understanding the topic. Strongly recommend doing the calculations by hand as well as using the functions here and comparing the answers.\n"
   ]
  },
  {
   "cell_type": "code",
   "execution_count": 98,
   "metadata": {},
   "outputs": [],
   "source": [
    "import numpy as np\n",
    "import matplotlib.pyplot as plt"
   ]
  },
  {
   "cell_type": "markdown",
   "metadata": {},
   "source": [
    "## Solving systems of equations\n",
    "\n",
    "### Part 1: Gaussian elimination"
   ]
  },
  {
   "cell_type": "markdown",
   "metadata": {},
   "source": [
    "First we will define some functions to allow us to perform some elementary row operations. We will then use these elementary row functions to reorganise the array A into row echelon form, then we can solve it to find values from x, y and z that satisfy all 3 equations."
   ]
  },
  {
   "cell_type": "markdown",
   "metadata": {},
   "source": [
    "First, we will need to swap rows.\n",
    "Second, we need a way to multiply individual rows by a scalar in place.\n",
    "Finally, we need a way to add multiples of rows to other rows."
   ]
  },
  {
   "cell_type": "code",
   "execution_count": 99,
   "metadata": {},
   "outputs": [],
   "source": [
    "\n",
    "def SwapRows(A, idx1, idx2):\n",
    "    \n",
    "    temp = A[idx2,:].copy()\n",
    "    A[idx2,:] =A[idx1,:]\n",
    "    A[idx1,:] = temp\n",
    "\n",
    "    return A\n",
    "\n",
    "\n",
    "def multiply_row(A,idx1,multiple):\n",
    "\n",
    "    A[idx1,:]=A[idx1,:]*multiple\n",
    "\n",
    "    return A\n",
    "\n",
    "\n",
    "\n",
    "def add_rows(A,add_to,add_from,multiple):\n",
    "\n",
    "    # start with identity matrix\n",
    "    E1 = np.array([[1,0,0],[0,1,0],[0,0,1]])\n",
    "\n",
    "    E1[add_to,add_from] = multiple\n",
    "\n",
    "    A = E1@A\n",
    "\n",
    "    return A\n"
   ]
  },
  {
   "cell_type": "markdown",
   "metadata": {},
   "source": [
    "Now we have these elementary row operations available to us, we can start to rearrange an array into row echelon form.\n",
    "\n",
    "Let's set up an initial array that represents the following system of 3 linear equations:\n",
    "\n",
    "$x + 2y + 3z = 24$\n",
    "\n",
    "$2x - y + z = 3$\n",
    "\n",
    "$3x + 4y -5z = -6$\n"
   ]
  },
  {
   "cell_type": "code",
   "execution_count": 100,
   "metadata": {},
   "outputs": [
    {
     "name": "stdout",
     "output_type": "stream",
     "text": [
      "[[ 1  2  3 24]\n",
      " [ 2 -1  1  3]\n",
      " [ 3  4 -5 -6]]\n"
     ]
    }
   ],
   "source": [
    "A = np.array([[1,2,3,24],[2,-1,1,3],[3,4,-5,-6]])\n",
    "\n",
    "print(A)"
   ]
  },
  {
   "cell_type": "markdown",
   "metadata": {
    "slideshow": {
     "slide_type": "slide"
    }
   },
   "source": [
    "The following sequence of swaps, additions and multiplications reorganizes the array into row echelon form. hThere is probably a more efficient route - I determined this way to work, please feel free to try to find a better sequence."
   ]
  },
  {
   "cell_type": "code",
   "execution_count": 101,
   "metadata": {},
   "outputs": [
    {
     "name": "stdout",
     "output_type": "stream",
     "text": [
      "Array A in Row Echelon Form\n",
      "\n",
      " [[   1    2    3   24]\n",
      " [   0   -5   -5  -45]\n",
      " [   0    0  -60 -300]]\n"
     ]
    }
   ],
   "source": [
    "\n",
    "A = SwapRows(A,0,1)\n",
    "A = SwapRows(A,0,2)\n",
    "A = SwapRows(A,1,2)\n",
    "A = add_rows(A,1,2,-1)\n",
    "A = add_rows(A,1,2,-1)\n",
    "A = SwapRows(A,1,2)\n",
    "A = add_rows(A,0,2,-1)\n",
    "A = add_rows(A,0,1,-3)\n",
    "A = SwapRows(A,0,1)\n",
    "A = multiply_row(A,1,5)\n",
    "A = add_rows(A,1,2,3)\n",
    "A = SwapRows(A,1,2)\n",
    "\n",
    "\n",
    "print(\"Array A in Row Echelon Form\\n\\n\",A)"
   ]
  },
  {
   "cell_type": "markdown",
   "metadata": {},
   "source": [
    "This yields a sequence of equations that can easily be solved by cascading variable values up the array, since:\n",
    "\n",
    "$-60z = -300$\n",
    "\n",
    "$-5y -5z = -45$\n",
    "\n",
    "$x + 2y + 3z = 24$\n",
    "\n"
   ]
  },
  {
   "cell_type": "markdown",
   "metadata": {},
   "source": [
    "$$\n",
    "$$\n",
    "$ z = -300 / -60$,\n",
    "\n",
    "so $z = 5 $\n",
    "$$\n",
    "$$\n",
    "$ -5 y - (-5 * 5) = -45$, \n",
    "$$\n",
    "$$\n",
    "so $y = 4 $\n",
    "$$\n",
    "$$\n",
    "$ z + (2 * 4) + (3 * 5) = 24$, \n",
    "$$\n",
    "$$\n",
    "so $x = 1 $\n",
    "$$\n",
    "$$\n"
   ]
  },
  {
   "cell_type": "markdown",
   "metadata": {},
   "source": [
    "This has therefore given the solution to the system of equations:\n",
    "\n",
    "$x = 1$\n",
    "\n",
    "$y = 4$\n",
    "\n",
    "$z = 5$\n"
   ]
  },
  {
   "cell_type": "markdown",
   "metadata": {},
   "source": [
    "### Part 2: Gauss-Jordan elimination"
   ]
  },
  {
   "cell_type": "markdown",
   "metadata": {},
   "source": [
    "We could also achieve this using Gauss-Jordan elimination by reducing the row-echelon form to give the values for x,y and z in the augmented matrix. The aim of this is to reduce the system matrix to be equal to the identity matrix. The augmented matrix then represents the solution to the system of equations."
   ]
  },
  {
   "cell_type": "code",
   "execution_count": 102,
   "metadata": {},
   "outputs": [],
   "source": [
    "A = multiply_row(A,0,5)\n",
    "A = multiply_row(A,1,2)\n",
    "A = add_rows(A,0,1,0)\n",
    "A = add_rows(A,0,1,1)\n",
    "A = multiply_row(A,0,1/5)\n",
    "A = multiply_row(A,1,-1/10)\n",
    "A = multiply_row(A,2,-1/60)\n",
    "A = add_rows(A,0,2,-1)\n",
    "A = add_rows(A,1,2,-1)"
   ]
  },
  {
   "cell_type": "code",
   "execution_count": 103,
   "metadata": {},
   "outputs": [
    {
     "name": "stdout",
     "output_type": "stream",
     "text": [
      "A in REDUCED ECHELON FORM\n",
      "\n",
      "\n",
      "[[1 0 0 1]\n",
      " [0 1 0 4]\n",
      " [0 0 1 5]]\n",
      "\n"
     ]
    }
   ],
   "source": [
    "print(\"A in REDUCED ECHELON FORM\\n\\n\")\n",
    "print(A)\n",
    "print()"
   ]
  },
  {
   "cell_type": "markdown",
   "metadata": {},
   "source": [
    "The augmented matrix in reduced row echelon form offers a solution in the form of x, y and z values in rows 0, 1 and 2. Again, this method gives:\n",
    "\n",
    "$x = 1$\n",
    "\n",
    "$y = 4$\n",
    "\n",
    "$z = 5$"
   ]
  },
  {
   "cell_type": "markdown",
   "metadata": {},
   "source": [
    "### Part 3: Numpy's solver"
   ]
  },
  {
   "cell_type": "markdown",
   "metadata": {},
   "source": [
    "To be completely sure we have the correct answer we can also fall back to Numpy.linalg's solver. To do this we import the relevant package and pass the system matrix and the augmented matrix as separate variables."
   ]
  },
  {
   "cell_type": "code",
   "execution_count": 104,
   "metadata": {},
   "outputs": [
    {
     "name": "stdout",
     "output_type": "stream",
     "text": [
      "System Matrix M:\n",
      "\n",
      "\n",
      " [[ 1  2  3 24]\n",
      " [ 2 -1  1  3]\n",
      " [ 3  4 -5 -6]]\n",
      "\n",
      "Augmented matrix, b\n",
      "\n",
      " [24  3 -6]\n"
     ]
    }
   ],
   "source": [
    "# import our original matrix\n",
    "A = np.array([[1,2,3,24],[2,-1,1,3],[3,4,-5,-6]])\n",
    "\n",
    "# separate into system matrix (M) and augmented matrix (b)\n",
    "M = A[:,0:-1]\n",
    "b = A[:,-1]\n",
    "\n",
    "print(\"System Matrix M:\\n\")\n",
    "print(\"\\n\",A)\n",
    "print(\"\\nAugmented matrix, b\")\n",
    "print(\"\\n\",b)"
   ]
  },
  {
   "cell_type": "code",
   "execution_count": 105,
   "metadata": {},
   "outputs": [
    {
     "name": "stdout",
     "output_type": "stream",
     "text": [
      "x =  1.0\n",
      "y =  4.0\n",
      "z =  5.0\n"
     ]
    }
   ],
   "source": [
    "from numpy.linalg import solve as slv\n",
    "\n",
    "x,y,z = slv(M,b)\n",
    "\n",
    "print(\"x = \",np.round(x,0))\n",
    "print(\"y = \",np.round(y,0))\n",
    "print(\"z = \",np.round(z,0))"
   ]
  },
  {
   "cell_type": "markdown",
   "metadata": {},
   "source": [
    "Success - the three methods all provide the same solutions!"
   ]
  }
 ],
 "metadata": {
  "kernelspec": {
   "display_name": "Python 3.6.10 64-bit",
   "language": "python",
   "name": "python361064bitbb4a5fc2406f4d7b9b84e5937944c885"
  },
  "language_info": {
   "codemirror_mode": {
    "name": "ipython",
    "version": 3
   },
   "file_extension": ".py",
   "mimetype": "text/x-python",
   "name": "python",
   "nbconvert_exporter": "python",
   "pygments_lexer": "ipython3",
   "version": "3.6.10"
  }
 },
 "nbformat": 4,
 "nbformat_minor": 2
}
