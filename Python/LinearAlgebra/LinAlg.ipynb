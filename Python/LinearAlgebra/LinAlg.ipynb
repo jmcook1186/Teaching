{
 "cells": [
  {
   "cell_type": "markdown",
   "metadata": {},
   "source": [
    "# Linear Algebra\n",
    "\n",
    "### This notebook will use Python and Numpy to script some basic linear algebra concepts. We will avoid using numpy and scipy linalg functions because they hide the mechanics of the calculations which is counter to the aim of learning and understanding the topic. I strongly recommend doing the calculations by hand as well as using the functions here and comparing the answers.\n"
   ]
  },
  {
   "cell_type": "code",
   "execution_count": 1,
   "metadata": {},
   "outputs": [],
   "source": [
    "import numpy as np\n",
    "import matplotlib.pyplot as plt"
   ]
  },
  {
   "cell_type": "markdown",
   "metadata": {},
   "source": [
    "## Dot Products"
   ]
  },
  {
   "cell_type": "markdown",
   "metadata": {},
   "source": [
    "### The concept\n",
    "\n",
    "The dot product is a flavour of multiplication that takes into account the similarities between two vectors. It is often described as \"directional multiplication\" or \"the push that one vector gives another\" or \"applying one vector to another\". It can be thought of as a measure of similarity because it operates on shared dimensions and ignores interactions between different dimensions, i.e. the sum of (x * x, y * y, z * z). It returns a scalar - i.e. a single digit, a point, a dot! \n",
    "\n",
    "The dot product returns a scalar from two vectors, or a vector from a matrix and a vector. \n",
    "\n",
    "#### 1. The rectangular interpretation\n",
    "\n",
    "The dot product multiplies the x component and the y component of two vectors.\n",
    "\n",
    "#### 2. The rotational interpretation\n",
    "\n",
    "The dot product can be thought of as multiplying two vectors after one has been projected onto the other (i.e. it has been rotated so that both vectors line up).\n",
    "\n",
    "\n",
    "My favourite is the Mario Karts analogy explained here: https://betterexplained.com/articles/vector-calculus-understanding-the-dot-product/. In this game there are speed boosters on the track that give a greater acceleration to karts travelling parallel to the booster, wth diminishing acceleration as the kart's direction of travel becomes more perpendicular to the booster. The boost (a scalar multiplier of the kart's pre-boost velocity) is calculated as the dot product of the velocity of the kart and the velocity of the booster. This means if the kart is travelling at 0 m/s the boost is 0 (scalar * 0 = 0) and if the kart is travelling perpendicular to the booster the boost is 0 (because the component of the karts velocity vector that aligns with the booster is 0, so scalar * 0 = 0).\n",
    "\n",
    "### The calculation\n",
    "\n",
    "There are two ways to calculate the dot product. The first uses the law of cosines, the second is the sum of products.\n",
    "\n",
    "\n",
    "$a⋅b = ∥a∥ ∥b∥ cosθ$\n",
    "\n",
    "i.e. length of vector a * length of vector b * cosine of angle between vectors a and b.\n",
    "\n",
    "This method is most closely associated with the rotational explanation of the dot product, since it explicitly takes into account the angle between the two vectors.\n",
    "\n",
    "The alternative is simply to calculate the sum of element-wise products between the two vectors. i.e.\n",
    "\n",
    "$ \\Sigma (a_1b_1 , a_2b_2, ... a_n b_n) $\n",
    "\n",
    "\n",
    "### Dot Product in Python\n",
    "\n",
    "Let's start by building custom functions so we understand how the dot product is calculated. We will start with a simpe function for the sum of products method for the dot product. We will then write a short function for calculating the angle between the two vectors using a simple rearrangement of the cosine dot product equation. We will then use that angle to calculate the dot product using the law of cosines method. Finally, we will quickly check that our answers from the two methods agree with one another."
   ]
  },
  {
   "cell_type": "code",
   "execution_count": 2,
   "metadata": {},
   "outputs": [
    {
     "name": "stdout",
     "output_type": "stream",
     "text": [
      "32.0\n",
      "32\n",
      "\n",
      "RESULTS AGREE\n"
     ]
    }
   ],
   "source": [
    "######################\n",
    "# 1. Define functions\n",
    "\n",
    "def dotprod(a,b):\n",
    "    \n",
    "    \"\"\"\n",
    "    sum of products method\n",
    "    params: vector a, vector b\n",
    "    returns: result (dot product of a and b)\n",
    "    \"\"\"\n",
    "    OutList = []\n",
    "    \n",
    "    for i in np.arange(0,len(a),1):\n",
    "        \n",
    "        OutList.append(a[i]*b[i])\n",
    "    \n",
    "    result = np.sum(np.array(OutList))\n",
    "        \n",
    "    # we could alternatively use numpy built-in funcs to do this in one line without iteration\n",
    "    # result = np.sum(np.multiply(a,b)) \n",
    "    \n",
    "    return result\n",
    "\n",
    "\n",
    "def find_angle(a,b):\n",
    "    \n",
    "    \"\"\"\n",
    "    find angle between vectors a and b\n",
    "    \n",
    "    params: vector a, vector b\n",
    "    returns: angle between vectors a and b\n",
    "    \"\"\"\n",
    "    \n",
    "    a = np.array(a)\n",
    "    b = np.array(b)\n",
    "    \n",
    "    angle = (a.dot(b))/np.linalg.norm(a)*np.linalg.norm(b)\n",
    "    \n",
    "    return angle\n",
    "\n",
    "\n",
    "\n",
    "def dotprod_cosine(a,b,angle):\n",
    "    \n",
    "    \"\"\"\n",
    "    find dot product between vectors a and b using cosine method\n",
    "    \n",
    "    params: vector a, vector b\n",
    "    returns: result (dot product of a and b)\n",
    "    \n",
    "    \"\"\"\n",
    "    \n",
    "    angle = angle * (np.pi/180)\n",
    "    \n",
    "    result = np.linalg.norm(a)*np.linalg.norm(b)*np.cos(angle)\n",
    "    \n",
    "    return result\n",
    "\n",
    "\n",
    "\n",
    "######################\n",
    "# 2. Define vectors\n",
    "\n",
    "v = [4,5,6]\n",
    "w = [1,2,3]\n",
    "\n",
    "\n",
    "#######################################\n",
    "# 3. Call functions and compare results\n",
    "\n",
    "angle = find_angle(v,w)\n",
    "\n",
    "result1 = dotprod_cosine(v,w,angle)\n",
    "print(np.round(result1,0))\n",
    "\n",
    "result2 = dotprod(v,w)\n",
    "print(np.round(result2,0))\n",
    "      \n",
    "# check results agree, including numpy's .dot() function\n",
    "\n",
    "if np.round(result1,0)==np.round(result2,0)==np.round(np.dot(v,w),2):\n",
    "\n",
    "    print(\"\\nRESULTS AGREE\")\n",
    "\n",
    "else:\n",
    "    \n",
    "    print(\"RESULTS DO NOT AGREE!\")"
   ]
  },
  {
   "cell_type": "markdown",
   "metadata": {},
   "source": [
    "## Cross Product"
   ]
  },
  {
   "attachments": {
    "image.png": {
     "image/png": "[encoded data removed]"
    }
   },
   "cell_type": "markdown",
   "metadata": {},
   "source": [
    "The cross product is a cross-dimensional product - rather than meausuring similarity (shared dimensions) as the dot product does , the cross product measures dissimilarity (non-shared dimensions). \n",
    "\n",
    "The cross product between two vectors produces a third vector that is *perpendicular to both the original vectors*, i.e. a vector in the x dimension crossed with a vector in the y dimension produces a vector in the z dimension. \n",
    "\n",
    "![image.png](attachment:image.png)\n",
    "\n",
    "The magnitude (length) of that z-vector is equal to the area of the parallelogram formed by the original vectors in the x,y plane.\n",
    "\n",
    "\n",
    "The maximum magnitude of the dot product occurs when the x and y vectors are perpendicular and diminishes to zero when the x and y vectors are parallel. The concept extends to vectors in more than 2 dimensions.\n",
    "\n",
    "It is sometimes called the \"vector product\" because it returns a vector rather than a scalar value.\n",
    "\n",
    "\n",
    "### Calculation\n",
    "\n",
    "Similarly to the dot product there are multiple ways to calculate the cross product. First is the \"trigonometric\" approach and the second is the numeric approach.\n",
    "\n",
    "#### 1. The trigonometric approach \n",
    "\n",
    "The trigonometric approach multiplies the product of the length of vectors a and b by the sine of the angle between them. The result is then multiplied by the unit vector in the new dimension, to ensure the vector points in the right direction. \n",
    "\n",
    "\n",
    "$a × b = |a| |b| sin(θ) n$\n",
    "\n",
    "\n",
    "\n",
    "#### 2. The numeric approach\n",
    "\n",
    "The numeric approach calculates the difference between the products of the vectors in non-matching dimensions (i.e. for vector a and vector b that exist in dimensions x,y,z, we are *not* interested in $ ax * bx, ay * by$ or $az * bz$). So the x, y and z coordinates of the vector $c$, which is the cross product for vectors $a$ and $b$ is equal to...\n",
    "\n",
    "$cx = aybz − azby$\n",
    "\n",
    "$cy = azbx − axbz$\n",
    "\n",
    "$cz = axby − aybx$\t\n",
    "\n",
    "a simple way to see vectors in x and y dimensions producing a vector in the z dimension is to take the cross product of the unit vectors $a$ and $b$.\n",
    "\n",
    "a = [1,0,0]\n",
    "b = [0,1,0]\n",
    "\n",
    "cx = aybz - azby = 0 * 0 - 0 * 1 = 0\n",
    "cy = azbx - axbz = 0 * 0 - 1 * 0 = 0\n",
    "cz = axby - aybx = 1 * 1 - 0 * 1 = 1\n",
    "\n",
    "c = [0,0,1]\n",
    "\n",
    "\n",
    "### Cross product in Python\n",
    "\n",
    "Again we will start by building custom functions so we understand how the cross product is calculated. Then we will check the results against the NumPy built-in function."
   ]
  },
  {
   "cell_type": "code",
   "execution_count": 4,
   "metadata": {},
   "outputs": [
    {
     "name": "stdout",
     "output_type": "stream",
     "text": [
      "cross product by custom function:\n",
      "\n",
      " [-3.  6. -3.]\n",
      "\n",
      "\n",
      "cross product by NumPy func:\n",
      "\n",
      " [-3  6 -3]\n"
     ]
    }
   ],
   "source": [
    "a = [1,2,3]\n",
    "b = [4,5,6]\n",
    "\n",
    "def cross_prod(a,b):\n",
    "    \n",
    "    c = np.zeros(len(a))\n",
    "    c[0] = int(a[1]*b[2])-(a[2]*b[1])\n",
    "    c[1] = int(a[2]*b[0])-(a[0]*b[2])\n",
    "    c[2] = int(a[0]*b[1])-(a[1]*b[0])\n",
    "    \n",
    "    return c\n",
    "\n",
    "c = cross_prod(a,b)\n",
    "print(\"cross product by custom function:\\n\\n\",c)\n",
    "\n",
    "result1 = np.cross(a,b)\n",
    "print(\"\\n\\ncross product by NumPy func:\\n\\n\",result1)\n",
    "\n",
    "\n"
   ]
  },
  {
   "cell_type": "markdown",
   "metadata": {},
   "source": [
    "## Solving systems of equations\n",
    "\n",
    "### Part 1: Gaussian elimination"
   ]
  },
  {
   "cell_type": "markdown",
   "metadata": {},
   "source": [
    "First we will define some functions to allow us to perform some elementary row operations. We will then use these elementary row functions to reorganise the array A into row echelon form, then we can solve it to find values from x, y and z that satisfy all 3 equations."
   ]
  },
  {
   "cell_type": "markdown",
   "metadata": {},
   "source": [
    "First, we will need to swap rows.\n",
    "Second, we need a way to multiply individual rows by a scalar in place.\n",
    "Finally, we need a way to add multiples of rows to other rows."
   ]
  },
  {
   "cell_type": "code",
   "execution_count": 5,
   "metadata": {},
   "outputs": [],
   "source": [
    "\n",
    "def SwapRows(A, idx1, idx2):\n",
    "    \n",
    "    temp = A[idx2,:].copy()\n",
    "    A[idx2,:] =A[idx1,:]\n",
    "    A[idx1,:] = temp\n",
    "\n",
    "    return A\n",
    "\n",
    "\n",
    "def multiply_row(A,idx1,multiple):\n",
    "\n",
    "    A[idx1,:]=A[idx1,:]*multiple\n",
    "\n",
    "    return A\n",
    "\n",
    "\n",
    "\n",
    "def add_rows(A,add_to,add_from,multiple):\n",
    "\n",
    "    # start with identity matrix\n",
    "    E1 = np.array([[1,0,0],[0,1,0],[0,0,1]])\n",
    "\n",
    "    E1[add_to,add_from] = multiple\n",
    "\n",
    "    A = E1@A\n",
    "\n",
    "    return A\n"
   ]
  },
  {
   "cell_type": "markdown",
   "metadata": {},
   "source": [
    "Now we have these elementary row operations available to us, we can start to rearrange an array into row echelon form.\n",
    "\n",
    "Let's set up an initial array that represents the following system of 3 linear equations:\n",
    "\n",
    "$x + 2y + 3z = 24$\n",
    "\n",
    "$2x - y + z = 3$\n",
    "\n",
    "$3x + 4y -5z = -6$\n"
   ]
  },
  {
   "cell_type": "code",
   "execution_count": 6,
   "metadata": {},
   "outputs": [
    {
     "name": "stdout",
     "output_type": "stream",
     "text": [
      "[[ 1  2  3 24]\n",
      " [ 2 -1  1  3]\n",
      " [ 3  4 -5 -6]]\n"
     ]
    }
   ],
   "source": [
    "A = np.array([[1,2,3,24],[2,-1,1,3],[3,4,-5,-6]])\n",
    "\n",
    "print(A)"
   ]
  },
  {
   "cell_type": "markdown",
   "metadata": {
    "slideshow": {
     "slide_type": "slide"
    }
   },
   "source": [
    "The following sequence of swaps, additions and multiplications reorganizes the array into row echelon form. hThere is probably a more efficient route - I determined this way to work, please feel free to try to find a better sequence."
   ]
  },
  {
   "cell_type": "code",
   "execution_count": 7,
   "metadata": {},
   "outputs": [
    {
     "name": "stdout",
     "output_type": "stream",
     "text": [
      "Array A in Row Echelon Form\n",
      "\n",
      " [[   1    2    3   24]\n",
      " [   0   -5   -5  -45]\n",
      " [   0    0  -60 -300]]\n"
     ]
    }
   ],
   "source": [
    "\n",
    "A = SwapRows(A,0,1)\n",
    "A = SwapRows(A,0,2)\n",
    "A = SwapRows(A,1,2)\n",
    "A = add_rows(A,1,2,-1)\n",
    "A = add_rows(A,1,2,-1)\n",
    "A = SwapRows(A,1,2)\n",
    "A = add_rows(A,0,2,-1)\n",
    "A = add_rows(A,0,1,-3)\n",
    "A = SwapRows(A,0,1)\n",
    "A = multiply_row(A,1,5)\n",
    "A = add_rows(A,1,2,3)\n",
    "A = SwapRows(A,1,2)\n",
    "\n",
    "\n",
    "print(\"Array A in Row Echelon Form\\n\\n\",A)"
   ]
  },
  {
   "cell_type": "markdown",
   "metadata": {},
   "source": [
    "This yields a sequence of equations that can easily be solved by cascading variable values up the array, since:\n",
    "\n",
    "$-60z = -300$\n",
    "\n",
    "$-5y -5z = -45$\n",
    "\n",
    "$x + 2y + 3z = 24$\n",
    "\n"
   ]
  },
  {
   "cell_type": "markdown",
   "metadata": {},
   "source": [
    "$$\n",
    "$$\n",
    "$ z = -300 / -60$,\n",
    "\n",
    "so $z = 5 $\n",
    "$$\n",
    "$$\n",
    "$ -5 y - (-5 * 5) = -45$, \n",
    "$$\n",
    "$$\n",
    "so $y = 4 $\n",
    "$$\n",
    "$$\n",
    "$ z + (2 * 4) + (3 * 5) = 24$, \n",
    "$$\n",
    "$$\n",
    "so $x = 1 $\n",
    "$$\n",
    "$$\n"
   ]
  },
  {
   "cell_type": "markdown",
   "metadata": {},
   "source": [
    "This has therefore given the solution to the system of equations:\n",
    "\n",
    "$x = 1$\n",
    "\n",
    "$y = 4$\n",
    "\n",
    "$z = 5$\n"
   ]
  },
  {
   "cell_type": "markdown",
   "metadata": {},
   "source": [
    "### Part 2: Gauss-Jordan elimination"
   ]
  },
  {
   "cell_type": "markdown",
   "metadata": {},
   "source": [
    "We could also achieve this using Gauss-Jordan elimination by reducing the row-echelon form to give the values for x,y and z in the augmented matrix. The aim of this is to reduce the system matrix to be equal to the identity matrix. The augmented matrix then represents the solution to the system of equations."
   ]
  },
  {
   "cell_type": "code",
   "execution_count": 8,
   "metadata": {},
   "outputs": [],
   "source": [
    "A = multiply_row(A,0,5)\n",
    "A = multiply_row(A,1,2)\n",
    "A = add_rows(A,0,1,0)\n",
    "A = add_rows(A,0,1,1)\n",
    "A = multiply_row(A,0,1/5)\n",
    "A = multiply_row(A,1,-1/10)\n",
    "A = multiply_row(A,2,-1/60)\n",
    "A = add_rows(A,0,2,-1)\n",
    "A = add_rows(A,1,2,-1)"
   ]
  },
  {
   "cell_type": "code",
   "execution_count": 9,
   "metadata": {},
   "outputs": [
    {
     "name": "stdout",
     "output_type": "stream",
     "text": [
      "A in REDUCED ECHELON FORM\n",
      "\n",
      "\n",
      "[[1 0 0 1]\n",
      " [0 1 0 4]\n",
      " [0 0 1 5]]\n",
      "\n"
     ]
    }
   ],
   "source": [
    "print(\"A in REDUCED ECHELON FORM\\n\\n\")\n",
    "print(A)\n",
    "print()"
   ]
  },
  {
   "cell_type": "markdown",
   "metadata": {},
   "source": [
    "The augmented matrix in reduced row echelon form offers a solution in the form of x, y and z values in rows 0, 1 and 2. Again, this method gives:\n",
    "\n",
    "$x = 1$\n",
    "\n",
    "$y = 4$\n",
    "\n",
    "$z = 5$"
   ]
  },
  {
   "cell_type": "markdown",
   "metadata": {},
   "source": [
    "### Part 3: Numpy's solver"
   ]
  },
  {
   "cell_type": "markdown",
   "metadata": {},
   "source": [
    "To be completely sure we have the correct answer we can also fall back to Numpy.linalg's solver. To do this we import the relevant package and pass the system matrix and the augmented matrix as separate variables."
   ]
  },
  {
   "cell_type": "code",
   "execution_count": 10,
   "metadata": {},
   "outputs": [
    {
     "name": "stdout",
     "output_type": "stream",
     "text": [
      "System Matrix M:\n",
      "\n",
      "\n",
      " [[ 1  2  3 24]\n",
      " [ 2 -1  1  3]\n",
      " [ 3  4 -5 -6]]\n",
      "\n",
      "Augmented matrix, b\n",
      "\n",
      " [24  3 -6]\n"
     ]
    }
   ],
   "source": [
    "# import our original matrix\n",
    "A = np.array([[1,2,3,24],[2,-1,1,3],[3,4,-5,-6]])\n",
    "\n",
    "# separate into system matrix (M) and augmented matrix (b)\n",
    "M = A[:,0:-1]\n",
    "b = A[:,-1]\n",
    "\n",
    "print(\"System Matrix M:\\n\")\n",
    "print(\"\\n\",A)\n",
    "print(\"\\nAugmented matrix, b\")\n",
    "print(\"\\n\",b)"
   ]
  },
  {
   "cell_type": "code",
   "execution_count": 11,
   "metadata": {},
   "outputs": [
    {
     "name": "stdout",
     "output_type": "stream",
     "text": [
      "x =  1.0\n",
      "y =  4.0\n",
      "z =  5.0\n"
     ]
    }
   ],
   "source": [
    "from numpy.linalg import solve as slv\n",
    "\n",
    "x,y,z = slv(M,b)\n",
    "\n",
    "print(\"x = \",np.round(x,0))\n",
    "print(\"y = \",np.round(y,0))\n",
    "print(\"z = \",np.round(z,0))"
   ]
  },
  {
   "cell_type": "markdown",
   "metadata": {},
   "source": [
    "Success - the three methods all provide the same solutions!"
   ]
  },
  {
   "cell_type": "code",
   "execution_count": null,
   "metadata": {},
   "outputs": [],
   "source": []
  }
 ],
 "metadata": {
  "kernelspec": {
   "display_name": "Python 3.6.10 64-bit",
   "language": "python",
   "name": "python361064bitbb4a5fc2406f4d7b9b84e5937944c885"
  },
  "language_info": {
   "codemirror_mode": {
    "name": "ipython",
    "version": 3
   },
   "file_extension": ".py",
   "mimetype": "text/x-python",
   "name": "python",
   "nbconvert_exporter": "python",
   "pygments_lexer": "ipython3",
   "version": "3.6.10"
  }
 },
 "nbformat": 4,
 "nbformat_minor": 2
}
