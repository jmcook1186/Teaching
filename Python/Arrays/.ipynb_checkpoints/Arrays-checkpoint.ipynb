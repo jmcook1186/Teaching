{
 "cells": [
  {
   "cell_type": "markdown",
   "metadata": {},
   "source": [
    "# Arrays in Python"
   ]
  },
  {
   "cell_type": "markdown",
   "metadata": {},
   "source": [
    "<img src=\"c-array1.png\" style=\"float: left\">"
   ]
  },
  {
   "cell_type": "markdown",
   "metadata": {},
   "source": [
    "To be effective as data scientists we must understand how data is stored and abstracted, as this will enable us to make appropriate decisions about data ingestion, storage, manipulation and interpretation. In this session we will look specifically at arrays in Python - one of the most important data structures. Raw python and NumPy treat arrays differently - a distinction that underpins much of the data science that follows later in this course.\n",
    "\n",
    "## Python data structures: the double edged sword\n",
    "\n",
    "One of the major strengths of Python is that it is a <i><b> dynamically typed </b></i> language. This means a name can be linked to an object whose type changes at different times during the execution of some Python code. This gives great flexibility and makes Python easy and intuitive to use to write complex code.\n",
    "    \n",
    "The alternative to dynamically typed languages are <i><b> static typed </b></i> languages, such as C and Java. In statically-typed languages the type of each variable must be declared and held constant throughout the code execution.\n",
    "    \n",
    "With this distinction in mind, consider that Python is a high-level language built predominantly using C. That means that dynamically-typing requires manipulation of C variables \"under-the-hood\". In C, switching a variable from one type to another would lead to a compilation failure, yet Python, which is itself built using C, allows it."
   ]
  },
  {
   "cell_type": "markdown",
   "metadata": {},
   "source": [
    "Let's see that in action now - we will assign the value ten to variable \"x\" as an integer, then overwrite it as a string and a floating point value. "
   ]
  },
  {
   "cell_type": "code",
   "execution_count": 87,
   "metadata": {},
   "outputs": [],
   "source": [
    "# Demonstrating the dynamic-type nature of Python: integer, string, float\n",
    "x = 10\n",
    "x = \"ten\"\n",
    "x = 10.0"
   ]
  },
  {
   "cell_type": "code",
   "execution_count": 88,
   "metadata": {},
   "outputs": [
    {
     "name": "stdout",
     "output_type": "stream",
     "text": [
      "10.0\n"
     ]
    }
   ],
   "source": [
    "print(x)"
   ]
  },
  {
   "cell_type": "markdown",
   "metadata": {},
   "source": [
    "This enables a huge amount of flexibility for Python programmers - we don't need to explicitly assign data types to variables names and we can be effficient in juggling data-types for a single variable. However, this flexibility comes at a cost. Each Pythoin object requires additional information to be stored alongside the variable name and value to enable type-switching, which means there is a memory implication."
   ]
  },
  {
   "cell_type": "markdown",
   "metadata": {},
   "source": [
    "## What Python objects look like in memory"
   ]
  },
  {
   "cell_type": "markdown",
   "metadata": {},
   "source": [
    "Since Python is written in C, every Python object is ultimately a C structure. That structure contains the variable name and value, but also a collection of other crucial data. An integer in C is simply a name and a value (\"x\", 10). An integer in Python is a pointer to a C structure containing four items:\n",
    "\n",
    "    ob_refcnt, a reference count that helps Python silently handle memory allocation and deallocation\n",
    "    ob_type, which encodes the type of the variable\n",
    "    ob_size, which specifies the size of the following data members\n",
    "    ob_digit, which contains the actual integer value that we expect the Python variable to represent.\n",
    "    \n",
    "This is illustrated in Figure 1 below, where the C integer is simply a value, whereas the Python integer is a pointer to a structure with header information (the four items above) and the integer value.\n"
   ]
  },
  {
   "cell_type": "markdown",
   "metadata": {},
   "source": [
    "<img src=\"cint_vs_pyint.png\">\n",
    "\n",
    "<i> Figure 1: Integers in C and Python (Image from Jake van der Plas's Data Science Handbook) </i>"
   ]
  },
  {
   "cell_type": "markdown",
   "metadata": {},
   "source": [
    "## Python Lists and Arrays"
   ]
  },
  {
   "cell_type": "markdown",
   "metadata": {},
   "source": [
    "### Lists"
   ]
  },
  {
   "cell_type": "markdown",
   "metadata": {},
   "source": [
    "In Python collections of data can be stored together under a single variable name. A simple one-dimensional sequence of data can be stored as a list. A list is one of the simplest types of data container. Lists make use of the dynamic-type nature of Python, since they can contain different data types in a single container. Lists are mutable, meaning they can be altered even after their creation."
   ]
  },
  {
   "cell_type": "markdown",
   "metadata": {},
   "source": [
    "First, let's make a list containing integers..."
   ]
  },
  {
   "cell_type": "code",
   "execution_count": 89,
   "metadata": {},
   "outputs": [
    {
     "data": {
      "text/plain": [
       "[0, 1, 2, 3, 4, 5, 6, 7, 8, 9]"
      ]
     },
     "execution_count": 89,
     "metadata": {},
     "output_type": "execute_result"
    }
   ],
   "source": [
    "L = list(range(10))\n",
    "L"
   ]
  },
  {
   "cell_type": "markdown",
   "metadata": {},
   "source": [
    "Now, let's add some strings to the same container, L..."
   ]
  },
  {
   "cell_type": "code",
   "execution_count": 90,
   "metadata": {},
   "outputs": [
    {
     "data": {
      "text/plain": [
       "[0, 1, 2, 3, 4, 5, 6, 7, 8, 9, 'one', 'two', 'three']"
      ]
     },
     "execution_count": 90,
     "metadata": {},
     "output_type": "execute_result"
    }
   ],
   "source": [
    "L = L + [\"one\",\"two\",\"three\"]\n",
    "L"
   ]
  },
  {
   "cell_type": "markdown",
   "metadata": {},
   "source": [
    "Finally, let's also add some floating point numbers..."
   ]
  },
  {
   "cell_type": "code",
   "execution_count": 91,
   "metadata": {},
   "outputs": [
    {
     "data": {
      "text/plain": [
       "[0, 1, 2, 3, 4, 5, 6, 7, 8, 9, 'one', 'two', 'three', 1.0, 2.0, 3.0]"
      ]
     },
     "execution_count": 91,
     "metadata": {},
     "output_type": "execute_result"
    }
   ],
   "source": [
    "L = L + [1.0, 2.0, 3.0]\n",
    "L"
   ]
  },
  {
   "cell_type": "markdown",
   "metadata": {},
   "source": [
    "\n",
    "At this stage, we have created a list and populated it with integers. Then we made use of the mutable nature of Python lists and Python's dynamic type to add strings and floats to the list. The result is a list containing three different data types in a single list. Let's just confirm with a quick check...\n",
    "\n",
    "\n",
    " "
   ]
  },
  {
   "cell_type": "code",
   "execution_count": 92,
   "metadata": {},
   "outputs": [
    {
     "name": "stdout",
     "output_type": "stream",
     "text": [
      "container type =  <class 'list'> \n",
      "type of first element =  <class 'int'> \n",
      "type of tenth element <class 'str'> \n",
      "type of final element =  <class 'float'>\n"
     ]
    }
   ],
   "source": [
    "print(\"container type = \",type(L), \"\\ntype of first element = \", type(L[0]), \n",
    "      \"\\ntype of tenth element\", type(L[11]), \"\\ntype of final element = \", type(L[-1]))"
   ]
  },
  {
   "cell_type": "markdown",
   "metadata": {},
   "source": [
    "### Arrays"
   ]
  },
  {
   "cell_type": "markdown",
   "metadata": {},
   "source": [
    "While the capability to do this is very useful, it is also inefficient and comparatively memory-hungry. Therefore, Python offers several options for storing data in static-type containers. For example, a dynamic-type \"list\" can become a static-type \"array\". In this case, we must specify the data type for the array."
   ]
  },
  {
   "cell_type": "code",
   "execution_count": 93,
   "metadata": {},
   "outputs": [
    {
     "name": "stdout",
     "output_type": "stream",
     "text": [
      "integer array =  array('i', [0, 1, 2, 3, 4, 5, 6, 7, 8, 9])\n",
      "float array =  array('f', [0.0, 1.0, 2.0, 3.0, 4.0, 5.0, 6.0, 7.0, 8.0, 9.0])\n"
     ]
    }
   ],
   "source": [
    "import array\n",
    "L = list(range(10)) # make list containing ten integers\n",
    "integer_array = array.array('i',L) # convert list to static-type array of integers\n",
    "float_array = array.array('f',L) # convert list L to static-type array of floats\n",
    "\n",
    "print(\"integer array = \", integer_array)\n",
    "print(\"float array = \", float_array)"
   ]
  },
  {
   "cell_type": "markdown",
   "metadata": {},
   "source": [
    "### NumPy arrays"
   ]
  },
  {
   "cell_type": "markdown",
   "metadata": {},
   "source": [
    "The size of the array in memory is much less than the size of the list because the type is static and the header information required for each object is reduced. The Python package \"NumPy\" (numerical python) has its own array structure that is also static-type. However, there is also a rich collection of operations designed specifically to operate efficiently on numpy arrays."
   ]
  },
  {
   "cell_type": "markdown",
   "metadata": {},
   "source": [
    "<img src=\"array_vs_list.png\">\n",
    "\n",
    "<i> Figure 1: Comparison of structure of numpy arrays and lists (Image from Jake van der Plas's Data Science Handbook) </i>"
   ]
  },
  {
   "cell_type": "markdown",
   "metadata": {},
   "source": [
    "First we will import numpy under the alias np, then convert our list, integer array and float array to numpy arrays."
   ]
  },
  {
   "cell_type": "code",
   "execution_count": 94,
   "metadata": {},
   "outputs": [
    {
     "name": "stdout",
     "output_type": "stream",
     "text": [
      "A type =  <class 'numpy.ndarray'> A content type =  <class 'numpy.int64'> A contents =  [0 1 2 3 4 5 6 7 8 9]\n",
      "B type =  <class 'numpy.ndarray'> B content type =  <class 'numpy.int32'> B contents =  [0 1 2 3 4 5 6 7 8 9]\n",
      "C type =  <class 'numpy.ndarray'> C content type =  <class 'numpy.float32'> C contents =  [0. 1. 2. 3. 4. 5. 6. 7. 8. 9.]\n"
     ]
    }
   ],
   "source": [
    "import numpy as np\n",
    "\n",
    "A = np.array(L)\n",
    "B = np.array(integer_array)\n",
    "C = np.array(float_array)\n",
    "\n",
    "print(\"A type = \", type(A), \"A content type = \", type(A[0]), \"A contents = \", A)\n",
    "print(\"B type = \", type(B), \"B content type = \", type(B[0]), \"B contents = \", B)\n",
    "print(\"C type = \", type(C), \"C content type = \", type(C[0]), \"C contents = \", C)\n",
    "\n"
   ]
  },
  {
   "cell_type": "markdown",
   "metadata": {},
   "source": [
    "Notice that the type of all three containers are numpy arrays, but the types of the contents differ in each array. The original list is converted into 64 bit integers. Where we have defined the data type as \"integer\" it has been as 32 bit integers. In array C the floating point numbers from \"float_array\" are still floating point numbers. We can change the data type by explicitly defining it in the array creation."
   ]
  },
  {
   "cell_type": "code",
   "execution_count": 95,
   "metadata": {},
   "outputs": [
    {
     "name": "stdout",
     "output_type": "stream",
     "text": [
      "Type of container =  <class 'numpy.ndarray'> type of content =  <class 'numpy.int64'>\n",
      "[0 1 2 3 4 5 6 7 8 9]\n"
     ]
    }
   ],
   "source": [
    "A = np.array(L,dtype=\"int64\")\n",
    "print(\"Type of container = \", type(A), \"type of content = \", type(A[0]))\n",
    "print(A)"
   ]
  },
  {
   "cell_type": "markdown",
   "metadata": {},
   "source": [
    "The reason arrays and numpy arrays are more memory efficient than lists (or, worse - lists of lists!) is that they are static type - each element in the structure is a single value of a fixed type, so the additional overheads necessary for dynamic typing are stripped away and data type information can be stord once for the array as a whole rather than for each element. Below we create three data structures - numpy array, python array and python list - and apply a function by looping over each element. Then we print the amount of memory (bytes) each data structure occupies on disk.\n"
   ]
  },
  {
   "cell_type": "code",
   "execution_count": 96,
   "metadata": {},
   "outputs": [
    {
     "name": "stdout",
     "output_type": "stream",
     "text": [
      "191 ms ± 5.39 ms per loop (mean ± std. dev. of 7 runs, 10 loops each)\n",
      "227 ms ± 1.79 ms per loop (mean ± std. dev. of 7 runs, 1 loop each)\n",
      "218 ms ± 4.52 ms per loop (mean ± std. dev. of 7 runs, 1 loop each)\n",
      "size of numpy_array =  8000096\n",
      "size of python_array =  8183800\n",
      "size of python_list =  9000120\n"
     ]
    }
   ],
   "source": [
    "#set up three identical datasets as different structures\n",
    "numpy_array = np.array(range(1000000),dtype='int') # create numpy array\n",
    "python_array = array.array('q',range(1000000)) # create python array - q = 8bit integer\n",
    "python_list = list(range(1000000)) # create python list\n",
    "\n",
    "\n",
    "# time a simple element-wise squaring\n",
    "%timeit [i **2 for i in numpy_array]\n",
    "%timeit [i **2 for i in python_array]\n",
    "%timeit [i **2 for i in python_list]\n",
    "\n",
    "# display size of each dataset on disk\n",
    "import sys\n",
    "print(\"size of numpy_array = \", sys.getsizeof(numpy_array))\n",
    "print(\"size of python_array = \", sys.getsizeof(python_array))\n",
    "print(\"size of python_list = \", sys.getsizeof(python_list))\n"
   ]
  },
  {
   "cell_type": "markdown",
   "metadata": {},
   "source": [
    "Notice that the numpy array has the smallest memory allocation and fastest computation time - this is because it is a static type data structure that consists of a continuous 1D sequence of values, with the structure size, shape and data type all saved once at the array level rather than element-wise. The list has by far the highest memory allocation because it is dynamically-typed and each element in the array has its own header information. Notice also that performing the operation over the numpy array was not dramatically faster than operating over the python array or list. This is because we applied the function in a loop that forced numpy to access each element in turn."
   ]
  },
  {
   "cell_type": "markdown",
   "metadata": {},
   "source": [
    "However, the real power of numpy becomes apparent when we consider the implicit vectorisation and efficient storage of complex multidimensional data. Where we can vectorise computation over a numpy array the computation speed is very high, but applying loops to numpy arrays is comparatively slow. We can demonstrate this by applying the same function, but allowing numpy to vectorise..."
   ]
  },
  {
   "cell_type": "code",
   "execution_count": 11,
   "metadata": {},
   "outputs": [
    {
     "name": "stdout",
     "output_type": "stream",
     "text": [
      "1.01 ms ± 78.8 µs per loop (mean ± std. dev. of 7 runs, 1000 loops each)\n"
     ]
    }
   ],
   "source": [
    "%timeit numpy_array **2 # vectorise"
   ]
  },
  {
   "cell_type": "markdown",
   "metadata": {},
   "source": [
    "The computation speed for the numpy array has increased by a factor of ~60,000! This is an important point to note - looping over elements in numpy arrays is inefficient and should be avoided where possible, whereas vectorised operations over numpy arrays are very efficient and should be used as often as possible!"
   ]
  },
  {
   "cell_type": "markdown",
   "metadata": {},
   "source": [
    "### Visualising 1D arrays"
   ]
  },
  {
   "cell_type": "markdown",
   "metadata": {},
   "source": [
    "We can visualise the array using the Python package Matplotlib. As the array has one dimension it can easily be plotted on a simple x,y plot where the x value is simply the index of each element in the array."
   ]
  },
  {
   "cell_type": "code",
   "execution_count": 67,
   "metadata": {},
   "outputs": [
    {
     "data": {
      "text/plain": [
       "(<Figure size 720x576 with 1 Axes>,\n",
       " [<matplotlib.lines.Line2D at 0x7f1f26891d50>])"
      ]
     },
     "execution_count": 67,
     "metadata": {},
     "output_type": "execute_result"
    },
    {
     "data": {
      "image/png": "[encoded data removed]",
      "text/plain": [
       "<Figure size 720x576 with 1 Axes>"
      ]
     },
     "metadata": {
      "needs_background": "light"
     },
     "output_type": "display_data"
    }
   ],
   "source": [
    "import matplotlib.pyplot as plt\n",
    "numpy_array = np.array(np.sin(np.arange(0,100,1)))\n",
    "plt.figure(figsize=(10,8)),plt.plot(numpy_array)"
   ]
  },
  {
   "cell_type": "markdown",
   "metadata": {},
   "source": [
    "## Multidimensional Numpy Arrays"
   ]
  },
  {
   "cell_type": "markdown",
   "metadata": {},
   "source": [
    "### 2D Arrays"
   ]
  },
  {
   "cell_type": "markdown",
   "metadata": {},
   "source": [
    "So far, we have used arrays with only one dimension - i.e. a single row of elements. However, numpy really comes into it's own when dealing with multidimensional arrays. A two dimensional array would look something like a table, or an Excel spreadsheet in that there are both rows and columns. Let's take a look at a random set of integers organised into a 2D array:"
   ]
  },
  {
   "cell_type": "code",
   "execution_count": 13,
   "metadata": {},
   "outputs": [
    {
     "data": {
      "text/plain": [
       "array([[24, 45, 20, 80, 29, 90, 83, 44, 49, 33],\n",
       "       [39,  5, 39, 75, 15, 49, 48, 52, 54, 91],\n",
       "       [93, 73, 94, 86, 50, 88,  9, 19, 58, 70],\n",
       "       [14, 26, 53, 52, 67, 55, 11,  5, 91, 61],\n",
       "       [88, 27,  1, 39, 50, 44, 61, 43, 86, 33],\n",
       "       [47, 62, 12, 17, 38, 76, 65,  2, 70,  9],\n",
       "       [33,  9, 54, 27, 29, 98, 22, 20, 70, 60],\n",
       "       [26, 59, 43, 18, 32, 94, 59, 42, 69, 37],\n",
       "       [74, 39, 37, 41, 22, 81, 60, 56, 69, 13],\n",
       "       [40, 76, 15,  6, 75, 32, 66, 81, 24, 18]])"
      ]
     },
     "execution_count": 13,
     "metadata": {},
     "output_type": "execute_result"
    }
   ],
   "source": [
    "twoDimArray = np.random.randint(100, size=(10, 10))\n",
    "twoDimArray"
   ]
  },
  {
   "cell_type": "markdown",
   "metadata": {},
   "source": [
    "We can use numpy's native functions to query this 2D array and gather information about its structure and contents"
   ]
  },
  {
   "cell_type": "code",
   "execution_count": 14,
   "metadata": {},
   "outputs": [
    {
     "name": "stdout",
     "output_type": "stream",
     "text": [
      "100\n",
      "(10, 10)\n",
      "47.35\n",
      "26.01\n"
     ]
    }
   ],
   "source": [
    "size = np.size(twoDimArray)\n",
    "shape = np.shape(twoDimArray)\n",
    "mean = np.mean(twoDimArray)\n",
    "stdev = np.std(twoDimArray)\n",
    "\n",
    "print(size)\n",
    "print(shape)\n",
    "print(mean)\n",
    "print(np.round(stdev,2))"
   ]
  },
  {
   "cell_type": "markdown",
   "metadata": {},
   "source": [
    "Let's create a list of 10 lists, each containing 10000 elements. This is equivalent to creating a 10 x 100000 element array, but the value are stored in 10 list objects. We can check the size and shape to confirm this..."
   ]
  },
  {
   "cell_type": "code",
   "execution_count": 48,
   "metadata": {},
   "outputs": [
    {
     "name": "stdout",
     "output_type": "stream",
     "text": [
      "10\n",
      "100000\n"
     ]
    }
   ],
   "source": [
    "L1 = list(range(10000))\n",
    "L2 = list(range(10000))\n",
    "L3 = list(range(10000))\n",
    "L = list([L1,L1,L1,L1,L1,L1,L1,L1,L1,L1])\n",
    "\n",
    "print(len(L))\n",
    "print(np.size(L))"
   ]
  },
  {
   "cell_type": "markdown",
   "metadata": {},
   "source": [
    "Now we organise the same data into a 2D array of identical shape and size, but this time the container is a NumPy array..."
   ]
  },
  {
   "cell_type": "code",
   "execution_count": 55,
   "metadata": {},
   "outputs": [
    {
     "name": "stdout",
     "output_type": "stream",
     "text": [
      "(10, 10000)\n"
     ]
    }
   ],
   "source": [
    "nparray = np.arange(0,100000,1).reshape(10,10000)\n",
    "print(np.shape(nparray))"
   ]
  },
  {
   "cell_type": "code",
   "execution_count": 66,
   "metadata": {},
   "outputs": [
    {
     "name": "stdout",
     "output_type": "stream",
     "text": [
      "size of list of lists =  208\n",
      "size of numpy array =  112\n",
      "20.6 ms ± 237 µs per loop (mean ± std. dev. of 7 runs, 10 loops each)\n",
      "52.3 µs ± 2.32 µs per loop (mean ± std. dev. of 7 runs, 10000 loops each)\n",
      "38.6 µs ± 1.65 µs per loop (mean ± std. dev. of 7 runs, 10000 loops each)\n"
     ]
    }
   ],
   "source": [
    "print(\"size of list of lists = \",sys.getsizeof(L)) \n",
    "print(\"size of numpy array = \", sys.getsizeof(nparray))\n",
    "\n",
    "%timeit [[i**2 for i in p] for p in L]  #nested list comprehension to loop through individual list, then list of lists\n",
    "%timeit [i**2 for i in nparray]\n",
    "%timeit nparray**2"
   ]
  },
  {
   "cell_type": "markdown",
   "metadata": {},
   "source": [
    "As for the 1D examples, the size on disk and the computation time are both reducd significantly by using numpy arrays instead of lists, and especially when the operation is vectorised."
   ]
  },
  {
   "cell_type": "markdown",
   "metadata": {},
   "source": [
    "### Slicing Arrays"
   ]
  },
  {
   "cell_type": "markdown",
   "metadata": {},
   "source": [
    "We can identify individual elements in the array by defining a row and column index..."
   ]
  },
  {
   "cell_type": "code",
   "execution_count": 15,
   "metadata": {},
   "outputs": [
    {
     "name": "stdout",
     "output_type": "stream",
     "text": [
      "element in top left of array (i.e. first element) =  24\n",
      "element in bottom right of array (i.e. last element) 18\n",
      "element at bottom of second column =  76\n"
     ]
    }
   ],
   "source": [
    "print(\"element in top left of array (i.e. first element) = \", twoDimArray[0,0])\n",
    "print(\"element in bottom right of array (i.e. last element)\", twoDimArray[-1,-1])\n",
    "print(\"element at bottom of second column = \", twoDimArray[-1,1])"
   ]
  },
  {
   "cell_type": "markdown",
   "metadata": {},
   "source": [
    "Or we can identify entire rows and columns, or sections of rows and columns..."
   ]
  },
  {
   "cell_type": "code",
   "execution_count": 16,
   "metadata": {},
   "outputs": [
    {
     "name": "stdout",
     "output_type": "stream",
     "text": [
      "entire first row =  [24 45 20 80 29 90 83 44 49 33]\n",
      "entire second column =  [45  5 73 26 27 62  9 59 39 76]\n",
      "first 5 elements of third row =  [93 73 94 86 50]\n"
     ]
    }
   ],
   "source": [
    "print(\"entire first row = \", twoDimArray[0,:])\n",
    "print(\"entire second column = \", twoDimArray[:,1])\n",
    "print(\"first 5 elements of third row = \", twoDimArray[2,0:5])"
   ]
  },
  {
   "cell_type": "markdown",
   "metadata": {},
   "source": [
    "This process of isolating individual elements or parts of an array is known as \"slicing\". This relies on \"indexing\" which is the concept of having a value representing the position of a dtaa element in addition to the actual value stored in that location."
   ]
  },
  {
   "cell_type": "markdown",
   "metadata": {},
   "source": [
    "### Visualiaing 2D arrays"
   ]
  },
  {
   "cell_type": "markdown",
   "metadata": {},
   "source": [
    "We can also visualise a 2D array using matplotlib. Since we have data distributed in two dimensions, this will be represented as a plane of dtaa divided up into individual pixels, with one pixel representing one element in the 2D array. For this we need to use the imshow function from matplotlib.pyplot instead of the plot function."
   ]
  },
  {
   "cell_type": "code",
   "execution_count": 68,
   "metadata": {},
   "outputs": [
    {
     "data": {
      "text/plain": [
       "(Text(0, 0.5, 'ROW INDEX'), Text(0.5, 0, 'COLUMN INDEX'))"
      ]
     },
     "execution_count": 68,
     "metadata": {},
     "output_type": "execute_result"
    },
    {
     "data": {
      "image/png": "[encoded data removed]",
      "text/plain": [
       "<Figure size 720x576 with 2 Axes>"
      ]
     },
     "metadata": {
      "needs_background": "light"
     },
     "output_type": "display_data"
    }
   ],
   "source": [
    "plt.figure(figsize=(10,8)),plt.imshow(twoDimArray),plt.colorbar(label = 'DATA VALUES')\n",
    "plt.ylabel('ROW INDEX'), plt.xlabel('COLUMN INDEX')"
   ]
  },
  {
   "cell_type": "markdown",
   "metadata": {},
   "source": [
    "### 3D Arrays"
   ]
  },
  {
   "cell_type": "markdown",
   "metadata": {},
   "source": [
    "We can also do the same thing for higher dimensional arrays. As we have seen a two dimensional array can be thought of as a dataset organised into rows and columns. Like a map, a 2D array has x and y coordinates, which are equivalent to the data indices.\n",
    "\n",
    "A three dimensional array adds the equivalent of a \"z\" dimension. This can be thought of as a vertical stack of two dimensional arrays on top of one another, where a vertically oriented column extends vertically through each index on the 2D array. Let's create a 3D array of random integers...\n"
   ]
  },
  {
   "cell_type": "code",
   "execution_count": 84,
   "metadata": {},
   "outputs": [
    {
     "data": {
      "text/plain": [
       "array([[[48, 62, 61, ..., 72, 10, 33],\n",
       "        [37, 14,  6, ..., 95, 67, 39],\n",
       "        [66, 11, 83, ..., 71, 69, 32],\n",
       "        ...,\n",
       "        [23, 89, 49, ...,  4, 35, 27],\n",
       "        [74, 75,  5, ..., 16, 33, 12],\n",
       "        [31, 87, 13, ..., 62, 17, 45]],\n",
       "\n",
       "       [[71, 45, 47, ..., 23, 52, 42],\n",
       "        [43, 92, 59, ..., 16,  9, 75],\n",
       "        [93, 23, 29, ..., 21, 86, 31],\n",
       "        ...,\n",
       "        [47, 18, 58, ..., 56, 79, 46],\n",
       "        [ 1, 64, 18, ..., 59, 91, 54],\n",
       "        [45, 23, 32, ..., 89, 96, 46]],\n",
       "\n",
       "       [[20, 75, 21, ..., 50, 57,  6],\n",
       "        [17,  1, 75, ..., 64, 68, 27],\n",
       "        [16, 23, 70, ..., 83,  3, 50],\n",
       "        ...,\n",
       "        [ 0, 84, 77, ..., 34, 64, 83],\n",
       "        [22, 74, 25, ..., 85, 48, 26],\n",
       "        [95, 33, 49, ..., 22, 16, 54]],\n",
       "\n",
       "       ...,\n",
       "\n",
       "       [[61, 41, 59, ..., 88, 18, 53],\n",
       "        [39,  9, 50, ..., 52,  8, 34],\n",
       "        [70, 39, 98, ..., 56, 36, 43],\n",
       "        ...,\n",
       "        [11, 60, 55, ..., 40, 87, 30],\n",
       "        [18, 59, 11, ..., 72, 85, 38],\n",
       "        [65, 43, 61, ..., 36, 61, 88]],\n",
       "\n",
       "       [[ 0, 69, 57, ..., 22, 40, 82],\n",
       "        [ 0, 17, 22, ..., 28, 90, 12],\n",
       "        [63, 63, 83, ..., 88, 65, 23],\n",
       "        ...,\n",
       "        [ 1, 16, 92, ..., 89, 45, 50],\n",
       "        [71, 11, 98, ..., 66,  5, 80],\n",
       "        [95, 56,  1, ..., 73, 24, 53]],\n",
       "\n",
       "       [[62, 52,  5, ..., 22,  3, 16],\n",
       "        [59, 12, 50, ..., 39, 14, 90],\n",
       "        [68,  7, 21, ..., 26, 31, 28],\n",
       "        ...,\n",
       "        [70, 93, 49, ..., 88, 23, 22],\n",
       "        [17, 43, 15, ..., 44, 16, 99],\n",
       "        [98,  5, 19, ...,  2, 14, 91]]])"
      ]
     },
     "execution_count": 84,
     "metadata": {},
     "output_type": "execute_result"
    }
   ],
   "source": [
    "threeDimArray = np.random.randint(100, size=(1000,10,10))\n",
    "threeDimArray"
   ]
  },
  {
   "cell_type": "markdown",
   "metadata": {},
   "source": [
    "Note that printing the 3D array to the console causes ten 2D arrays to be displayed. This is because these 2D arrays should be stacked into one 3 dimensional array - the third dimension, equivalent to a \"z\" axis, is deconstructed to enable us to see the entire contents of the array without stacked layers obscuring those beneath."
   ]
  },
  {
   "cell_type": "code",
   "execution_count": 85,
   "metadata": {},
   "outputs": [
    {
     "name": "stdout",
     "output_type": "stream",
     "text": [
      "(1000, 10, 10)\n",
      "100000\n"
     ]
    }
   ],
   "source": [
    "print(np.shape(threeDimArray))\n",
    "print(np.size(threeDimArray))\n"
   ]
  },
  {
   "cell_type": "code",
   "execution_count": 86,
   "metadata": {},
   "outputs": [
    {
     "name": "stdout",
     "output_type": "stream",
     "text": [
      "38 µs ± 555 ns per loop (mean ± std. dev. of 7 runs, 10000 loops each)\n"
     ]
    }
   ],
   "source": [
    "%timeit threeDimArray**2"
   ]
  },
  {
   "cell_type": "markdown",
   "metadata": {},
   "source": [
    "Notice that the computation time for applying the operation over the 3D array is the same as the computation time over the 2D array of the same size. The number of dimensions has not had a noticeable effect on computation time."
   ]
  },
  {
   "cell_type": "markdown",
   "metadata": {},
   "source": [
    "### Visualising 3D arrays"
   ]
  },
  {
   "cell_type": "code",
   "execution_count": 71,
   "metadata": {},
   "outputs": [
    {
     "data": {
      "text/plain": [
       "Text(0.5, 0.92, 'surface')"
      ]
     },
     "execution_count": 71,
     "metadata": {},
     "output_type": "execute_result"
    },
    {
     "data": {
      "image/png": "[encoded data removed]",
      "text/plain": [
       "<Figure size 720x576 with 1 Axes>"
      ]
     },
     "metadata": {
      "needs_background": "light"
     },
     "output_type": "display_data"
    }
   ],
   "source": [
    "from mpl_toolkits import mplot3d\n",
    "fig = plt.figure(figsize=(10,8))\n",
    "ax = plt.axes(projection='3d')\n",
    "ax.plot_surface(threeDimArray[0,:,:], threeDimArray[:,0,:], threeDimArray[:,:,0], rstride=1, cstride=1,\n",
    "                cmap='viridis', edgecolor='none')\n",
    "ax.set_title('surface')"
   ]
  },
  {
   "cell_type": "markdown",
   "metadata": {},
   "source": [
    "# Take-aways"
   ]
  },
  {
   "cell_type": "markdown",
   "metadata": {},
   "source": [
    "### 1. Python objects are C structures inside some wrapper code\n",
    "### 2. The less additional information stored with each value, the smaller the amount of memory required\n",
    "### 3. Arrays are structures that store multiple elements and can be multidimensional\n",
    "### 4. NumPy arrays are computationally efficient, especially when operations can be vectorised\n",
    "### 5. Looping over NumPy arrays should be avoided in favour of vectorised operations"
   ]
  },
  {
   "cell_type": "markdown",
   "metadata": {},
   "source": [
    "# Excercises:"
   ]
  },
  {
   "cell_type": "code",
   "execution_count": null,
   "metadata": {},
   "outputs": [],
   "source": [
    "# 1) Create a list containing three dtypes"
   ]
  },
  {
   "cell_type": "code",
   "execution_count": null,
   "metadata": {},
   "outputs": [],
   "source": [
    "# 2) Create a list of lists containing ordered integers so that the resulting structure has 5 rows and 5 columns"
   ]
  },
  {
   "cell_type": "code",
   "execution_count": null,
   "metadata": {},
   "outputs": [],
   "source": [
    "# 3) Turn your list from"
   ]
  },
  {
   "cell_type": "markdown",
   "metadata": {},
   "source": [
    "# Further Reading"
   ]
  },
  {
   "cell_type": "markdown",
   "metadata": {},
   "source": [
    "https://github.com/jakevdp/PythonDataScienceHandbook/blob/master/notebooks/02.02-The-Basics-Of-NumPy-Arrays.ipynb\n",
    "\n",
    "https://www.labri.fr/perso/nrougier/from-python-to-numpy/#memory-layout\n"
   ]
  },
  {
   "cell_type": "code",
   "execution_count": null,
   "metadata": {},
   "outputs": [],
   "source": []
  }
 ],
 "metadata": {
  "kernelspec": {
   "display_name": "Python [conda env:JupyterEnv] *",
   "language": "python",
   "name": "conda-env-JupyterEnv-py"
  },
  "language_info": {
   "codemirror_mode": {
    "name": "ipython",
    "version": 3
   },
   "file_extension": ".py",
   "mimetype": "text/x-python",
   "name": "python",
   "nbconvert_exporter": "python",
   "pygments_lexer": "ipython3",
   "version": "3.7.4"
  }
 },
 "nbformat": 4,
 "nbformat_minor": 2
}
